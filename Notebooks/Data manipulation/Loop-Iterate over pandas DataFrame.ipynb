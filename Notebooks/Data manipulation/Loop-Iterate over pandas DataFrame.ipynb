{
 "cells": [
  {
   "cell_type": "markdown",
   "metadata": {},
   "source": [
    "# How to Iterate/Loop over a Pandas DataFrame\n",
    "Let's import `Pandas` and `Numpy` to get started."
   ]
  },
  {
   "cell_type": "code",
   "execution_count": 1,
   "metadata": {},
   "outputs": [],
   "source": [
    "import pandas as pd\n",
    "import numpy as np"
   ]
  },
  {
   "cell_type": "markdown",
   "metadata": {},
   "source": [
    "Now we can create an example dataframe:"
   ]
  },
  {
   "cell_type": "code",
   "execution_count": 2,
   "metadata": {},
   "outputs": [
    {
     "data": {
      "text/html": [
       "<div>\n",
       "<style scoped>\n",
       "    .dataframe tbody tr th:only-of-type {\n",
       "        vertical-align: middle;\n",
       "    }\n",
       "\n",
       "    .dataframe tbody tr th {\n",
       "        vertical-align: top;\n",
       "    }\n",
       "\n",
       "    .dataframe thead th {\n",
       "        text-align: right;\n",
       "    }\n",
       "</style>\n",
       "<table border=\"1\" class=\"dataframe\">\n",
       "  <thead>\n",
       "    <tr style=\"text-align: right;\">\n",
       "      <th></th>\n",
       "      <th>A</th>\n",
       "      <th>B</th>\n",
       "      <th>C</th>\n",
       "      <th>D</th>\n",
       "      <th>E</th>\n",
       "    </tr>\n",
       "  </thead>\n",
       "  <tbody>\n",
       "    <tr>\n",
       "      <th>0</th>\n",
       "      <td>0.554527</td>\n",
       "      <td>0.389633</td>\n",
       "      <td>0.024277</td>\n",
       "      <td>0.660475</td>\n",
       "      <td>0.399419</td>\n",
       "    </tr>\n",
       "    <tr>\n",
       "      <th>1</th>\n",
       "      <td>0.066705</td>\n",
       "      <td>0.668270</td>\n",
       "      <td>0.473297</td>\n",
       "      <td>0.007648</td>\n",
       "      <td>0.300665</td>\n",
       "    </tr>\n",
       "    <tr>\n",
       "      <th>2</th>\n",
       "      <td>0.997717</td>\n",
       "      <td>0.734364</td>\n",
       "      <td>0.718288</td>\n",
       "      <td>0.410890</td>\n",
       "      <td>0.271431</td>\n",
       "    </tr>\n",
       "    <tr>\n",
       "      <th>3</th>\n",
       "      <td>0.175517</td>\n",
       "      <td>0.799431</td>\n",
       "      <td>0.820741</td>\n",
       "      <td>0.300792</td>\n",
       "      <td>0.302119</td>\n",
       "    </tr>\n",
       "    <tr>\n",
       "      <th>4</th>\n",
       "      <td>0.301502</td>\n",
       "      <td>0.178007</td>\n",
       "      <td>0.053361</td>\n",
       "      <td>0.761780</td>\n",
       "      <td>0.462002</td>\n",
       "    </tr>\n",
       "  </tbody>\n",
       "</table>\n",
       "</div>"
      ],
      "text/plain": [
       "          A         B         C         D         E\n",
       "0  0.554527  0.389633  0.024277  0.660475  0.399419\n",
       "1  0.066705  0.668270  0.473297  0.007648  0.300665\n",
       "2  0.997717  0.734364  0.718288  0.410890  0.271431\n",
       "3  0.175517  0.799431  0.820741  0.300792  0.302119\n",
       "4  0.301502  0.178007  0.053361  0.761780  0.462002"
      ]
     },
     "execution_count": 2,
     "metadata": {},
     "output_type": "execute_result"
    }
   ],
   "source": [
    "df = pd.DataFrame(np.random.rand(10000, 5), columns=['A','B','C','D','E'])\n",
    "df.head()"
   ]
  },
  {
   "cell_type": "markdown",
   "metadata": {},
   "source": [
    "We can get an overview of the DataFrame with the `describe` method."
   ]
  },
  {
   "cell_type": "code",
   "execution_count": 3,
   "metadata": {},
   "outputs": [
    {
     "data": {
      "text/html": [
       "<div>\n",
       "<style scoped>\n",
       "    .dataframe tbody tr th:only-of-type {\n",
       "        vertical-align: middle;\n",
       "    }\n",
       "\n",
       "    .dataframe tbody tr th {\n",
       "        vertical-align: top;\n",
       "    }\n",
       "\n",
       "    .dataframe thead th {\n",
       "        text-align: right;\n",
       "    }\n",
       "</style>\n",
       "<table border=\"1\" class=\"dataframe\">\n",
       "  <thead>\n",
       "    <tr style=\"text-align: right;\">\n",
       "      <th></th>\n",
       "      <th>A</th>\n",
       "      <th>B</th>\n",
       "      <th>C</th>\n",
       "      <th>D</th>\n",
       "      <th>E</th>\n",
       "    </tr>\n",
       "  </thead>\n",
       "  <tbody>\n",
       "    <tr>\n",
       "      <th>count</th>\n",
       "      <td>10000.000000</td>\n",
       "      <td>10000.000000</td>\n",
       "      <td>10000.000000</td>\n",
       "      <td>10000.000000</td>\n",
       "      <td>10000.000000</td>\n",
       "    </tr>\n",
       "    <tr>\n",
       "      <th>mean</th>\n",
       "      <td>0.501036</td>\n",
       "      <td>0.497504</td>\n",
       "      <td>0.500794</td>\n",
       "      <td>0.498799</td>\n",
       "      <td>0.493497</td>\n",
       "    </tr>\n",
       "    <tr>\n",
       "      <th>std</th>\n",
       "      <td>0.287209</td>\n",
       "      <td>0.288277</td>\n",
       "      <td>0.287789</td>\n",
       "      <td>0.289711</td>\n",
       "      <td>0.287943</td>\n",
       "    </tr>\n",
       "    <tr>\n",
       "      <th>min</th>\n",
       "      <td>0.000025</td>\n",
       "      <td>0.000032</td>\n",
       "      <td>0.000001</td>\n",
       "      <td>0.000068</td>\n",
       "      <td>0.000063</td>\n",
       "    </tr>\n",
       "    <tr>\n",
       "      <th>25%</th>\n",
       "      <td>0.255397</td>\n",
       "      <td>0.246733</td>\n",
       "      <td>0.250577</td>\n",
       "      <td>0.248180</td>\n",
       "      <td>0.247233</td>\n",
       "    </tr>\n",
       "    <tr>\n",
       "      <th>50%</th>\n",
       "      <td>0.496472</td>\n",
       "      <td>0.496364</td>\n",
       "      <td>0.500797</td>\n",
       "      <td>0.501773</td>\n",
       "      <td>0.489159</td>\n",
       "    </tr>\n",
       "    <tr>\n",
       "      <th>75%</th>\n",
       "      <td>0.746159</td>\n",
       "      <td>0.742955</td>\n",
       "      <td>0.749463</td>\n",
       "      <td>0.746268</td>\n",
       "      <td>0.743193</td>\n",
       "    </tr>\n",
       "    <tr>\n",
       "      <th>max</th>\n",
       "      <td>0.999975</td>\n",
       "      <td>0.999796</td>\n",
       "      <td>0.999992</td>\n",
       "      <td>0.999991</td>\n",
       "      <td>0.999989</td>\n",
       "    </tr>\n",
       "  </tbody>\n",
       "</table>\n",
       "</div>"
      ],
      "text/plain": [
       "                  A             B             C             D             E\n",
       "count  10000.000000  10000.000000  10000.000000  10000.000000  10000.000000\n",
       "mean       0.501036      0.497504      0.500794      0.498799      0.493497\n",
       "std        0.287209      0.288277      0.287789      0.289711      0.287943\n",
       "min        0.000025      0.000032      0.000001      0.000068      0.000063\n",
       "25%        0.255397      0.246733      0.250577      0.248180      0.247233\n",
       "50%        0.496472      0.496364      0.500797      0.501773      0.489159\n",
       "75%        0.746159      0.742955      0.749463      0.746268      0.743193\n",
       "max        0.999975      0.999796      0.999992      0.999991      0.999989"
      ]
     },
     "execution_count": 3,
     "metadata": {},
     "output_type": "execute_result"
    }
   ],
   "source": [
    "df.describe()"
   ]
  },
  {
   "cell_type": "markdown",
   "metadata": {},
   "source": [
    "### **First Method available to iterate over a Pandas DataFrame**"
   ]
  },
  {
   "cell_type": "code",
   "execution_count": 14,
   "metadata": {},
   "outputs": [
    {
     "name": "stdout",
     "output_type": "stream",
     "text": [
      "i = 0\n",
      "A    0.554527\n",
      "B    0.389633\n",
      "C    0.024277\n",
      "D    0.660475\n",
      "E    0.399419\n",
      "Name: 0, dtype: float64\n",
      "Column B: 0.38963262110181274\n",
      "<-------------------------->\n",
      "i = 1\n",
      "A    0.066705\n",
      "B    0.668270\n",
      "C    0.473297\n",
      "D    0.007648\n",
      "E    0.300665\n",
      "Name: 1, dtype: float64\n",
      "Column B: 0.6682699176000896\n",
      "<-------------------------->\n",
      "i = 2\n",
      "A    0.997717\n",
      "B    0.734364\n",
      "C    0.718288\n",
      "D    0.410890\n",
      "E    0.271431\n",
      "Name: 2, dtype: float64\n",
      "Column B: 0.7343644889037613\n",
      "<-------------------------->\n"
     ]
    }
   ],
   "source": [
    "for i, row in df.iterrows():\n",
    "    while i < 3:\n",
    "        print(f\"i = {i}\", row, \n",
    "              f\"Column B: {row['B']}\", '<-------------------------->', sep='\\n')\n",
    "        break"
   ]
  },
  {
   "cell_type": "markdown",
   "metadata": {},
   "source": [
    "The output matches this:"
   ]
  },
  {
   "cell_type": "code",
   "execution_count": 26,
   "metadata": {},
   "outputs": [
    {
     "data": {
      "text/html": [
       "<div>\n",
       "<style scoped>\n",
       "    .dataframe tbody tr th:only-of-type {\n",
       "        vertical-align: middle;\n",
       "    }\n",
       "\n",
       "    .dataframe tbody tr th {\n",
       "        vertical-align: top;\n",
       "    }\n",
       "\n",
       "    .dataframe thead th {\n",
       "        text-align: right;\n",
       "    }\n",
       "</style>\n",
       "<table border=\"1\" class=\"dataframe\">\n",
       "  <thead>\n",
       "    <tr style=\"text-align: right;\">\n",
       "      <th></th>\n",
       "      <th>A</th>\n",
       "      <th>B</th>\n",
       "      <th>C</th>\n",
       "      <th>D</th>\n",
       "      <th>E</th>\n",
       "    </tr>\n",
       "  </thead>\n",
       "  <tbody>\n",
       "    <tr>\n",
       "      <th>0</th>\n",
       "      <td>1.0</td>\n",
       "      <td>0.389633</td>\n",
       "      <td>0.024277</td>\n",
       "      <td>0.660475</td>\n",
       "      <td>0.399419</td>\n",
       "    </tr>\n",
       "    <tr>\n",
       "      <th>1</th>\n",
       "      <td>0.0</td>\n",
       "      <td>0.668270</td>\n",
       "      <td>0.473297</td>\n",
       "      <td>0.007648</td>\n",
       "      <td>0.300665</td>\n",
       "    </tr>\n",
       "    <tr>\n",
       "      <th>2</th>\n",
       "      <td>1.0</td>\n",
       "      <td>0.734364</td>\n",
       "      <td>0.718288</td>\n",
       "      <td>0.410890</td>\n",
       "      <td>0.271431</td>\n",
       "    </tr>\n",
       "  </tbody>\n",
       "</table>\n",
       "</div>"
      ],
      "text/plain": [
       "     A         B         C         D         E\n",
       "0  1.0  0.389633  0.024277  0.660475  0.399419\n",
       "1  0.0  0.668270  0.473297  0.007648  0.300665\n",
       "2  1.0  0.734364  0.718288  0.410890  0.271431"
      ]
     },
     "execution_count": 26,
     "metadata": {},
     "output_type": "execute_result"
    }
   ],
   "source": [
    "df.head(3)"
   ]
  },
  {
   "cell_type": "markdown",
   "metadata": {},
   "source": [
    "We can check how much time does it take to run this function over all the\n",
    "DataFrame and then we can see if we can improve it."
   ]
  },
  {
   "cell_type": "markdown",
   "metadata": {},
   "source": [
    "### **Creating an iterating function with `iterrows` method**"
   ]
  },
  {
   "cell_type": "code",
   "execution_count": 20,
   "metadata": {},
   "outputs": [],
   "source": [
    "def iterrow_example(df, col):\n",
    "    for i, row in df.iterrows():\n",
    "        val = row[col]\n",
    "        if val < 0.5:\n",
    "            df.at[i, col] = 0\n",
    "        else:\n",
    "            df.at[i, col] = 1"
   ]
  },
  {
   "cell_type": "markdown",
   "metadata": {},
   "source": [
    "How much time does it take to run the `iterrow_example` function over our df?"
   ]
  },
  {
   "cell_type": "code",
   "execution_count": 21,
   "metadata": {},
   "outputs": [
    {
     "name": "stdout",
     "output_type": "stream",
     "text": [
      "641 ms ± 33.5 ms per loop (mean ± std. dev. of 7 runs, 1 loop each)\n"
     ]
    }
   ],
   "source": [
    "%timeit iterrow_example(df, 'A')"
   ]
  },
  {
   "cell_type": "markdown",
   "metadata": {},
   "source": [
    "I'm sure we can do better."
   ]
  },
  {
   "cell_type": "markdown",
   "metadata": {},
   "source": [
    "### **Creating an iterating function with `iloc`**"
   ]
  },
  {
   "cell_type": "code",
   "execution_count": 24,
   "metadata": {},
   "outputs": [],
   "source": [
    "def iloc_iterrow_example(df, col):\n",
    "    for i in df.index:\n",
    "        val = df[col].iloc[i]\n",
    "        if val < 0.5:\n",
    "            df.at[i, col] = 0\n",
    "        else:\n",
    "            df.at[i, col] = 1"
   ]
  },
  {
   "cell_type": "code",
   "execution_count": 25,
   "metadata": {},
   "outputs": [
    {
     "name": "stdout",
     "output_type": "stream",
     "text": [
      "171 ms ± 31.4 ms per loop (mean ± std. dev. of 7 runs, 1 loop each)\n"
     ]
    }
   ],
   "source": [
    "%timeit iloc_iterrow_example(df, 'B')"
   ]
  },
  {
   "cell_type": "markdown",
   "metadata": {},
   "source": [
    "With just those few little changes we had a huge speed increase.\n",
    "\n",
    "We can try with the apply method."
   ]
  },
  {
   "cell_type": "markdown",
   "metadata": {},
   "source": [
    "### **Using `apply` method**"
   ]
  },
  {
   "cell_type": "code",
   "execution_count": 27,
   "metadata": {},
   "outputs": [
    {
     "name": "stdout",
     "output_type": "stream",
     "text": [
      "5.05 ms ± 633 µs per loop (mean ± std. dev. of 7 runs, 100 loops each)\n"
     ]
    }
   ],
   "source": [
    "%timeit df['C'] = df['C'].apply(lambda x: 0 if x < 0.5 else 1)"
   ]
  },
  {
   "cell_type": "markdown",
   "metadata": {},
   "source": [
    "What an improvement!\n",
    "\n",
    "We can use `numpy.where()` method too."
   ]
  },
  {
   "cell_type": "markdown",
   "metadata": {},
   "source": [
    "The reader could try with the `map` function."
   ]
  },
  {
   "cell_type": "markdown",
   "metadata": {},
   "source": [
    "### **Using `numpy.where()` method**"
   ]
  },
  {
   "cell_type": "code",
   "execution_count": 28,
   "metadata": {},
   "outputs": [
    {
     "name": "stdout",
     "output_type": "stream",
     "text": [
      "106 µs ± 3.41 µs per loop (mean ± std. dev. of 7 runs, 10000 loops each)\n"
     ]
    }
   ],
   "source": [
    "%timeit np.where(df['D'] < 0.5, 0, 1)"
   ]
  },
  {
   "cell_type": "markdown",
   "metadata": {},
   "source": [
    "It is even faster than apply method"
   ]
  },
  {
   "cell_type": "markdown",
   "metadata": {},
   "source": [
    "### **Using `numpy.where.values()` method**"
   ]
  },
  {
   "cell_type": "markdown",
   "metadata": {},
   "source": [
    "Pandas DataFrame.values it's an attribute that returns a numpy array\n",
    "representation of a DataFrame"
   ]
  },
  {
   "cell_type": "code",
   "execution_count": 31,
   "metadata": {},
   "outputs": [
    {
     "name": "stdout",
     "output_type": "stream",
     "text": [
      "74.9 µs ± 27.9 µs per loop (mean ± std. dev. of 7 runs, 10000 loops each)\n"
     ]
    }
   ],
   "source": [
    "%timeit np.where(df['D'].values < 0.5, 0, 1)"
   ]
  },
  {
   "cell_type": "markdown",
   "metadata": {},
   "source": [
    "I hope this notebook can be helpful and that it gives to you some ideas on how\n",
    "you can improve the iterations over pandas dataframes.\n",
    "\n",
    "How many other methods do you know?"
   ]
  },
  {
   "cell_type": "markdown",
   "metadata": {},
   "source": [
    "## References\n",
    "- [YouTube Tutorial](https://www.youtube.com/watch?v=CG3EV7UBELA)"
   ]
  }
 ],
 "metadata": {
  "interpreter": {
   "hash": "af08a664c9379a2eef6a59a35895b3c7b95bf968efc61f7032ca2d38064b34f9"
  },
  "kernelspec": {
   "display_name": "Python 3.9.5 64-bit",
   "name": "python3"
  },
  "language_info": {
   "codemirror_mode": {
    "name": "ipython",
    "version": 3
   },
   "file_extension": ".py",
   "mimetype": "text/x-python",
   "name": "python",
   "nbconvert_exporter": "python",
   "pygments_lexer": "ipython3",
   "version": "3.9.5"
  },
  "orig_nbformat": 4
 },
 "nbformat": 4,
 "nbformat_minor": 2
}
