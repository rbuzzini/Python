{
 "cells": [
  {
   "cell_type": "markdown",
   "metadata": {},
   "source": [
    "## 1 - MyTime\r\n",
    "\r\n",
    "As another example of a user-defined type, we’ll define a class called `MyTime` that records the time of day. We’ll provide an `__init__` method to ensure that every instance is created with appropriate attributes and initialization. The class definition looks like this:"
   ]
  },
  {
   "cell_type": "code",
   "execution_count": 40,
   "metadata": {},
   "outputs": [],
   "source": [
    "class MyTime:\r\n",
    "    def __init__(self, hours=0, minutes=0, seconds=0):\r\n",
    "        \"\"\"Create a MyTyme object initialized to hrs, mins, secs \"\"\"\r\n",
    "        self.hours = hours\r\n",
    "        self.minutes = minutes\r\n",
    "        self.seconds = seconds"
   ]
  },
  {
   "cell_type": "markdown",
   "metadata": {},
   "source": [
    "We can instantiate a ne `MyTime` object:"
   ]
  },
  {
   "cell_type": "code",
   "execution_count": 41,
   "metadata": {},
   "outputs": [],
   "source": [
    "tim1 = MyTime(11, 59, 30) "
   ]
  },
  {
   "cell_type": "markdown",
   "metadata": {},
   "source": [
    "The state diagram for the object looks like this:\r\n",
    "\r\n",
    "<p align=\"center\"><img src=\"Images/tim class state.png\" width=\"100\"></p>\r\n",
    "\r\n",
    "We’ll leave it as an exercise for the readers to add a `__str__` method so that MyTime objects can print themselves decently."
   ]
  },
  {
   "cell_type": "markdown",
   "metadata": {},
   "source": [
    "## 2 - Pure functions\r\n",
    "\r\n",
    "In the next few sections, we’ll write two versions of a function called `add_time`, which calculates the sum of two `MyTime` objects. They will demonstrate two kinds of functions: pure functions and modifiers.\r\n",
    "\r\n",
    "The following is a rough version of `add_time`:"
   ]
  },
  {
   "cell_type": "code",
   "execution_count": 34,
   "metadata": {},
   "outputs": [],
   "source": [
    "def add_time(t1, t2):\r\n",
    "    h = t1.hrs + t2.hrs\r\n",
    "    m = t1.min + t2.min\r\n",
    "    s = t1.secs + t2.secs\r\n",
    "    return MyTime(h, m, s) "
   ]
  },
  {
   "cell_type": "markdown",
   "metadata": {},
   "source": [
    "The function creates a new `MyTime` object and returns a reference to the new object. This is called a **pure function** because it does not modify any of the objects passed to it as parameters and it has no side effects, such as updating global variables, displaying a value, or getting user input.\r\n",
    "\r\n",
    "Here is an example of how to use this function. We’ll create two `MyTime` objects: `current_time`, which contains the current time; and `bread_time`, which contains the amount of time it takes for a breadmaker to make bread. Then we’ll use add_time to figure out when the bread will be done."
   ]
  },
  {
   "cell_type": "code",
   "execution_count": 42,
   "metadata": {},
   "outputs": [
    {
     "ename": "AttributeError",
     "evalue": "'MyTime' object has no attribute 'hrs'",
     "output_type": "error",
     "traceback": [
      "\u001b[1;31m---------------------------------------------------------------------------\u001b[0m",
      "\u001b[1;31mAttributeError\u001b[0m                            Traceback (most recent call last)",
      "\u001b[1;32m~\\AppData\\Local\\Temp/ipykernel_816/3968633115.py\u001b[0m in \u001b[0;36m<module>\u001b[1;34m\u001b[0m\n\u001b[0;32m      1\u001b[0m \u001b[0mcurrent_time\u001b[0m \u001b[1;33m=\u001b[0m \u001b[0mMyTime\u001b[0m\u001b[1;33m(\u001b[0m\u001b[1;36m8\u001b[0m\u001b[1;33m,\u001b[0m \u001b[1;36m20\u001b[0m\u001b[1;33m,\u001b[0m \u001b[1;36m45\u001b[0m\u001b[1;33m)\u001b[0m\u001b[1;33m\u001b[0m\u001b[1;33m\u001b[0m\u001b[0m\n\u001b[0;32m      2\u001b[0m \u001b[0mbread_time\u001b[0m \u001b[1;33m=\u001b[0m \u001b[0mMyTime\u001b[0m\u001b[1;33m(\u001b[0m\u001b[1;36m2\u001b[0m\u001b[1;33m,\u001b[0m \u001b[1;36m30\u001b[0m\u001b[1;33m,\u001b[0m \u001b[1;36m0\u001b[0m\u001b[1;33m)\u001b[0m\u001b[1;33m\u001b[0m\u001b[1;33m\u001b[0m\u001b[0m\n\u001b[1;32m----> 3\u001b[1;33m \u001b[0mdone_time\u001b[0m \u001b[1;33m=\u001b[0m \u001b[0madd_time\u001b[0m\u001b[1;33m(\u001b[0m\u001b[0mcurrent_time\u001b[0m\u001b[1;33m,\u001b[0m \u001b[0mbread_time\u001b[0m\u001b[1;33m)\u001b[0m\u001b[1;33m\u001b[0m\u001b[1;33m\u001b[0m\u001b[0m\n\u001b[0m\u001b[0;32m      4\u001b[0m \u001b[0mprint\u001b[0m\u001b[1;33m(\u001b[0m\u001b[0mdone_time\u001b[0m\u001b[1;33m)\u001b[0m\u001b[1;33m\u001b[0m\u001b[1;33m\u001b[0m\u001b[0m\n",
      "\u001b[1;32m~\\AppData\\Local\\Temp/ipykernel_816/3128775472.py\u001b[0m in \u001b[0;36madd_time\u001b[1;34m(t1, t2)\u001b[0m\n\u001b[0;32m      1\u001b[0m \u001b[1;32mdef\u001b[0m \u001b[0madd_time\u001b[0m\u001b[1;33m(\u001b[0m\u001b[0mt1\u001b[0m\u001b[1;33m,\u001b[0m \u001b[0mt2\u001b[0m\u001b[1;33m)\u001b[0m\u001b[1;33m:\u001b[0m\u001b[1;33m\u001b[0m\u001b[1;33m\u001b[0m\u001b[0m\n\u001b[1;32m----> 2\u001b[1;33m     \u001b[0mh\u001b[0m \u001b[1;33m=\u001b[0m \u001b[0mt1\u001b[0m\u001b[1;33m.\u001b[0m\u001b[0mhrs\u001b[0m \u001b[1;33m+\u001b[0m \u001b[0mt2\u001b[0m\u001b[1;33m.\u001b[0m\u001b[0mhrs\u001b[0m\u001b[1;33m\u001b[0m\u001b[1;33m\u001b[0m\u001b[0m\n\u001b[0m\u001b[0;32m      3\u001b[0m     \u001b[0mm\u001b[0m \u001b[1;33m=\u001b[0m \u001b[0mt1\u001b[0m\u001b[1;33m.\u001b[0m\u001b[0mmin\u001b[0m \u001b[1;33m+\u001b[0m \u001b[0mt2\u001b[0m\u001b[1;33m.\u001b[0m\u001b[0mmin\u001b[0m\u001b[1;33m\u001b[0m\u001b[1;33m\u001b[0m\u001b[0m\n\u001b[0;32m      4\u001b[0m     \u001b[0ms\u001b[0m \u001b[1;33m=\u001b[0m \u001b[0mt1\u001b[0m\u001b[1;33m.\u001b[0m\u001b[0msecs\u001b[0m \u001b[1;33m+\u001b[0m \u001b[0mt2\u001b[0m\u001b[1;33m.\u001b[0m\u001b[0msecs\u001b[0m\u001b[1;33m\u001b[0m\u001b[1;33m\u001b[0m\u001b[0m\n\u001b[0;32m      5\u001b[0m     \u001b[1;32mreturn\u001b[0m \u001b[0mMyTime\u001b[0m\u001b[1;33m(\u001b[0m\u001b[0mh\u001b[0m\u001b[1;33m,\u001b[0m \u001b[0mm\u001b[0m\u001b[1;33m,\u001b[0m \u001b[0ms\u001b[0m\u001b[1;33m)\u001b[0m\u001b[1;33m\u001b[0m\u001b[1;33m\u001b[0m\u001b[0m\n",
      "\u001b[1;31mAttributeError\u001b[0m: 'MyTime' object has no attribute 'hrs'"
     ]
    }
   ],
   "source": [
    "current_time = MyTime(8, 20, 45)\r\n",
    "bread_time = MyTime(2, 30, 0)\r\n",
    "done_time = add_time(current_time, bread_time)\r\n",
    "print(done_time)"
   ]
  },
  {
   "cell_type": "markdown",
   "metadata": {},
   "source": [
    "The output of this program is `10:50:45`, which is correct. On the other hand, there are cases where the result is not correct. Can you think of one?\r\n",
    "\r\n",
    "The problem is that this function does not deal with cases where the number of seconds or minutes adds up to more than sixty. When that happens, we have to carry the extra seconds into the minutes column or the extra minutes into the hours column.\r\n",
    "\r\n",
    "Here’s a better version of the function:"
   ]
  },
  {
   "cell_type": "code",
   "execution_count": 19,
   "metadata": {},
   "outputs": [],
   "source": [
    "def add_time(t1, t2):\r\n",
    "    h = t1.hrs + t2.hrs\r\n",
    "    m = t1.min + t2.min\r\n",
    "    s = t1.secs + t2.secs\r\n",
    "\r\n",
    "    if m >= 60:\r\n",
    "        h +=1\r\n",
    "        m -= 60\r\n",
    "\r\n",
    "    if s >= 60:\r\n",
    "        m += 1\r\n",
    "        s -=60\r\n",
    "        \r\n",
    "    return MyTime(h, m, s)"
   ]
  },
  {
   "cell_type": "markdown",
   "metadata": {},
   "source": [
    "This function is starting to get bigger, and still doesn’t work for all possible cases. Later we will suggest an alternative approach that yields better code."
   ]
  },
  {
   "cell_type": "markdown",
   "metadata": {},
   "source": [
    "## 3 - Modifiers\r\n",
    "\r\n",
    "There are times when it is useful for a function to modify one or more of the objects it gets as parameters. Usually, the caller keeps a reference to the objects it passes, so any changes the function makes are visible to the caller. Functions that work this way are called **modifiers**.\r\n",
    "\r\n",
    "`increment`, which adds a given number of seconds to a `MyTime` object, would be written most naturally as a modifier. A rough draft of the function looks like this:"
   ]
  },
  {
   "cell_type": "code",
   "execution_count": null,
   "metadata": {},
   "outputs": [],
   "source": [
    "def increment(t, secs):\r\n",
    "    t.seconds += secs\r\n",
    "\r\n",
    "    if t.seconds >= 60:\r\n",
    "        t.seconds -= 60\r\n",
    "        t.minutes += 1\r\n",
    "\r\n",
    "    if t.minutes >= 60:\r\n",
    "        t.minutes -= 60\r\n",
    "        t.hours += 1"
   ]
  },
  {
   "cell_type": "markdown",
   "metadata": {},
   "source": [
    "The first line performs the basic operation; the remainder deals with the special cases we saw before.\r\n",
    "\r\n",
    "Is this function correct? What happens if the parameter `seconds` is much greater than sixty? In that case, it is not enough to carry once; we have to keep doing it until `seconds` is less than sixty. One solution is to replace the `if` statements with `while` statements:"
   ]
  },
  {
   "cell_type": "code",
   "execution_count": null,
   "metadata": {},
   "outputs": [],
   "source": [
    "def increment(t, seconds):\r\n",
    "    t.seconds += seconds\r\n",
    "\r\n",
    "    while t.seconds >= 60:\r\n",
    "        t.seconds -= 60\r\n",
    "        t.minutes += 1\r\n",
    "\r\n",
    "    while t.minutes >= 60:\r\n",
    "        t.minutes -= 60\r\n",
    "        t.hours += 1"
   ]
  },
  {
   "cell_type": "markdown",
   "metadata": {},
   "source": [
    "This function is now correct when seconds is not negative, and when hours does not exceed 23, but it is not a particularly good solution."
   ]
  },
  {
   "cell_type": "markdown",
   "metadata": {},
   "source": [
    "## 4 - Converting `increment` to a method\r\n",
    "\r\n",
    "Once again, OOP programmers would prefer to put functions that work with `MyTime` objects into the `MyTime` class, so let’s convert `increment` to a method. To save space, we will leave out previously defined methods, but you should keep them in your version:"
   ]
  },
  {
   "cell_type": "code",
   "execution_count": 43,
   "metadata": {},
   "outputs": [],
   "source": [
    "class MyTime:\r\n",
    "\r\n",
    "    def __init__(self, hours=0, minutes=0, seconds=0):\r\n",
    "        \"\"\"Create a MyTyme object initialized to hrs, mins, secs \"\"\"\r\n",
    "        self.hours = hours\r\n",
    "        self.minutes = minutes\r\n",
    "        self.seconds = seconds\r\n",
    "    \r\n",
    "\r\n",
    "    def increment(self, seconds):\r\n",
    "        self.seconds += seconds \r\n",
    "\r\n",
    "        while self.seconds >= 60:\r\n",
    "            self.seconds -= 60\r\n",
    "            self.minutes += 1\r\n",
    "\r\n",
    "        while self.minutes >= 60:\r\n",
    "            self.minutes -= 60\r\n",
    "            self.hours += 1"
   ]
  },
  {
   "cell_type": "markdown",
   "metadata": {},
   "source": [
    "The transformation is purely mechanical — we move the definition into the class definition and (optionally) change the name of the first parameter to `self`, to fit with Python style conventions.\r\n",
    "\r\n",
    "Now we can invoke `increment` using the syntax for invoking a method."
   ]
  },
  {
   "cell_type": "code",
   "execution_count": 45,
   "metadata": {},
   "outputs": [
    {
     "ename": "AttributeError",
     "evalue": "'MyTime' object has no attribute 'increment'",
     "output_type": "error",
     "traceback": [
      "\u001b[1;31m---------------------------------------------------------------------------\u001b[0m",
      "\u001b[1;31mAttributeError\u001b[0m                            Traceback (most recent call last)",
      "\u001b[1;32m~\\AppData\\Local\\Temp/ipykernel_816/2182649007.py\u001b[0m in \u001b[0;36m<module>\u001b[1;34m\u001b[0m\n\u001b[1;32m----> 1\u001b[1;33m \u001b[0mcurrent_time\u001b[0m \u001b[1;33m=\u001b[0m \u001b[0mcurrent_time\u001b[0m\u001b[1;33m.\u001b[0m\u001b[0mincrement\u001b[0m\u001b[1;33m(\u001b[0m\u001b[1;36m500\u001b[0m\u001b[1;33m)\u001b[0m\u001b[1;33m\u001b[0m\u001b[1;33m\u001b[0m\u001b[0m\n\u001b[0m",
      "\u001b[1;31mAttributeError\u001b[0m: 'MyTime' object has no attribute 'increment'"
     ]
    }
   ],
   "source": [
    "current_time = current_time.increment(500)"
   ]
  }
 ],
 "metadata": {
  "interpreter": {
   "hash": "af08a664c9379a2eef6a59a35895b3c7b95bf968efc61f7032ca2d38064b34f9"
  },
  "kernelspec": {
   "display_name": "Python 3.9.5 64-bit",
   "name": "python3"
  },
  "language_info": {
   "codemirror_mode": {
    "name": "ipython",
    "version": 3
   },
   "file_extension": ".py",
   "mimetype": "text/x-python",
   "name": "python",
   "nbconvert_exporter": "python",
   "pygments_lexer": "ipython3",
   "version": "3.9.5"
  },
  "orig_nbformat": 4
 },
 "nbformat": 4,
 "nbformat_minor": 2
}