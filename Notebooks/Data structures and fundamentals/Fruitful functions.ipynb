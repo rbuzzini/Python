{
 "cells": [
  {
   "cell_type": "markdown",
   "source": [
    "## 1 - Return values"
   ],
   "metadata": {}
  },
  {
   "cell_type": "markdown",
   "source": [
    "The built-in functions we have used, such as abs, pow, int, max, and range, have produced results. Calling each of these functions generates a value, which we usually assign to a variable or use as part of an expression."
   ],
   "metadata": {}
  },
  {
   "cell_type": "markdown",
   "source": [
    "We also wrote our own function to return the final amount for a compound interest calculation.\n",
    "\n",
    "In this chapter, we are going to write more functions that return values, which we will call fruitful functions, for want of a better name. The first example is area, which returns the area of a circle with the given radius:"
   ],
   "metadata": {}
  },
  {
   "cell_type": "code",
   "execution_count": null,
   "source": [
    "def area(radius):\r\n",
    "    b = 3.14159 * radius**2\r\n",
    "    return b"
   ],
   "outputs": [],
   "metadata": {}
  },
  {
   "cell_type": "markdown",
   "source": [
    "We have seen the return statement before, but in a fruitful function the return statement includes a return value. This statement means: evaluate the return expression, and then return it immediately as the result (the fruit) of this function. The expression provided can be arbitrarily complicated, so we could have written this function like this:"
   ],
   "metadata": {}
  },
  {
   "cell_type": "code",
   "execution_count": null,
   "source": [
    "def area(radius):\r\n",
    "    return 3.14159 * radius * radius"
   ],
   "outputs": [],
   "metadata": {}
  },
  {
   "cell_type": "markdown",
   "source": [
    "On the other hand, temporary variables like b above often make debugging easier.\n",
    "\n",
    "Sometimes it is useful to have multiple return statements, one in each branch of a conditional. We have already seen the built-in abs, now we see how to write our own:"
   ],
   "metadata": {}
  },
  {
   "cell_type": "code",
   "execution_count": 1,
   "source": [
    "def absolute_value(x):\r\n",
    "    if x >= 0:\r\n",
    "        return x\r\n",
    "    else:\r\n",
    "        return -x"
   ],
   "outputs": [],
   "metadata": {}
  },
  {
   "cell_type": "markdown",
   "source": [
    "Another way to write the above function is to leave out the else and just follow the if condition by the second return statement."
   ],
   "metadata": {}
  },
  {
   "cell_type": "code",
   "execution_count": 4,
   "source": [
    "def absolute_value(x):\r\n",
    "    if x >= 0:\r\n",
    "        return x\r\n",
    "    return -x"
   ],
   "outputs": [],
   "metadata": {}
  },
  {
   "cell_type": "markdown",
   "source": [
    "Think about this version and convince yourself it works the same as the first one.\n",
    "\n",
    "Code that appears after a return statement, or any other place the flow of execution can never reach, is called dead code, or unreachable code.\n",
    "\n",
    "In a fruitful function, it is a good idea to ensure that every possible path through the program hits a return statement. The following version of absolute_value fails to do this:"
   ],
   "metadata": {}
  },
  {
   "cell_type": "code",
   "execution_count": 6,
   "source": [
    "def bad_absolute_value(x):\r\n",
    "    if x < 0:\r\n",
    "        return -x\r\n",
    "    elif x > 0:\r\n",
    "        return x"
   ],
   "outputs": [],
   "metadata": {}
  },
  {
   "cell_type": "markdown",
   "source": [
    "This version is not correct because if x happens to be 0, neither condition is true, and the function ends without hitting a return statement. In this case, the return value is a special value called None:"
   ],
   "metadata": {}
  },
  {
   "cell_type": "code",
   "execution_count": 7,
   "source": [
    "print(bad_absolute_value(0))"
   ],
   "outputs": [
    {
     "output_type": "stream",
     "name": "stdout",
     "text": [
      "None\n"
     ]
    }
   ],
   "metadata": {}
  },
  {
   "cell_type": "markdown",
   "source": [
    "All Python functions return None whenever they do not return another value.\n",
    "\n",
    "It is also possible to use a return statement in the middle of a for loop, in which case control immediately returns from the function. Let us assume that we want a function which looks through a list of words. It should return the first 2-letter word. If there is not one, it should return the empty string:"
   ],
   "metadata": {}
  },
  {
   "cell_type": "code",
   "execution_count": 1,
   "source": [
    "def find_first_2_letter_word(xs):\r\n",
    "    for wd in xs:\r\n",
    "        if len(wd) == 2:\r\n",
    "           return wd\r\n",
    "    return \"\""
   ],
   "outputs": [],
   "metadata": {}
  },
  {
   "cell_type": "code",
   "execution_count": 8,
   "source": [
    "find_first_2_letter_word([\"is\",\"hello\",\"ok\"])"
   ],
   "outputs": [
    {
     "output_type": "execute_result",
     "data": {
      "text/plain": [
       "'is'"
      ]
     },
     "metadata": {},
     "execution_count": 8
    }
   ],
   "metadata": {}
  },
  {
   "cell_type": "code",
   "execution_count": 9,
   "source": [
    "find_first_2_letter_word([\"How\",\"are\",\"you\",\"?\"])"
   ],
   "outputs": [
    {
     "output_type": "execute_result",
     "data": {
      "text/plain": [
       "''"
      ]
     },
     "metadata": {},
     "execution_count": 9
    }
   ],
   "metadata": {}
  },
  {
   "cell_type": "markdown",
   "source": [
    "## 2 - Program development"
   ],
   "metadata": {}
  },
  {
   "cell_type": "markdown",
   "source": [
    "At this point, you should be able to look at complete functions and tell what they do. Also, if you have been doing the exercises, you have written some small functions. As you write larger functions, you might start to have more difficulty, especially with runtime and semantic errors.\n",
    "\n",
    "To deal with increasingly complex programs, we are going to suggest a technique called incremental development. The goal of incremental development is to avoid long debugging sessions by adding and testing only a small amount of code at a time.\n",
    "\n",
    "As an example, suppose we want to find the distance between two points, given by the coordinates (x1, y1) and (x2, y2). By the Pythagorean theorem, the distance is:"
   ],
   "metadata": {}
  },
  {
   "cell_type": "markdown",
   "source": [
    "$$ d = \\sqrt{(x_2-x_1)^2+(y_2-y_1)^2} $$"
   ],
   "metadata": {}
  },
  {
   "cell_type": "markdown",
   "source": [
    "The first step is to consider what a distance function should look like in Python. In other words, what are the inputs (parameters) and what is the output (return value)?\n",
    "\n",
    "In this case, the two points are the inputs, which we can represent using four parameters. The return value is the distance, which is a floating-point value.\n",
    "\n",
    "Already we can write an outline of the function that captures our thinking so far:"
   ],
   "metadata": {}
  },
  {
   "cell_type": "code",
   "execution_count": 11,
   "source": [
    "def distance(x1, y1, x2, y2):\n",
    "    return 0.0"
   ],
   "outputs": [],
   "metadata": {}
  },
  {
   "cell_type": "markdown",
   "source": [
    "Obviously, this version of the function doesn’t compute distances; it always returns zero. But it is syntactically correct, and it will run, which means that we can test it before we make it more complicated.\n",
    "\n",
    "To test the new function, we call it with sample values:"
   ],
   "metadata": {}
  },
  {
   "cell_type": "code",
   "execution_count": 13,
   "source": [
    "distance(1,2,3,4)"
   ],
   "outputs": [
    {
     "output_type": "execute_result",
     "data": {
      "text/plain": [
       "0.0"
      ]
     },
     "metadata": {},
     "execution_count": 13
    }
   ],
   "metadata": {}
  },
  {
   "cell_type": "markdown",
   "source": [
    "We chose these values so that the horizontal distance equals 3 and the vertical distance equals 4; that way, the result is 5 (the hypotenuse of a 3-4-5 triangle). When testing a function, it is useful to know the right answer.\n",
    "\n",
    "At this point we have confirmed that the function is syntactically correct, and we can start adding lines of code. After each incremental change, we test the function again. If an error occurs at any point, we know where it must be — in the last line we added.\n",
    "\n",
    "A logical first step in the computation is to find the differences x2- x1 and y2- y1. We will refer to those values using temporary variables named dx and dy."
   ],
   "metadata": {}
  },
  {
   "cell_type": "code",
   "execution_count": null,
   "source": [
    "def distance(x1, y1, x2, y2):\n",
    "    dx = x2 - x1\n",
    "    dy = y2 - y1\n",
    "    return 0.0"
   ],
   "outputs": [],
   "metadata": {}
  },
  {
   "cell_type": "markdown",
   "source": [
    "If we call the function with the arguments shown above, when the flow of execution gets to the return statement, dx should be 3 and dy should be 4. We can check that this is the case in PyScripter by putting the cursor on the return statement, and running the program to break execution when it gets to the cursor (using the F4 key). Then we inspect the variables dx and dy by hovering the mouse above them, to confirm that the function is getting the right parameters and performing the first computation correctly. If not, there are only a few lines to check.\n",
    "\n",
    "Next we compute the sum of squares of dx and dy:"
   ],
   "metadata": {}
  },
  {
   "cell_type": "code",
   "execution_count": null,
   "source": [
    "def distance (x1, y1, x2, y2):\n",
    "    dx = x2 - x1\n",
    "    dy = y2- y1\n",
    "    dquared = dx*dx + dy*dy\n",
    "    result = dquared ** 0.5\n",
    "    return result"
   ],
   "outputs": [],
   "metadata": {}
  },
  {
   "cell_type": "markdown",
   "source": [
    "If that works correctly, you are done. Otherwise, you might want to inspect the value of result before the return statement.\n",
    "\n",
    "When you start out, you might add only a line or two of code at a time. As you gain more experience, you might find yourself writing and debugging bigger conceptual chunks. Either way, stepping through your code one line at a time and verifying that each step matches your expectations can save you a lot of debugging time. As you improve your programming skills you should find yourself managing bigger and bigger chunks: this is very similar to the way we learned to read letters, syllables, words, phrases, sentences, paragraphs, etc., or the way we learn to chunk music — from individual notes to chords, bars, phrases, and so on.\n",
    "\n",
    "The key aspects of the process are:\n",
    "\n",
    "Start with a working skeleton program and make small incremental changes. At any point, if there is an error, you will know exactly where it is.\n",
    "\n",
    "Use temporary variables to refer to intermediate values so that you can easily inspect and check them.\n",
    "\n",
    "Once the program is working, relax, sit back, and play around with your options. (There is interesting research that links “playfulness” to better understanding, better learning, more enjoyment, and a more positive mindset about what you can achieve — so spend some time fiddling around!) You might want to consolidate multiple statements into one bigger compound expression, or rename the variables you’ve used, or see if you can make the function shorter. A good guideline is to aim for making code as easy as possible for others to read.\n",
    "\n",
    "Here is another version of the function. It makes use of a square root function that is in the math module (we’ll learn about modules shortly). Which do you prefer? Which looks “closer” to the Pythagorean formula we started out with?"
   ],
   "metadata": {}
  },
  {
   "cell_type": "code",
   "execution_count": 15,
   "source": [
    "import math\n",
    "\n",
    "def distance(x1, y1, x2, y2):\n",
    "    return math.sqrt( (x2-x1)**2 + (y2-y1)**2 )"
   ],
   "outputs": [],
   "metadata": {}
  },
  {
   "cell_type": "markdown",
   "source": [
    "## 3 - Debugging with print"
   ],
   "metadata": {}
  },
  {
   "cell_type": "markdown",
   "source": [
    "Another powerful technique for debugging (an alternative to single-stepping and inspection of program variables), is to insert extra print functions in carefully selected places in your code. Then, by inspecting the output of the program, you can check whether the algorithm is doing what you expect it to. Be clear about the following, however:\n",
    "\n",
    "- You must have a clear solution to the problem, and must know what should happen before you can debug a program. Work on solving the problem on a piece of paper (perhaps using a flowchart to record the steps you take) before you concern yourself with writing code. Writing a program doesn’t solve the problem — it simply automates the manual steps you would take. So first make sure you have a pen-and-paper manual solution that works. Programming then is about making those manual steps happen automatically.\n",
    "\n",
    "- Do not write chatterbox functions. A chatterbox is a fruitful function that, in addition to its primary task, also asks the user for input, or prints output, when it would be more useful if it simply shut up and did its work quietly.\n",
    "\n",
    "For example, we’ve seen built-in functions like range, max and abs. None of these would be useful building blocks for other programs if they prompted the user for input, or printed their results while they performed their tasks.\n",
    "\n",
    "So a good tip is to avoid calling print and input functions inside fruitful functions, unless the primary purpose of your function is to perform input and output. The one exception to this rule might be to temporarily sprinkle some calls to print into your code to help debug and understand what is happening when the code runs, but these will then be removed once you get things working."
   ],
   "metadata": {}
  },
  {
   "cell_type": "markdown",
   "source": [
    "## 4 - Composition"
   ],
   "metadata": {}
  },
  {
   "cell_type": "markdown",
   "source": [
    "As you should expect by now, you can call one function from within another. This ability is called composition.\n",
    "\n",
    "As an example, we’ll write a function that takes two points, the center of the circle and a point on the perimeter, and computes the area of the circle.\n",
    "\n",
    "Assume that the center point is stored in the variables xc and yc, and the perimeter point is in xp and yp. The first step is to find the radius of the circle, which is the distance between the two points. Fortunately, we’ve just written a function, distance, that does just that, so now all we have to do is use it:"
   ],
   "metadata": {}
  },
  {
   "cell_type": "markdown",
   "source": [
    "radius = distance(xc, yc, xp, yp)"
   ],
   "metadata": {}
  },
  {
   "cell_type": "markdown",
   "source": [
    "The second step is to find the area of a circle with that radius and return it. Again we will use one of our earlier functions:"
   ],
   "metadata": {}
  },
  {
   "cell_type": "markdown",
   "source": [
    "result = area(radius)\n",
    "return result"
   ],
   "metadata": {}
  },
  {
   "cell_type": "markdown",
   "source": [
    "Wrapping that up in a function, we get:"
   ],
   "metadata": {}
  },
  {
   "cell_type": "code",
   "execution_count": null,
   "source": [
    "def area2(xc, yc, xp, yp):\n",
    "    radius = distance(xc, yc, xp, yp)\n",
    "    result = area(radius)\n",
    "    return result"
   ],
   "outputs": [],
   "metadata": {}
  },
  {
   "cell_type": "markdown",
   "source": [
    "We called this function area2 to distinguish it from the area function defined earlier.\n",
    "\n",
    "The temporary variables radius and result are useful for development, debugging, and single-stepping through the code to inspect what is happening, but once the program is working, we can make it more concise by composing the function calls:"
   ],
   "metadata": {}
  },
  {
   "cell_type": "code",
   "execution_count": null,
   "source": [
    "def area2(xc, yc, xp, yp):\n",
    "    return area(distance(xc, yc, xp, yp))"
   ],
   "outputs": [],
   "metadata": {}
  },
  {
   "cell_type": "markdown",
   "source": [
    "## 5 - Boolean functions"
   ],
   "metadata": {}
  },
  {
   "cell_type": "markdown",
   "source": [
    "Functions can return Boolean values, which is often convenient for hiding complicated tests inside functions. For example:"
   ],
   "metadata": {}
  },
  {
   "cell_type": "code",
   "execution_count": 21,
   "source": [
    "def is_divisible(x,y):\r\n",
    "    \"\"\"Test if x is exactly divisible by y\"\"\"\r\n",
    "    if x % y == 0:\r\n",
    "        return True\r\n",
    "    else:\r\n",
    "        return False"
   ],
   "outputs": [],
   "metadata": {}
  },
  {
   "cell_type": "markdown",
   "source": [
    "It is common to give Boolean functions names that sound like yes/no questions. is_divisible returns either True or False to indicate whether the x is or is not divisible by y.\n",
    "\n",
    "We can make the function more concise by taking advantage of the fact that the condition of the if statement is itself a Boolean expression. We can return it directly, avoiding the if statement altogether:"
   ],
   "metadata": {}
  },
  {
   "cell_type": "code",
   "execution_count": null,
   "source": [
    "def is_divisible(x, y):\r\n",
    "    return x % y == 0"
   ],
   "outputs": [],
   "metadata": {}
  },
  {
   "cell_type": "markdown",
   "source": [
    "## 6 - Programming with style"
   ],
   "metadata": {}
  },
  {
   "cell_type": "markdown",
   "source": [
    "Readability is very important to programmers, since in practice programs are read and modified far more often then they are written. But, like most rules, we occasionally break them. Most of the code examples in this book will be consistent with the Python Enhancement Proposal 8 (PEP 8), a style guide developed by the Python community.\n",
    "\n",
    "We’ll have more to say about style as our programs become more complex, but a few pointers will be helpful already:\n",
    "\n",
    "- use 4 spaces (instead of tabs) for indentation\n",
    "- limit line length to 78 characters\n",
    "- when naming identifiers, use CamelCase for classes (we’ll get to those) and lowercase_with_underscores for functons and variables\n",
    "- place imports at the top of the file\n",
    "- keep function definitions together\n",
    "- use docstrings to document functions\n",
    "- use two blank lines to separate function definitions from each other\n",
    "- keep top level statements, including function calls, together at the bottom of the program"
   ],
   "metadata": {}
  },
  {
   "cell_type": "markdown",
   "source": [
    "## 7 - Unit testing"
   ],
   "metadata": {}
  },
  {
   "cell_type": "markdown",
   "source": [
    "It is a common best practice in software development to include automatic unit testing of source code. Unit testing provides a way to automatically verify that individual pieces of code, such as functions, are working properly. This makes it possible to change the implementation of a function at a later time and quickly test that it still does what it was intended to do.\n",
    "\n",
    "Some years back organizations had the view that their valuable asset was the program code and documentation. Organizations will now spend a large portion of their software budgets on crafting (and preserving) their tests.\n",
    "\n",
    "Unit testing also forces the programmer to think about the different cases that the function needs to handle. You also only have to type the tests once into the script, rather than having to keep entering the same test data over and over as you develop your code.\n",
    "\n",
    "Extra code in your program which is there because it makes debugging or testing easier is called scaffolding.\n",
    "\n",
    "A collection of tests for some code is called its test suite.\n",
    "\n",
    "There are a few different ways to do unit testing in Python — but at this stage we’re going to ignore what the Python community usually does, and we’re going to start with two functions that we’ll write ourselves. We’ll use these for writing our unit tests.\n",
    "\n",
    "Let’s start with the absolute_value function that we wrote earlier in this chapter. Recall that we wrote a few different versions, the last of which was incorrect, and had a bug. Would tests have caught this bug?\n",
    "\n",
    "First we plan our tests. We’d like to know if the function returns the correct value when its argument is negative, or when its argument is positive, or when its argument is zero. When planning your tests, you’ll always want to think carefully about the “edge” cases — here, an argument of 0 to absolute_value is on the edge of where the function behaviour changes, and as we saw at the beginning of the chapter, it is an easy spot for the programmer to make a mistake! So it is a good case to include in our test suite.\n",
    "\n",
    "We’re going to write a helper function for checking the results of one test. It takes a boolean argument and will either print a message telling us that the test passed, or it will print a message to inform us that the test failed. The first line of the body (after the function’s docstring) magically determines the line number in the script where the call was made from. This allows us to print the line number of the test, which will help when we want to identify which tests have passed or failed."
   ],
   "metadata": {}
  },
  {
   "cell_type": "code",
   "execution_count": null,
   "source": [
    "import sys\r\n",
    "\r\n",
    "def test(did_pass):\r\n",
    "    \"\"\"  Print the result of a test.  \"\"\"\r\n",
    "    linenum = sys._getframe(1).f_lineno   # Get the caller's line number.\r\n",
    "    if did_pass:\r\n",
    "        msg = \"Test at line {0} ok.\".format(linenum)\r\n",
    "    else:\r\n",
    "        msg = \"Test at line {0} FAILED.\".format(linenum)\r\n",
    "    print(msg)"
   ],
   "outputs": [],
   "metadata": {}
  },
  {
   "cell_type": "markdown",
   "source": [
    "There is also some slightly tricky string formatting using the format method which we will gloss over for the moment, and cover in detail in a future chapter. But with this function written, we can proceed to construct our test suite:"
   ],
   "metadata": {}
  },
  {
   "cell_type": "code",
   "execution_count": null,
   "source": [
    "def test_suite():\n",
    "    \"\"\" Run the suite of tests for code in this module (this file).\n",
    "    \"\"\"\n",
    "    test(absolute_value(17) == 17)\n",
    "    test(absolute_value(-17) == 17)\n",
    "    test(absolute_value(0) == 0)\n",
    "    test(absolute_value(3.14) == 3.14)\n",
    "    test(absolute_value(-3.14) == 3.14)\n",
    "\n",
    "test_suite()        # Here is the call to run the tests"
   ],
   "outputs": [],
   "metadata": {}
  },
  {
   "cell_type": "markdown",
   "source": [
    "Here you’ll see that we’ve constructed five tests in our test suite. We could run this against the first or second versions (the correct versions) of absolute_value, and we’d get output similar to the following:"
   ],
   "metadata": {}
  },
  {
   "cell_type": "markdown",
   "source": [
    "Test at line 25 ok.\n",
    "Test at line 26 ok.\n",
    "Test at line 27 ok.\n",
    "Test at line 28 ok.\n",
    "Test at line 29 ok."
   ],
   "metadata": {}
  },
  {
   "cell_type": "markdown",
   "source": [
    "Can you find at least two mistakes in this code? Our test suite can! We get:"
   ],
   "metadata": {}
  },
  {
   "cell_type": "markdown",
   "source": [
    "Test at line 25 ok.\n",
    "Test at line 26 FAILED.\n",
    "Test at line 27 FAILED.\n",
    "Test at line 28 ok.\n",
    "Test at line 29 FAILED."
   ],
   "metadata": {}
  },
  {
   "cell_type": "markdown",
   "source": [
    "These are three examples of failing tests.\n",
    "\n",
    "There is a built-in Python statement called assert that does almost the same as our test function (except the program stops when the first assertion fails). You may want to read about it, and use it instead of our test function."
   ],
   "metadata": {}
  },
  {
   "cell_type": "markdown",
   "source": [
    "## 8 - Glossary"
   ],
   "metadata": {}
  },
  {
   "cell_type": "markdown",
   "source": [
    "##### Boolean function\n",
    "\n",
    "A function that returns a Boolean value. The only possible values of the bool type are False and True.\n",
    "\n",
    "##### chatterbox function\n",
    "\n",
    "A function which interacts with the user (using input or print) when it should not. Silent functions that just convert their input arguments into their output results are usually the most useful ones.\n",
    "\n",
    "##### composition (of functions)\n",
    "\n",
    "Calling one function from within the body of another, or using the return value of one function as an argument to the call of another.\n",
    "\n",
    "##### dead code\n",
    "\n",
    "Part of a program that can never be executed, often because it appears after a return statement.\n",
    "\n",
    "##### fruitful function\n",
    "\n",
    "A function that yields a return value instead of None.\n",
    "\n",
    "##### incremental development\n",
    "\n",
    "A program development plan intended to simplify debugging by adding and testing only a small amount of code at a time.\n",
    "\n",
    "##### None\n",
    "\n",
    "A special Python value. One use in Python is that it is returned by functions that do not execute a return statement with a return argument.\n",
    "\n",
    "##### return value\n",
    "\n",
    "The value provided as the result of a function call.\n",
    "\n",
    "##### scaffolding\n",
    "\n",
    "Code that is used during program development to assist with development and debugging. The unit test code that we added in this chapter are examples of scaffolding.\n",
    "\n",
    "##### temporary variable\n",
    "\n",
    "A variable used to store an intermediate value in a complex calculation.\n",
    "\n",
    "##### test suite\n",
    "\n",
    "A collection of tests for some code you have written.\n",
    "\n",
    "##### unit testing\n",
    "\n",
    "An automatic procedure used to validate that individual units of code are working properly. Having a test suite is extremely useful when somebody modifies or extends the code: it provides a safety net against going backwards by putting new bugs into previously working code. The term regression testing is often used to capture this idea that we don’t want to go backwards!"
   ],
   "metadata": {}
  },
  {
   "cell_type": "markdown",
   "source": [
    "# 9 - Exercises\r\n",
    "\r\n",
    "All of the exercises below should be added to a single file. In that file, you should also add the test and test_suite scaffolding functions shown above, and then, as you work through the exercises, add the new tests to your test suite. (If you open the online version of the textbook, you can easily copy and paste the tests and the fragments of code into your Python editor.)\r\n",
    "\r\n",
    "After completing each exercise, confirm that all the tests pass."
   ],
   "metadata": {}
  },
  {
   "cell_type": "markdown",
   "source": [
    "1. The four compass points can be abbreviated by single-letter strings as `“N”`, `“E”`, `“S”`, and `“W”`. Write a function `turn_clockwise` that takes one of these four compass points as its parameter, and returns the next compass point in the clockwise direction. Here are some tests that should pass:\r\n",
    "\r\n",
    "- test(turn_clockwise(\"N\") == \"E\")\r\n",
    "- test(turn_clockwise(\"W\") == \"N\")"
   ],
   "metadata": {}
  },
  {
   "cell_type": "code",
   "execution_count": 8,
   "source": [
    "import sys\r\n",
    "\r\n",
    "def test(did_pass):\r\n",
    "    \"\"\"  Print the result of a test.  \"\"\"\r\n",
    "    linenum = sys._getframe(1).f_lineno   # Get the caller's line number.\r\n",
    "    if did_pass:\r\n",
    "        msg = \"Test at line {0} ok.\".format(linenum)\r\n",
    "    else:\r\n",
    "        msg = \"Test at line {0} FAILED.\".format(linenum)\r\n",
    "    print(msg)\r\n",
    "\r\n",
    "def turn_clockwise(letter):\r\n",
    "    l = [\"N\", \"E\", \"S\", \"W\"]\r\n",
    "    if l.index(letter) != 3:\r\n",
    "        return l[l.index(letter) +1]\r\n",
    "    elif l.index(letter) == 3:\r\n",
    "        return l[0]\r\n",
    "    else:\r\n",
    "        return None \r\n",
    "\r\n",
    "test(turn_clockwise(\"N\") == \"E\")\r\n",
    "test(turn_clockwise(\"W\") == \"N\")\r\n",
    "    "
   ],
   "outputs": [
    {
     "output_type": "stream",
     "name": "stdout",
     "text": [
      "Test at line 21 ok.\n",
      "Test at line 22 ok.\n"
     ]
    }
   ],
   "metadata": {}
  },
  {
   "cell_type": "code",
   "execution_count": 5,
   "source": [
    "l = [\"N\", \"E\", \"S\", \"W\"]\r\n",
    "l.index(\"W\")"
   ],
   "outputs": [
    {
     "output_type": "execute_result",
     "data": {
      "text/plain": [
       "3"
      ]
     },
     "metadata": {},
     "execution_count": 5
    }
   ],
   "metadata": {}
  },
  {
   "cell_type": "markdown",
   "source": [
    "2. Write a function days_in_month which takes the name of a month, and returns the number of days in the month. Ignore leap years."
   ],
   "metadata": {}
  },
  {
   "cell_type": "code",
   "execution_count": 12,
   "source": [
    "import sys\r\n",
    "\r\n",
    "def test(did_pass):\r\n",
    "    \"\"\"  Print the result of a test.  \"\"\"\r\n",
    "    linenum = sys._getframe(1).f_lineno   # Get the caller's line number.\r\n",
    "    if did_pass:\r\n",
    "        msg = \"Test at line {0} ok.\".format(linenum)\r\n",
    "    else:\r\n",
    "        msg = \"Test at line {0} FAILED.\".format(linenum)\r\n",
    "    print(msg)\r\n",
    "\r\n",
    "months_dict = {\"January\": 31, \"February\": 28, \"March\": 31, \"April\": 30, \"May\": 31, \"June\": 30, \"July\": 31,\r\n",
    "    \"August\": 31, \"September\": 30, \"October\": 31, \"November\": 30, \"December\": 31}\r\n",
    "\r\n",
    "def days_in_month(month):\r\n",
    "    return months_dict[month]\r\n",
    "\r\n",
    "test(days_in_month(\"February\") == 28)\r\n",
    "test(days_in_month(\"December\") == 31)"
   ],
   "outputs": [
    {
     "output_type": "stream",
     "name": "stdout",
     "text": [
      "Test at line 18 ok.\n",
      "Test at line 19 ok.\n"
     ]
    }
   ],
   "metadata": {}
  },
  {
   "cell_type": "markdown",
   "source": [
    "All sources taken from https://learnpythontherightway.com/chapter/chapter-6.html and and [Wikipedia](https://en.wikipedia.org/wiki/Main_Page)"
   ],
   "metadata": {}
  }
 ],
 "metadata": {
  "interpreter": {
   "hash": "af08a664c9379a2eef6a59a35895b3c7b95bf968efc61f7032ca2d38064b34f9"
  },
  "kernelspec": {
   "display_name": "Python 3.9.5 64-bit",
   "name": "python3"
  },
  "language_info": {
   "codemirror_mode": {
    "name": "ipython",
    "version": 3
   },
   "file_extension": ".py",
   "mimetype": "text/x-python",
   "name": "python",
   "nbconvert_exporter": "python",
   "pygments_lexer": "ipython3",
   "version": "3.9.5"
  }
 },
 "nbformat": 4,
 "nbformat_minor": 4
}