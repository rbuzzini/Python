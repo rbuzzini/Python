{
 "cells": [
  {
   "cell_type": "markdown",
   "metadata": {},
   "source": [
    "# 1 - Embedded references\n",
    "\n",
    "We have seen examples of attributes that refer to other objects, which we called embedded references. A common data structure, the linked list, takes advantage of this feature.\n",
    "\n",
    "Linked lists are made up of nodes, where each node contains a reference to the next node in the list. In addition, each node contains a unit of data called the cargo.\n",
    "\n",
    "A linked list is considered a recursive data structure because it has a recursive definition.\n",
    "\n",
    "Recursive data structures lend themselves to recursive methods."
   ]
  },
  {
   "cell_type": "markdown",
   "metadata": {},
   "source": [
    "# 2 - The `Node` Class\n",
    "\n",
    "As usual when writing a new class, we’ll start with the initialization and __str__ methods so that we can test the basic mechanism of creating and displaying the new type:"
   ]
  },
  {
   "cell_type": "code",
   "execution_count": 42,
   "metadata": {},
   "outputs": [],
   "source": [
    "class Node:\n",
    "    def __init__(self, cargo=None, next=None):\n",
    "        self.cargo = cargo\n",
    "        self.next = next\n",
    "    \n",
    "    def __str__(self):\n",
    "        return str(self.cargo)"
   ]
  },
  {
   "cell_type": "markdown",
   "metadata": {},
   "source": [
    "As usual, the parameters for the initialization method are optional. By default, both the cargo and the link, next, are set to None.\n",
    "\n",
    "The string representation of a node is just the string representation of the cargo. Since any value can be passed to the str function, we can store any value in a list.\n",
    "\n",
    "To test the implementation so far, we can create a Node and print it:"
   ]
  },
  {
   "cell_type": "code",
   "execution_count": 4,
   "metadata": {},
   "outputs": [
    {
     "name": "stdout",
     "output_type": "stream",
     "text": [
      "test\n"
     ]
    }
   ],
   "source": [
    "node = Node('test')\n",
    "print(node)"
   ]
  },
  {
   "cell_type": "markdown",
   "metadata": {},
   "source": [
    "To make it interesting, we need a list with more than one node:"
   ]
  },
  {
   "cell_type": "code",
   "execution_count": 6,
   "metadata": {},
   "outputs": [],
   "source": [
    "node1 = Node(1)\n",
    "node2 = Node(2)\n",
    "node3 = Node(3)"
   ]
  },
  {
   "cell_type": "markdown",
   "metadata": {},
   "source": [
    "This code creates three nodes, but we don’t have a list yet because the nodes are not linked.\n",
    "\n",
    "To link the nodes we have to add the next pointer for each node."
   ]
  },
  {
   "cell_type": "code",
   "execution_count": 7,
   "metadata": {},
   "outputs": [],
   "source": [
    "node1.next = node2\n",
    "node2.next = node3"
   ]
  },
  {
   "cell_type": "markdown",
   "metadata": {},
   "source": [
    "The reference of the third node is `None`, which indicates that it is the end of the list."
   ]
  },
  {
   "cell_type": "markdown",
   "metadata": {},
   "source": [
    "# Lists as collections\n",
    "\n",
    "Lists are useful because they provide a way to assemble multiple objects into a single entity, sometimes called a collection. In the example, the first node of the list serves as a reference to the entire list.\n",
    "\n",
    "To pass the list as a parameter, we only have to pass a reference to the first node. For example, the function `print_list` takes a single node as an argument. Starting with the head of the list, it prints each node until it gets to the end:"
   ]
  },
  {
   "cell_type": "code",
   "execution_count": 14,
   "metadata": {},
   "outputs": [
    {
     "name": "stdout",
     "output_type": "stream",
     "text": [
      "1 2 3 "
     ]
    }
   ],
   "source": [
    "def print_list(node):\n",
    "    while node is not None:\n",
    "        print(node, end=' ')\n",
    "        node = node.next\n",
    "    #print()\n",
    "print_list(node1)"
   ]
  },
  {
   "cell_type": "markdown",
   "metadata": {},
   "source": [
    "Inside print_list we have a reference to the first node of the list, but there is no variable that refers to the other nodes. We have to use the next value from each node to get to the next node.\n",
    "\n",
    "To traverse a linked list, it is common to use a loop variable like node to refer to each of the nodes in succession."
   ]
  },
  {
   "cell_type": "markdown",
   "metadata": {},
   "source": [
    "# 4 - Lists and recursion\n",
    "\n",
    "It is natural to express many list operations using recursive methods. For example, the following is a recursive algorithm for printing a list backwards:\n",
    "\n",
    "1. Separate the list into two pieces: the first node (called the head); and the rest (called the tail).\n",
    "2. Print the tail backward.\n",
    "3. Print the head.\n",
    "\n",
    "Of course, Step 2, the recursive call, assumes that we have a way of printing a list backward. But if we assume that the recursive call works — the leap of faith — then we can convince ourselves that this algorithm works.\n",
    "\n",
    "All we need are a base case and a way of proving that for any list, we will eventually get to the base case. Given the recursive definition of a list, a natural base case is the empty list, represented by None:"
   ]
  },
  {
   "cell_type": "code",
   "execution_count": 24,
   "metadata": {},
   "outputs": [],
   "source": [
    "def print_backward(list):\n",
    "    if list is None:\n",
    "        return\n",
    "    head = list\n",
    "    tail = list.next\n",
    "    print_backward(tail)\n",
    "    print(head, end=' ')\n",
    "    #print(print_backward(tail))"
   ]
  },
  {
   "cell_type": "code",
   "execution_count": 25,
   "metadata": {},
   "outputs": [
    {
     "name": "stdout",
     "output_type": "stream",
     "text": [
      "3 2 1 "
     ]
    }
   ],
   "source": [
    "print_backward(node1)"
   ]
  },
  {
   "cell_type": "markdown",
   "metadata": {},
   "source": [
    "# 5 - Infinite lists\n",
    "\n",
    "There is nothing to prevent a node from referring back to an earlier node in the list, including itself.\n",
    "\n",
    "If we invoke print_list on a list with a node which refers to itself, it will loop forever. If we invoke print_backward, it will recurse infinitely. This sort of behavior makes infinite lists difficult to work with.\n",
    "\n",
    "Nevertheless, they are occasionally useful. For example, we might represent a number as a list of digits and use an infinite list to represent a repeating fraction."
   ]
  },
  {
   "cell_type": "markdown",
   "metadata": {},
   "source": [
    "# 6 - Wrappers and helpers\n",
    "\n",
    "It is often useful to divide a list operation into two methods. For example, to print a list backward in the conventional list format [3, 2, 1] we can use the print_backward method to print 3, 2, but we need a separate method to print the brackets and the first node. Let’s call it `print_backward_nicely`:"
   ]
  },
  {
   "cell_type": "code",
   "execution_count": 37,
   "metadata": {},
   "outputs": [],
   "source": [
    "def print_backward_nicely(list):\n",
    "    print('[', end='')\n",
    "    print_backward(list)\n",
    "    print(']')"
   ]
  },
  {
   "cell_type": "code",
   "execution_count": 38,
   "metadata": {},
   "outputs": [
    {
     "name": "stdout",
     "output_type": "stream",
     "text": [
      "[3 2 1 ]\n"
     ]
    }
   ],
   "source": [
    "print_backward_nicely(node1)"
   ]
  },
  {
   "cell_type": "markdown",
   "metadata": {},
   "source": [
    "Again, it is a good idea to check methods like this to see if they work with special cases like an empty list or a singleton.\n",
    "\n",
    "When we use this method elsewhere in the program, we invoke print_backward_nicely directly, and it invokes print_backward on our behalf. In that sense, print_backward_nicely acts as a wrapper, and it uses print_backward as a helper."
   ]
  },
  {
   "cell_type": "markdown",
   "metadata": {},
   "source": [
    "# 7 - The `LinkedList` class\n",
    "\n",
    "There are some subtle problems with the way we have been implementing lists. In a reversal of cause and effect, we’ll propose an alternative implementation first and then explain what problems it solves.\n",
    "\n",
    "First, we’ll create a new class called LinkedList. Its attributes are an integer that contains the length of the list and a reference to the first node. LinkedList objects serve as handles for manipulating lists of Node objects:"
   ]
  },
  {
   "cell_type": "code",
   "execution_count": 39,
   "metadata": {},
   "outputs": [],
   "source": [
    "class LinkedList:\n",
    "    def __init__(self):\n",
    "        self.length = 0\n",
    "        self.head = None"
   ]
  },
  {
   "cell_type": "markdown",
   "metadata": {},
   "source": [
    "One nice thing about the LinkedList class is that it provides a natural place to put wrapper functions like print_backward_nicely, which we can make a method of the LinkedList class:"
   ]
  },
  {
   "cell_type": "code",
   "execution_count": 40,
   "metadata": {},
   "outputs": [],
   "source": [
    "class LinkedList:\n",
    "    ...\n",
    "    def print_backward(self):\n",
    "        print('[')\n",
    "        if self.head is not None:\n",
    "            self.head.print_backward()\n",
    "\n",
    "\n",
    "class Node:\n",
    "    ...\n",
    "    def print_backward(self):\n",
    "        if self.next is not None:\n",
    "            tail = self.next\n",
    "            tail.print_backward()\n",
    "        print(self.cargo, end=\" \")"
   ]
  },
  {
   "cell_type": "markdown",
   "metadata": {},
   "source": [
    "Just to make things confusing, we renamed print_backward_nicely. Now there are two methods named print_backward: one in the Node class (the helper); and one in the LinkedList class (the wrapper). When the wrapper invokes self.head.print_backward, it is invoking the helper, because self.head is a Node object.\n",
    "\n",
    "Another benefit of the LinkedList class is that it makes it easier to add or remove the first element of a list. For example, add_first is a method for LinkedLists; it takes an item of cargo as an argument and puts it at the beginning of the list:"
   ]
  },
  {
   "cell_type": "code",
   "execution_count": null,
   "metadata": {},
   "outputs": [],
   "source": [
    "class LinkedList:\n",
    "    ...\n",
    "    def add_first(self, cargo):\n",
    "        node = Node(cargo)\n",
    "        node.next = self.head\n",
    "        self.head = node\n",
    "        self.length += 1"
   ]
  },
  {
   "cell_type": "markdown",
   "metadata": {},
   "source": [
    "# 8 - Invariants\n",
    "\n",
    "Some lists are well formed; others are not. For example, if a list contains a loop, it will cause many of our methods to crash, so we might want to require that lists contain no loops. Another requirement is that the length value in the LinkedList object should be equal to the actual number of nodes in the list.\n",
    "\n",
    "Requirements like these are called invariants because, ideally, they should be true of every object all the time. Specifying invariants for objects is a useful programming practice because it makes it easier to prove the correctness of code, check the integrity of data structures, and detect errors.\n",
    "\n",
    "One thing that is sometimes confusing about invariants is that there are times when they are violated. For example, in the middle of add_first, after we have added the node but before we have incremented length,the invariant is violated. This kind of violation is acceptable; in fact, it is often impossible to modify an object without violating an invariant for at least a little while. Normally, we require that every method that violates an invariant must restore the invariant.\n",
    "\n",
    "If there is any significant stretch of code in which the invariant is violated, it is important for the comments to make that clear, so that no operations are performed that depend on the invariant."
   ]
  },
  {
   "cell_type": "markdown",
   "metadata": {},
   "source": [
    "# 9 - Glossary\n",
    "**embedded reference** \n",
    "    A reference stored in an attribute of an object.\n",
    "\n",
    "**linked list**  \n",
    "    A data structure that implements a collection using a sequence of linked\n",
    "    nodes.\n",
    "\n",
    "**node**  \n",
    "    An element of a list, usually implemented as an object that contains a\n",
    "    reference to another object of the same type.\n",
    "\n",
    "**cargo**  \n",
    "    An item of data contained in a node.\n",
    "\n",
    "**link**  \n",
    "    An embedded reference used to link one object to another.\n",
    "\n",
    "**precondition**  \n",
    "    An assertion that must be true in order for a method to work correctly.\n",
    "\n",
    "**fundamental ambiguity theorem**  \n",
    "    A reference to a list node can be treated as a single object or as the\n",
    "    first in a list of nodes.\n",
    "\n",
    "**singleton**  \n",
    "    A linked list with a single node.\n",
    "\n",
    "**wrapper** \n",
    "    A method that acts as a middleman between a caller and a helper method,\n",
    "    often making the method easier or less error-prone to invoke.\n",
    "\n",
    "**helper**  \n",
    "    A method that is not invoked directly by a caller but is used by another\n",
    "    method to perform part of an operation.\n",
    "\n",
    "**invariant**  \n",
    "    An assertion that should be true of an object at all times (except\n",
    "    perhaps while the object is being modified)."
   ]
  },
  {
   "cell_type": "markdown",
   "metadata": {},
   "source": [
    "# 10 - Exercises\n",
    "\n",
    "1. By convention, lists are often printed in brackets with commas between the elements, as in `[1, 2, 3]`. Modify print_list so that it generates output in this format."
   ]
  },
  {
   "cell_type": "code",
   "execution_count": 43,
   "metadata": {},
   "outputs": [],
   "source": [
    "class Node:\n",
    "    def __init__(self, cargo=None, next=None):\n",
    "        self.cargo = cargo\n",
    "        self.next = next\n",
    "    \n",
    "    def __str__(self):\n",
    "        return str(self.cargo)"
   ]
  },
  {
   "cell_type": "code",
   "execution_count": 48,
   "metadata": {},
   "outputs": [],
   "source": [
    "# Initialize nodes values and pointers:\n",
    "node1 = Node(1)\n",
    "node2 = Node(2)\n",
    "node3 = Node(3)\n",
    "node4 = Node(4)\n",
    "node5 = Node(5)\n",
    "\n",
    "\n",
    "node1.next = node2\n",
    "node2.next = node3\n",
    "node3.next = node4\n",
    "node4.next = node5\n",
    "node5.next = None"
   ]
  },
  {
   "cell_type": "code",
   "execution_count": 65,
   "metadata": {},
   "outputs": [],
   "source": [
    "# This was the basic function we have seen in the tutorial:\n",
    "def print_list(node):\n",
    "    while node is not None:\n",
    "        print(node)\n",
    "        node = node.next"
   ]
  },
  {
   "cell_type": "code",
   "execution_count": 84,
   "metadata": {},
   "outputs": [],
   "source": [
    "def print_list_new(node):\n",
    "    print('[', end='')\n",
    "\n",
    "    while node is not None:\n",
    "        if node.next is not None:\n",
    "            print(f'{node}, ', end='')\n",
    "        else:\n",
    "            print(f'{node}]')\n",
    "        \n",
    "        node = node.next"
   ]
  },
  {
   "cell_type": "code",
   "execution_count": 85,
   "metadata": {},
   "outputs": [
    {
     "name": "stdout",
     "output_type": "stream",
     "text": [
      "[1, 2, 3, 4, 5]\n"
     ]
    }
   ],
   "source": [
    "print_list_new(node1)"
   ]
  }
 ],
 "metadata": {
  "interpreter": {
   "hash": "144686f29bde185468cecbc61b7500ae2f1fbba0bf11652b078697c098ad7015"
  },
  "kernelspec": {
   "display_name": "Python 3.9.5 64-bit",
   "language": "python",
   "name": "python3"
  },
  "language_info": {
   "codemirror_mode": {
    "name": "ipython",
    "version": 3
   },
   "file_extension": ".py",
   "mimetype": "text/x-python",
   "name": "python",
   "nbconvert_exporter": "python",
   "pygments_lexer": "ipython3",
   "version": "3.9.5"
  },
  "orig_nbformat": 4
 },
 "nbformat": 4,
 "nbformat_minor": 2
}
