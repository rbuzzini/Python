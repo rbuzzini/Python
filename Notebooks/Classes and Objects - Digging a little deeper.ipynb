{
 "cells": [
  {
   "cell_type": "markdown",
   "source": [
    "## 1 - Rectangles\r\n",
    "\r\n",
    "Let’s say that we want a class to represent a rectangle which is located somewhere in the XY plane. The question is, what information do we have to provide in order to specify such a rectangle? To keep things simple, assume that the rectangle is oriented either vertically or horizontally, never at an angle.\r\n",
    "\r\n",
    "There are a few possibilities: we could specify the center of the rectangle (two coordinates) and its size (width and height); or we could specify one of the corners and the size; or we could specify two opposing corners. A conventional choice is to specify the upper-left corner of the rectangle, and the size.\r\n",
    "\r\n",
    "Again, we’ll define a new class, and provide it with an initializer and a string converter method (see `Point` class in *Classes and Objects - the Basics notebook*):"
   ],
   "metadata": {}
  },
  {
   "cell_type": "code",
   "execution_count": 7,
   "source": [
    "class Point:\r\n",
    "    \"\"\" Create a new Point, at coordinates x, y \"\"\"\r\n",
    "\r\n",
    "    def __init__(self, x=0, y=0):\r\n",
    "        \"\"\" Create a new point at x, y \"\"\"\r\n",
    "        self.x = x\r\n",
    "        self.y = y \r\n",
    "    \r\n",
    "    def distance_from_origin(self):\r\n",
    "        \"\"\"Compute my distance from the origin\"\"\"\r\n",
    "        return ((self.x**2 + self.y**2)**0.5)\r\n",
    "        \r\n",
    "    def __str__(self):\r\n",
    "        return \"({0}, {1})\".format(self.x, self.y)"
   ],
   "outputs": [],
   "metadata": {}
  },
  {
   "cell_type": "code",
   "execution_count": 6,
   "source": [
    "class Rectangle:\r\n",
    "    \"\"\" A class to manufacture rectangle objects \"\"\"\r\n",
    "\r\n",
    "    def __init__(self, posn, width, height):\r\n",
    "        \"\"\" Initialize rectangle at posn, with width w and height h \"\"\"\r\n",
    "        self.corner = posn\r\n",
    "        self.width = width\r\n",
    "        self.height = height\r\n",
    "    \r\n",
    "    def __str__(self):\r\n",
    "        return \"({0}, {1}, {2})\".format(self.corner, self.width, self.height)\r\n",
    "\r\n",
    "box = Rectangle(Point(0, 0), 100, 200)          \r\n",
    "bomb = Rectangle(Point(100, 80), 5, 10)    # In my video game\r\n",
    "print(\"box: \", box)\r\n",
    "print(\"bomb: \", bomb) "
   ],
   "outputs": [
    {
     "output_type": "error",
     "ename": "NameError",
     "evalue": "name 'Point' is not defined",
     "traceback": [
      "\u001b[1;31m---------------------------------------------------------------------------\u001b[0m",
      "\u001b[1;31mNameError\u001b[0m                                 Traceback (most recent call last)",
      "\u001b[1;32m~\\AppData\\Local\\Temp/ipykernel_21408/1837760431.py\u001b[0m in \u001b[0;36m<module>\u001b[1;34m\u001b[0m\n\u001b[0;32m     11\u001b[0m         \u001b[1;32mreturn\u001b[0m \u001b[1;34m\"({0}, {1}, {2})\"\u001b[0m\u001b[1;33m.\u001b[0m\u001b[0mformat\u001b[0m\u001b[1;33m(\u001b[0m\u001b[0mself\u001b[0m\u001b[1;33m.\u001b[0m\u001b[0mcorner\u001b[0m\u001b[1;33m,\u001b[0m \u001b[0mself\u001b[0m\u001b[1;33m.\u001b[0m\u001b[0mwidth\u001b[0m\u001b[1;33m,\u001b[0m \u001b[0mself\u001b[0m\u001b[1;33m.\u001b[0m\u001b[0mheight\u001b[0m\u001b[1;33m)\u001b[0m\u001b[1;33m\u001b[0m\u001b[1;33m\u001b[0m\u001b[0m\n\u001b[0;32m     12\u001b[0m \u001b[1;33m\u001b[0m\u001b[0m\n\u001b[1;32m---> 13\u001b[1;33m \u001b[0mbox\u001b[0m \u001b[1;33m=\u001b[0m \u001b[0mRectangle\u001b[0m\u001b[1;33m(\u001b[0m\u001b[0mPoint\u001b[0m\u001b[1;33m(\u001b[0m\u001b[1;36m0\u001b[0m\u001b[1;33m,\u001b[0m \u001b[1;36m0\u001b[0m\u001b[1;33m)\u001b[0m\u001b[1;33m,\u001b[0m \u001b[1;36m100\u001b[0m\u001b[1;33m,\u001b[0m \u001b[1;36m200\u001b[0m\u001b[1;33m)\u001b[0m\u001b[1;33m\u001b[0m\u001b[1;33m\u001b[0m\u001b[0m\n\u001b[0m\u001b[0;32m     14\u001b[0m \u001b[0mbomb\u001b[0m \u001b[1;33m=\u001b[0m \u001b[0mRectangle\u001b[0m\u001b[1;33m(\u001b[0m\u001b[0mPoint\u001b[0m\u001b[1;33m(\u001b[0m\u001b[1;36m100\u001b[0m\u001b[1;33m,\u001b[0m \u001b[1;36m80\u001b[0m\u001b[1;33m)\u001b[0m\u001b[1;33m,\u001b[0m \u001b[1;36m5\u001b[0m\u001b[1;33m,\u001b[0m \u001b[1;36m10\u001b[0m\u001b[1;33m)\u001b[0m    \u001b[1;31m# In my video game\u001b[0m\u001b[1;33m\u001b[0m\u001b[1;33m\u001b[0m\u001b[0m\n\u001b[0;32m     15\u001b[0m \u001b[0mprint\u001b[0m\u001b[1;33m(\u001b[0m\u001b[1;34m\"box: \"\u001b[0m\u001b[1;33m,\u001b[0m \u001b[0mbox\u001b[0m\u001b[1;33m)\u001b[0m\u001b[1;33m\u001b[0m\u001b[1;33m\u001b[0m\u001b[0m\n",
      "\u001b[1;31mNameError\u001b[0m: name 'Point' is not defined"
     ]
    }
   ],
   "metadata": {}
  },
  {
   "cell_type": "markdown",
   "source": [
    "To specify the upper-left corner, we have embedded a `Point` object (as we used it in the previous chapter) within our new `Rectangle` object! We created two new Rectangle objects, and then printed them.\r\n",
    "\r\n",
    "The dot operator composes. The expression `box.corner.x` means, “Go to the object that `box` refers to and select its attribute named `corner`, then go to that object and select its attribute named `x`”.\r\n",
    "\r\n",
    "The figure shows the state of this object:"
   ],
   "metadata": {}
  },
  {
   "cell_type": "markdown",
   "source": [
    "<p align=\"center\">\r\n",
    "<img src=\"Images/rectangle class.png\" width=\"500\" />\r\n",
    "</p>"
   ],
   "metadata": {}
  },
  {
   "cell_type": "markdown",
   "source": [
    "## 2 - Objects are mutable\r\n",
    "\r\n",
    "We can change the state of an object by making an assignment to one of its attributes. For example, to grow the size of a rectangle without changing its position, we could modify the values of `width` and `height`:"
   ],
   "metadata": {}
  },
  {
   "cell_type": "code",
   "execution_count": 20,
   "source": [
    "box.width += 50\r\n",
    "box.height += 100"
   ],
   "outputs": [],
   "metadata": {}
  },
  {
   "cell_type": "markdown",
   "source": [
    "Of course, we’d probably like to provide a method to encapsulate this inside the class. We will also provide another method to move the position of the rectangle elsewhere:"
   ],
   "metadata": {}
  },
  {
   "cell_type": "code",
   "execution_count": 4,
   "source": [
    "class Rectangle:\r\n",
    "    \"\"\" A class to manufacture rectangle objects \"\"\"\r\n",
    "\r\n",
    "    def __init__(self, posn, width, height):\r\n",
    "        \"\"\" Initialize rectangle at posn, with width w and height h \"\"\"\r\n",
    "        self.corner = posn\r\n",
    "        self.width = width\r\n",
    "        self.height = height\r\n",
    "    \r\n",
    "    def __str__(self):\r\n",
    "        return \"({0}, {1}, {2})\".format(self.corner, self.width, self.height)\r\n",
    "    \r\n",
    "    def grow(self, delta_width, delta_height):\r\n",
    "        \"\"\" Grow (or shrink this rectangle by deltas. \"\"\"\r\n",
    "        self.width += delta_width\r\n",
    "        self.height += delta_height\r\n",
    "\r\n",
    "    def move(self, delta_x, delta_y):\r\n",
    "        \"\"\" Move left corner by deltas. \"\"\"\r\n",
    "        self.corner.x += delta_x\r\n",
    "        self.corner.y += delta_y"
   ],
   "outputs": [],
   "metadata": {}
  },
  {
   "cell_type": "markdown",
   "source": [
    "Let us try this:"
   ],
   "metadata": {}
  },
  {
   "cell_type": "code",
   "execution_count": 5,
   "source": [
    "r = Rectangle(Point(10, 5), 100, 50)\r\n",
    "print(r)\r\n",
    "r.grow(10, -10)\r\n",
    "print(r)\r\n",
    "r.move(-5, 5)\r\n",
    "print(r)"
   ],
   "outputs": [
    {
     "output_type": "error",
     "ename": "NameError",
     "evalue": "name 'Point' is not defined",
     "traceback": [
      "\u001b[1;31m---------------------------------------------------------------------------\u001b[0m",
      "\u001b[1;31mNameError\u001b[0m                                 Traceback (most recent call last)",
      "\u001b[1;32m~\\AppData\\Local\\Temp/ipykernel_21408/2040808891.py\u001b[0m in \u001b[0;36m<module>\u001b[1;34m\u001b[0m\n\u001b[1;32m----> 1\u001b[1;33m \u001b[0mr\u001b[0m \u001b[1;33m=\u001b[0m \u001b[0mRectangle\u001b[0m\u001b[1;33m(\u001b[0m\u001b[0mPoint\u001b[0m\u001b[1;33m(\u001b[0m\u001b[1;36m10\u001b[0m\u001b[1;33m,\u001b[0m \u001b[1;36m5\u001b[0m\u001b[1;33m)\u001b[0m\u001b[1;33m,\u001b[0m \u001b[1;36m100\u001b[0m\u001b[1;33m,\u001b[0m \u001b[1;36m50\u001b[0m\u001b[1;33m)\u001b[0m\u001b[1;33m\u001b[0m\u001b[1;33m\u001b[0m\u001b[0m\n\u001b[0m\u001b[0;32m      2\u001b[0m \u001b[0mprint\u001b[0m\u001b[1;33m(\u001b[0m\u001b[0mr\u001b[0m\u001b[1;33m)\u001b[0m\u001b[1;33m\u001b[0m\u001b[1;33m\u001b[0m\u001b[0m\n\u001b[0;32m      3\u001b[0m \u001b[0mr\u001b[0m\u001b[1;33m.\u001b[0m\u001b[0mgrow\u001b[0m\u001b[1;33m(\u001b[0m\u001b[1;36m10\u001b[0m\u001b[1;33m,\u001b[0m \u001b[1;33m-\u001b[0m\u001b[1;36m10\u001b[0m\u001b[1;33m)\u001b[0m\u001b[1;33m\u001b[0m\u001b[1;33m\u001b[0m\u001b[0m\n\u001b[0;32m      4\u001b[0m \u001b[0mprint\u001b[0m\u001b[1;33m(\u001b[0m\u001b[0mr\u001b[0m\u001b[1;33m)\u001b[0m\u001b[1;33m\u001b[0m\u001b[1;33m\u001b[0m\u001b[0m\n\u001b[0;32m      5\u001b[0m \u001b[0mr\u001b[0m\u001b[1;33m.\u001b[0m\u001b[0mmove\u001b[0m\u001b[1;33m(\u001b[0m\u001b[1;33m-\u001b[0m\u001b[1;36m5\u001b[0m\u001b[1;33m,\u001b[0m \u001b[1;36m5\u001b[0m\u001b[1;33m)\u001b[0m\u001b[1;33m\u001b[0m\u001b[1;33m\u001b[0m\u001b[0m\n",
      "\u001b[1;31mNameError\u001b[0m: name 'Point' is not defined"
     ]
    }
   ],
   "metadata": {}
  },
  {
   "cell_type": "markdown",
   "source": [
    "## 3- Sameness\r\n",
    "\r\n",
    "The meaning of the word “same” seems perfectly clear until we give it some thought, and then we realize there is more to it than we initially expected.\r\n",
    "\r\n",
    "For example, if we say, “Alice and Bob have the same car”, we mean that her car and his are the same make and model, but that they are two different cars. If we say, “Alice and Bob have the same mother”, we mean that her mother and his are the same person.\r\n",
    "\r\n",
    "When we talk about objects, there is a similar ambiguity. For example, if two `Points` are the same, does that mean they contain the same data (coordinates) or that they are actually the same object?\r\n",
    "\r\n",
    "We’ve already seen the `is` operator in the chapter on lists, where we talked about aliases: it allows us to find out if two references refer to the same object:"
   ],
   "metadata": {}
  },
  {
   "cell_type": "code",
   "execution_count": 7,
   "source": [
    "p1 = Point(3, 4)\r\n",
    "p2 = Point(3, 4)\r\n",
    "p1 is p2"
   ],
   "outputs": [
    {
     "output_type": "execute_result",
     "data": {
      "text/plain": [
       "False"
      ]
     },
     "metadata": {},
     "execution_count": 7
    }
   ],
   "metadata": {}
  },
  {
   "cell_type": "markdown",
   "source": [
    "Even though `p1` and `p2` contain the same coordinates, they are not the same object. If we assign `p1` to `p3`, then the two variables are aliases of the same object:"
   ],
   "metadata": {}
  },
  {
   "cell_type": "code",
   "execution_count": 37,
   "source": [
    "p3 = p1\r\n",
    "p1 is p3"
   ],
   "outputs": [
    {
     "output_type": "execute_result",
     "data": {
      "text/plain": [
       "True"
      ]
     },
     "metadata": {},
     "execution_count": 37
    }
   ],
   "metadata": {}
  },
  {
   "cell_type": "markdown",
   "source": [
    "This type of equality is called **shallow equality** because it compares only the references, not the contents of the objects.\r\n",
    "\r\n",
    "To compare the contents of the objects — **deep equality** — we can write a function called same_coordinates:"
   ],
   "metadata": {}
  },
  {
   "cell_type": "code",
   "execution_count": 9,
   "source": [
    "def same_coordinates(p1, p2):\r\n",
    "    return (p1.x == p2.x) and (p1.y == p2.y)"
   ],
   "outputs": [],
   "metadata": {}
  },
  {
   "cell_type": "markdown",
   "source": [
    "Now if we create two different objects that contain the same data, we can use `same_point` to find out if they represent points with the same coordinates."
   ],
   "metadata": {}
  },
  {
   "cell_type": "code",
   "execution_count": 10,
   "source": [
    "p1 = Point(3, 4)\r\n",
    "p2 = Point(3, 4)\r\n",
    "same_coordinates(p1, p2)"
   ],
   "outputs": [
    {
     "output_type": "execute_result",
     "data": {
      "text/plain": [
       "True"
      ]
     },
     "metadata": {},
     "execution_count": 10
    }
   ],
   "metadata": {}
  },
  {
   "cell_type": "markdown",
   "source": [
    "Of course, if the two variables refer to the same object, they have both shallow and deep equality.\r\n",
    "\r\n",
    "**Beware of ==**\r\n",
    "\r\n",
    "“When I use a word,” Humpty Dumpty said, in a rather scornful tone, “it means just what I choose it to mean — neither more nor less.” *Alice in Wonderland*\r\n",
    "\r\n",
    "Python has a powerful feature that allows a designer of a class to decide what an operation like `==` or `<` should mean. (We’ve just shown how we can control how our own objects are converted to strings, so we’ve already made a start!) We’ll cover more detail later. But sometimes the implementors will attach shallow equality semantics, and sometimes deep equality, as shown in this little experiment:"
   ],
   "metadata": {}
  },
  {
   "cell_type": "code",
   "execution_count": 11,
   "source": [
    "p = Point(4, 2)\r\n",
    "s = Point(4, 2)\r\n",
    "print(\"== on Points returns\", p == s)  \r\n",
    "# By default, == on Point objects does a shallow equality test\r\n",
    "\r\n",
    "a = [2,3]\r\n",
    "b = [2,3]\r\n",
    "print(\"== on lists returns\",  a == b) \r\n",
    "# But by default, == does a deep equality test on lists"
   ],
   "outputs": [
    {
     "output_type": "stream",
     "name": "stdout",
     "text": [
      "== on Points returns False\n",
      "== on lists returns True\n"
     ]
    }
   ],
   "metadata": {}
  },
  {
   "cell_type": "markdown",
   "source": [
    "So we conclude that even though the two lists (or tuples, etc.) are distinct objects with different memory addresses, for lists the `==` operator tests for deep equality, while in the case of points it makes a shallow test."
   ],
   "metadata": {}
  },
  {
   "cell_type": "markdown",
   "source": [
    "## 4 - Copying\r\n",
    "\r\n",
    "Aliasing can make a program difficult to read because changes made in one place might have unexpected effects in another place. It is hard to keep track of all the variables that might refer to a given object.\r\n",
    "\r\n",
    "Copying an object is often an alternative to aliasing. The `copy` module contains a function called `copy` that can duplicate any object:"
   ],
   "metadata": {}
  },
  {
   "cell_type": "code",
   "execution_count": 42,
   "source": [
    "import copy\r\n",
    "p1 = Point(3, 4)\r\n",
    "p2 = copy.copy(p1)\r\n",
    "print(p1 is p2, same_coordinates(p1, p2))"
   ],
   "outputs": [
    {
     "output_type": "stream",
     "name": "stdout",
     "text": [
      "False True\n"
     ]
    }
   ],
   "metadata": {}
  },
  {
   "cell_type": "markdown",
   "source": [
    "\r\n",
    "Once we import the `copy` module, we can use the `copy` function to make a new `Point`. `p1` and `p2` are not the same point, but they contain the same data.\r\n",
    "\r\n",
    "To copy a simple object like a `Point`, which doesn’t contain any embedded objects, `copy` is sufficient. This is called shallow copying.\r\n",
    "\r\n",
    "For something like a `Rectangle`, which contains a reference to a `Point`, `copy` doesn’t do quite the right thing. It copies the reference to the `Point` object, so both the old `Rectangle` and the new one refer to a single `Point`.\r\n",
    "\r\n",
    "If we create a box, `b1`, in the usual way and then make a copy, `b2`, using copy, the resulting state diagram looks like this:\r\n",
    "\r\n",
    "<p align=\"center\">\r\n",
    "<img src=\"Images/rectangle copy diagram.png\" width=\"500\">\r\n",
    "</p>"
   ],
   "metadata": {}
  },
  {
   "cell_type": "markdown",
   "source": [
    "This is almost certainly not what we want. In this case, invoking `grow` on one of the `Rectangle` objects would not affect the other, but invoking `move` on either would affect both! This behavior is confusing and error-prone. The shallow copy has created an alias to the `Point` that represents the corner.\r\n",
    "\r\n",
    "Fortunately, the `copy` module contains a function named `deepcopy` that copies not only the object but also any embedded objects. It won’t be surprising to learn that this operation is called a **deep copy**."
   ],
   "metadata": {}
  },
  {
   "cell_type": "markdown",
   "source": [
    "`b2 = copy.deepcopy(b1)`\r\n",
    "\r\n",
    "Now `b1` and `b2` are completely separate objects."
   ],
   "metadata": {}
  },
  {
   "cell_type": "markdown",
   "source": [
    "## 5 - Glossary\r\n",
    "\r\n",
    "**deep copy**\r\n",
    "\r\n",
    "To copy the contents of an object as well as any embedded objects, and any objects embedded in them, and so on; implemented by the deepcopy function in the copy module.\r\n",
    "\r\n",
    "**deep equality**\r\n",
    "\r\n",
    "Equality of values, or two references that point to objects that have the same value.\r\n",
    "\r\n",
    "**shallow copy**\r\n",
    "\r\n",
    "To copy the contents of an object, including any references to embedded objects; implemented by the copy function in the copy module.\r\n",
    "\r\n",
    "**shallow equality**\r\n",
    "\r\n",
    "Equality of references, or two references that point to the same object."
   ],
   "metadata": {}
  },
  {
   "cell_type": "markdown",
   "source": [
    "# 6 - Exercises\r\n",
    "\r\n",
    "1. Add a method `area` to the `Rectangle` class that returns the area of any instance.\r\n",
    "2. Write a `perimeter` method in the `Rectangle` class so that we can find the perimeter of any rectangle instance.\r\n",
    "3. Write a `flip` method in the `Rectangle` class that swaps the width and the height of any rectangle instance."
   ],
   "metadata": {}
  },
  {
   "cell_type": "code",
   "execution_count": 20,
   "source": [
    "class Point:\r\n",
    "    \"\"\" Create a new Point, at coordinates x, y \"\"\"\r\n",
    "\r\n",
    "    def __init__(self, x=0, y=0):\r\n",
    "        \"\"\" Create a new point at x, y \"\"\"\r\n",
    "        self.x = x\r\n",
    "        self.y = y \r\n",
    "    \r\n",
    "    def distance_from_origin(self):\r\n",
    "        \"\"\"Compute my distance from the origin\"\"\"\r\n",
    "        return ((self.x**2 + self.y**2)**0.5)\r\n",
    "        \r\n",
    "    def __str__(self):\r\n",
    "        return \"({0}, {1})\".format(self.x, self.y)\r\n",
    "\r\n",
    "\r\n",
    "\r\n",
    "class Rectangle:\r\n",
    "    \"\"\" A class to manufacture rectangle objects \"\"\"\r\n",
    "\r\n",
    "    def __init__(self, posn, width, height):\r\n",
    "        \"\"\" Initialize rectangle at posn, with width w and height h \"\"\"\r\n",
    "        self.corner = posn\r\n",
    "        self.width = width\r\n",
    "        self.height = height\r\n",
    "    \r\n",
    "    def __str__(self):\r\n",
    "        return \"({0}, {1}, {2})\".format(self.corner, self.width, self.height)\r\n",
    "    \r\n",
    "    def grow(self, delta_width, delta_height):\r\n",
    "        \"\"\" Grow (or shrink this rectangle by deltas. \"\"\"\r\n",
    "        self.width += delta_width\r\n",
    "        self.height += delta_height\r\n",
    "\r\n",
    "    def move(self, delta_x, delta_y):\r\n",
    "        \"\"\" Move left corner by deltas. \"\"\"\r\n",
    "        self.corner.x += delta_x\r\n",
    "        self.corner.y += delta_y\r\n",
    "    \r\n",
    "    def area(self):\r\n",
    "        self.area = self.width * self.height\r\n",
    "        return self.area\r\n",
    "    \r\n",
    "    def perimeter(self):\r\n",
    "        self.perimeter = (self.width + self.height) * 2\r\n",
    "        return self.perimeter\r\n",
    "    \r\n",
    "    def flip(self):\r\n",
    "        (self.width, self.height) = (self.height, self.width)\r\n",
    "\r\n",
    "\r\n",
    "r = Rectangle(Point(0, 0), 10, 5)\r\n",
    "print(r.area(), r.perimeter())"
   ],
   "outputs": [
    {
     "output_type": "stream",
     "name": "stdout",
     "text": [
      "50 30\n"
     ]
    }
   ],
   "metadata": {}
  },
  {
   "cell_type": "markdown",
   "source": [
    "All sources taken from [Learn Python the Right Way](https://learnpythontherightway.com) and [Wikipedia](https://en.wikipedia.org/wiki/Main_Page)"
   ],
   "metadata": {}
  }
 ],
 "metadata": {
  "interpreter": {
   "hash": "af08a664c9379a2eef6a59a35895b3c7b95bf968efc61f7032ca2d38064b34f9"
  },
  "kernelspec": {
   "display_name": "Python 3.9.5 64-bit",
   "name": "python3"
  },
  "language_info": {
   "codemirror_mode": {
    "name": "ipython",
    "version": 3
   },
   "file_extension": ".py",
   "mimetype": "text/x-python",
   "name": "python",
   "nbconvert_exporter": "python",
   "pygments_lexer": "ipython3",
   "version": "3.9.5"
  },
  "orig_nbformat": 4
 },
 "nbformat": 4,
 "nbformat_minor": 2
}