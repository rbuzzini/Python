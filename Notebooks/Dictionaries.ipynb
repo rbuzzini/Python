{
 "cells": [
  {
   "cell_type": "markdown",
   "metadata": {},
   "source": [
    "All of the compound data types we have studied in detail so far — strings, lists, and tuples — are sequence types, which use integers as indices to access the values they contain within them.\r\n",
    "\r\n",
    "**Dictionaries** are yet another kind of compound type. They are Python’s built-in **mapping type**. They map **keys**, which can be any immutable type, to values, which can be any type (heterogeneous), just like the elements of a list or tuple. In other languages, they are called associative arrays since they associate a key with a value.\r\n",
    "\r\n",
    "As an example, we will create a dictionary to translate English words into Spanish. For this dictionary, the keys are strings.\r\n",
    "\r\n",
    "One way to create a dictionary is to start with the empty dictionary and add **key:value pairs**. The empty dictionary is denoted `{}`:"
   ]
  },
  {
   "cell_type": "code",
   "execution_count": 2,
   "metadata": {},
   "outputs": [],
   "source": [
    "eng2sp = {}\r\n",
    "eng2sp[\"one\"] = \"uno\"\r\n",
    "eng2sp[\"two\"] = \"dos\""
   ]
  },
  {
   "cell_type": "markdown",
   "metadata": {},
   "source": [
    "The first assignment creates a dictionary named `eng2sp`; the other assignments add new key:value pairs to the dictionary. We can print the current value of the dictionary in the usual way:"
   ]
  },
  {
   "cell_type": "code",
   "execution_count": 3,
   "metadata": {},
   "outputs": [
    {
     "name": "stdout",
     "output_type": "stream",
     "text": [
      "{'one': 'uno', 'two': 'dos'}\n"
     ]
    }
   ],
   "source": [
    "print(eng2sp)"
   ]
  },
  {
   "cell_type": "markdown",
   "metadata": {},
   "source": [
    "The key:value pairs of the dictionary are separated by commas. Each pair contains a key and a value separated by a colon.\r\n",
    "\r\n",
    "**Hashing**\r\n",
    "\r\n",
    "The order of the pairs may not be what was expected. Python uses complex algorithms, designed for very fast access, to determine where the key:value pairs are stored in a dictionary. For our purposes we can think of this ordering as unpredictable.\r\n",
    "\r\n",
    "You also might wonder why we use dictionaries at all when the same concept of mapping a key to a value could be implemented using a list of tuples:"
   ]
  },
  {
   "cell_type": "code",
   "execution_count": 5,
   "metadata": {},
   "outputs": [
    {
     "data": {
      "text/plain": [
       "[('apples', 430), ('bananas', 312), ('oranges', 525), ('pears', 217)]"
      ]
     },
     "execution_count": 5,
     "metadata": {},
     "output_type": "execute_result"
    }
   ],
   "source": [
    "{\"apples\": 430, \"bananas\": 312, \"oranges\": 525, \"pears\": 217}\r\n",
    "{'pears': 217, 'apples': 430, 'oranges': 525, 'bananas': 312}\r\n",
    "[('apples', 430), ('bananas', 312), ('oranges', 525), ('pears', 217)]\r\n",
    "[('apples', 430), ('bananas', 312), ('oranges', 525), ('pears', 217)]"
   ]
  },
  {
   "cell_type": "markdown",
   "metadata": {},
   "source": [
    "The reason is dictionaries are very fast, implemented using a technique called hashing, which allows us to access a value very quickly. By contrast, the list of tuples implementation is slow. If we wanted to find a value associated with a key, we would have to iterate over every tuple, checking the 0th element. What if the key wasn’t even in the list? We would have to get to the end of it to find out."
   ]
  },
  {
   "cell_type": "markdown",
   "metadata": {},
   "source": [
    "Another way to create a dictionary is to provide a list of key:value pairs using the same syntax as the previous output:"
   ]
  },
  {
   "cell_type": "code",
   "execution_count": null,
   "metadata": {},
   "outputs": [],
   "source": [
    "eng2sp = {\"one\": \"uno\", \"two\":\"dos\", \"three\":\"tres\"}"
   ]
  },
  {
   "cell_type": "markdown",
   "metadata": {},
   "source": [
    "It doesn’t matter what order we write the pairs. The values in a dictionary are accessed with keys, not with indices, so there is no need to care about ordering.\r\n",
    "\r\n",
    "Here is how we use a key to look up the corresponding value:"
   ]
  },
  {
   "cell_type": "code",
   "execution_count": 6,
   "metadata": {},
   "outputs": [
    {
     "name": "stdout",
     "output_type": "stream",
     "text": [
      "dos\n"
     ]
    }
   ],
   "source": [
    "print(eng2sp[\"two\"])"
   ]
  },
  {
   "cell_type": "markdown",
   "metadata": {},
   "source": [
    "The key `\"two\"` yields the value `\"dos\"`.\r\n",
    "\r\n",
    "Lists, tuples, and strings have been called *sequences*, because their items occur in order. The dictionary is the first compound type that we’ve seen that is not a sequence, so we can’t index or slice a dictionary."
   ]
  },
  {
   "cell_type": "markdown",
   "metadata": {},
   "source": [
    "## 1 - Dictionary operations\r\n",
    "\r\n",
    "The `del` statement removes a key:value pair from a dictionary. For example, the following dictionary contains the names of various fruits and the number of each fruit in stock:"
   ]
  },
  {
   "cell_type": "code",
   "execution_count": 7,
   "metadata": {},
   "outputs": [],
   "source": [
    "inventory = {\"apples\": 430, \"bananas\": 312, \"oranges\": 525, \"pears\": 217}"
   ]
  },
  {
   "cell_type": "markdown",
   "metadata": {},
   "source": [
    "If someones buys all the pears, we can remove the entry from the dictionary:"
   ]
  },
  {
   "cell_type": "code",
   "execution_count": 8,
   "metadata": {},
   "outputs": [
    {
     "name": "stdout",
     "output_type": "stream",
     "text": [
      "{'apples': 430, 'bananas': 312, 'oranges': 525}\n"
     ]
    }
   ],
   "source": [
    "del inventory[\"pears\"]\r\n",
    "print(inventory)"
   ]
  },
  {
   "cell_type": "markdown",
   "metadata": {},
   "source": [
    "Or if we're expecting more pears soon, we might just change the value associated with pears:"
   ]
  },
  {
   "cell_type": "code",
   "execution_count": 9,
   "metadata": {},
   "outputs": [
    {
     "name": "stdout",
     "output_type": "stream",
     "text": [
      "{'apples': 430, 'bananas': 312, 'oranges': 525, 'pears': 0}\n"
     ]
    }
   ],
   "source": [
    "inventory[\"pears\"] = 0\r\n",
    "print(inventory)"
   ]
  },
  {
   "cell_type": "markdown",
   "metadata": {},
   "source": [
    "A new shipment of bananas arriving could be handled like this:"
   ]
  },
  {
   "cell_type": "code",
   "execution_count": 10,
   "metadata": {},
   "outputs": [
    {
     "name": "stdout",
     "output_type": "stream",
     "text": [
      "{'apples': 430, 'bananas': 512, 'oranges': 525, 'pears': 0}\n"
     ]
    }
   ],
   "source": [
    "inventory[\"bananas\"] +=200\r\n",
    "print(inventory)"
   ]
  },
  {
   "cell_type": "markdown",
   "metadata": {},
   "source": [
    "The `len` function also works on dictionaries; it returns the number of key:value pairs."
   ]
  },
  {
   "cell_type": "markdown",
   "metadata": {},
   "source": [
    "## 2 - Dictionary methods\r\n",
    "\r\n",
    "Dictionaries have a number of useful built-in methods.\r\n",
    "\r\n",
    "The `keys` method returns what Python 3 calls a **view** of its underlying keys. A view object has some similarities to the `range` object we saw earlier —it is a lazy promise, to deliver its elements when they’re needed by the rest of the program. We can iterate over the view, or turn the view into a list like this:"
   ]
  },
  {
   "cell_type": "code",
   "execution_count": 13,
   "metadata": {},
   "outputs": [
    {
     "name": "stdout",
     "output_type": "stream",
     "text": [
      "Got key one which maps to value uno\n",
      "Got key two which maps to value dos\n",
      "['one', 'two']\n"
     ]
    }
   ],
   "source": [
    "for k in eng2sp.keys():         # The order of the k's is not defined\r\n",
    "    print(\"Got key\", k, \"which maps to value\", eng2sp[k])\r\n",
    "\r\n",
    "ks = list(eng2sp.keys())\r\n",
    "print(ks)"
   ]
  },
  {
   "cell_type": "markdown",
   "metadata": {},
   "source": [
    "It is so common to iterate over the keys in a dictionary that we can omit the `keys` method call in the `for` loop — iterating over a dictionary implicitly iterates over its keys:"
   ]
  },
  {
   "cell_type": "code",
   "execution_count": 14,
   "metadata": {},
   "outputs": [
    {
     "name": "stdout",
     "output_type": "stream",
     "text": [
      "Got key one\n",
      "Got key two\n"
     ]
    }
   ],
   "source": [
    "for k in eng2sp:     \r\n",
    "   print(\"Got key\", k)   "
   ]
  },
  {
   "cell_type": "markdown",
   "metadata": {},
   "source": [
    "The `values` method is similar; it returns a view object which can be turned into a list:"
   ]
  },
  {
   "cell_type": "code",
   "execution_count": 15,
   "metadata": {},
   "outputs": [
    {
     "data": {
      "text/plain": [
       "['uno', 'dos']"
      ]
     },
     "execution_count": 15,
     "metadata": {},
     "output_type": "execute_result"
    }
   ],
   "source": [
    "list(eng2sp.values())"
   ]
  },
  {
   "cell_type": "markdown",
   "metadata": {},
   "source": [
    "The `items` method also returns a view, which promises a list of tuples — one tuple for each key:value pair:"
   ]
  },
  {
   "cell_type": "code",
   "execution_count": 16,
   "metadata": {},
   "outputs": [
    {
     "data": {
      "text/plain": [
       "[('one', 'uno'), ('two', 'dos')]"
      ]
     },
     "execution_count": 16,
     "metadata": {},
     "output_type": "execute_result"
    }
   ],
   "source": [
    "list(eng2sp.items())"
   ]
  },
  {
   "cell_type": "markdown",
   "metadata": {},
   "source": [
    "Tuples are often useful for getting both the key and the value at the same time while we are looping:"
   ]
  },
  {
   "cell_type": "code",
   "execution_count": 17,
   "metadata": {},
   "outputs": [
    {
     "name": "stdout",
     "output_type": "stream",
     "text": [
      "Got one that maps to uno\n",
      "Got two that maps to dos\n"
     ]
    }
   ],
   "source": [
    "for (k,v) in eng2sp.items():\r\n",
    "    print(\"Got\",k,\"that maps to\",v)"
   ]
  },
  {
   "cell_type": "markdown",
   "metadata": {},
   "source": [
    "The `in` and `not in` operators can test if a key is in the dictionary:"
   ]
  },
  {
   "cell_type": "code",
   "execution_count": 18,
   "metadata": {},
   "outputs": [
    {
     "name": "stdout",
     "output_type": "stream",
     "text": [
      "True\n",
      "True\n"
     ]
    }
   ],
   "source": [
    "print(\"one\" in eng2sp)\r\n",
    "print(\"six\" not in eng2sp)"
   ]
  },
  {
   "cell_type": "markdown",
   "metadata": {},
   "source": [
    "This method can be very useful, since looking up a non-existent key in a dictionary causes a runtime error."
   ]
  },
  {
   "cell_type": "markdown",
   "metadata": {},
   "source": [
    "## 3 - Aliasing and copying\r\n",
    "\r\n",
    "As in the case of lists, because dictionaries are mutable, we need to be aware of aliasing. Whenever two variables refer to the same object, changes to one affect the other.\r\n",
    "\r\n",
    "If we want to modify a dictionary and keep a copy of the original, use the `copy` method. For example, `opposites` is a dictionary that contains pairs of opposites:"
   ]
  },
  {
   "cell_type": "code",
   "execution_count": 20,
   "metadata": {},
   "outputs": [],
   "source": [
    "opposites = {\"up\": \"down\", \"right\": \"wrong\", \"yes\": \"no\"}\r\n",
    "alias = opposites\r\n",
    "copy = opposites.copy()  # Shallow copy"
   ]
  },
  {
   "cell_type": "markdown",
   "metadata": {},
   "source": [
    "`alias` and `opposites` refer to the same object; `copy` refers to a fresh copy of the same dictionary. If we modify `alias`, `opposites` is also changed:"
   ]
  },
  {
   "cell_type": "code",
   "execution_count": 21,
   "metadata": {},
   "outputs": [
    {
     "data": {
      "text/plain": [
       "'left'"
      ]
     },
     "execution_count": 21,
     "metadata": {},
     "output_type": "execute_result"
    }
   ],
   "source": [
    "alias[\"right\"] = \"left\"\r\n",
    "opposites[\"right\"]"
   ]
  },
  {
   "cell_type": "markdown",
   "metadata": {},
   "source": [
    "If we modify `copy`, `opposites` is unchanged:"
   ]
  },
  {
   "cell_type": "markdown",
   "metadata": {},
   "source": [
    "## 4 - Sparse matrices\r\n",
    "\r\n",
    "We previously used a list of lists to represent a matrix. That is a good choice for a matrix with mostly nonzero values, but consider a [sparse matrix](https://en.wikipedia.org/wiki/Sparse_matrix) like this one:"
   ]
  },
  {
   "cell_type": "markdown",
   "metadata": {},
   "source": [
    "<p align=\"center\">\r\n",
    "<img src=\"Images/sparse matrix.png\" width=\"100\">\r\n",
    "</p>"
   ]
  },
  {
   "cell_type": "markdown",
   "metadata": {},
   "source": [
    "The list representation contains a lot of zeros:"
   ]
  },
  {
   "cell_type": "code",
   "execution_count": 22,
   "metadata": {},
   "outputs": [],
   "source": [
    "matrix = [[0, 0, 0, 1, 0],\r\n",
    "          [0, 0, 0, 0, 0],\r\n",
    "          [0, 2, 0, 0, 0],\r\n",
    "          [0, 0, 0, 0, 0],\r\n",
    "          [0, 0, 0, 3, 0]]"
   ]
  },
  {
   "cell_type": "markdown",
   "metadata": {},
   "source": [
    "An alternative is to use a dictionary. For the keys, we can use tuples that contain the row and column numbers. Here is the dictionary representation of the same matrix:"
   ]
  },
  {
   "cell_type": "code",
   "execution_count": 23,
   "metadata": {},
   "outputs": [
    {
     "data": {
      "text/plain": [
       "{(0, 3): 1, (2, 1): 2, (4, 3): 3}"
      ]
     },
     "execution_count": 23,
     "metadata": {},
     "output_type": "execute_result"
    }
   ],
   "source": [
    "matrix = {(0, 3): 1, (2, 1): 2, (4, 3): 3}"
   ]
  },
  {
   "cell_type": "markdown",
   "metadata": {},
   "source": [
    "We only need three key:value pairs, one for each nonzero element of the matrix. Each key is a tuple, and each value is an integer.\r\n",
    "\r\n",
    "To access an element of the matrix, we could use the `[]` operator:"
   ]
  },
  {
   "cell_type": "code",
   "execution_count": 24,
   "metadata": {},
   "outputs": [
    {
     "data": {
      "text/plain": [
       "1"
      ]
     },
     "execution_count": 24,
     "metadata": {},
     "output_type": "execute_result"
    }
   ],
   "source": [
    "matrix[(0, 3)]"
   ]
  },
  {
   "cell_type": "markdown",
   "metadata": {},
   "source": [
    "Notice that the syntax for the dictionary representation is not the same as the syntax for the nested list representation. Instead of two integer indices, we use one index, which is a tuple of integers.\r\n",
    "\r\n",
    "There is one problem. If we specify an element that is zero, we get an error, because there is no entry in the dictionary with that key:"
   ]
  },
  {
   "cell_type": "code",
   "execution_count": 25,
   "metadata": {},
   "outputs": [
    {
     "ename": "KeyError",
     "evalue": "(1, 3)",
     "output_type": "error",
     "traceback": [
      "\u001b[1;31m---------------------------------------------------------------------------\u001b[0m",
      "\u001b[1;31mKeyError\u001b[0m                                  Traceback (most recent call last)",
      "\u001b[1;32m~\\AppData\\Local\\Temp/ipykernel_8620/4250029204.py\u001b[0m in \u001b[0;36m<module>\u001b[1;34m\u001b[0m\n\u001b[1;32m----> 1\u001b[1;33m \u001b[0mmatrix\u001b[0m\u001b[1;33m[\u001b[0m\u001b[1;33m(\u001b[0m\u001b[1;36m1\u001b[0m\u001b[1;33m,\u001b[0m \u001b[1;36m3\u001b[0m\u001b[1;33m)\u001b[0m\u001b[1;33m]\u001b[0m\u001b[1;33m\u001b[0m\u001b[1;33m\u001b[0m\u001b[0m\n\u001b[0m",
      "\u001b[1;31mKeyError\u001b[0m: (1, 3)"
     ]
    }
   ],
   "source": [
    "matrix[(1, 3)]"
   ]
  },
  {
   "cell_type": "markdown",
   "metadata": {},
   "source": [
    "The `get` method solves this problem:"
   ]
  },
  {
   "cell_type": "code",
   "execution_count": 26,
   "metadata": {},
   "outputs": [
    {
     "data": {
      "text/plain": [
       "1"
      ]
     },
     "execution_count": 26,
     "metadata": {},
     "output_type": "execute_result"
    }
   ],
   "source": [
    "matrix.get((0, 3), 0)"
   ]
  },
  {
   "cell_type": "markdown",
   "metadata": {},
   "source": [
    "The first argument is the key; the second argument is the value `get` should return if the key is not in the dictionary:"
   ]
  },
  {
   "cell_type": "code",
   "execution_count": 27,
   "metadata": {},
   "outputs": [
    {
     "data": {
      "text/plain": [
       "0"
      ]
     },
     "execution_count": 27,
     "metadata": {},
     "output_type": "execute_result"
    }
   ],
   "source": [
    "matrix.get((1, 3), 0)"
   ]
  },
  {
   "cell_type": "markdown",
   "metadata": {},
   "source": [
    "`get` definitely improves the semantics of accessing a sparse matrix. Shame about the syntax."
   ]
  },
  {
   "cell_type": "markdown",
   "metadata": {},
   "source": [
    "## 5 - Memoization\r\n",
    "\r\n",
    "The bigger the argument you provide, the longer the function takes to run. Furthermore, the run time increases very quickly.\r\n",
    "To understand why, consider this **call graph** for `fib` with `n = 4`:\r\n",
    "\r\n",
    "<p align=\"center\">\r\n",
    "<img src=\"Images/fib graph.png\" width=\"250\">\r\n",
    "</p>\r\n",
    "\r\n",
    "A call graph shows some function frames (instances when the function has been invoked), with lines connecting each frame to the frames of the functions it calls. At the top of the graph, `fib` with `n = 4` calls `fib` with `n = 3` and `n = 2`. In turn, `fib` with `n = 3` calls fib with `n = 2` and `n = 1`. And so on.\r\n",
    "\r\n",
    "\r\n",
    "Count how many times`fib(0)` and `fib(1)` are called. This is an inefficient solution to the problem, and it gets far worse as the argument gets bigger.\r\n",
    "\r\n",
    "A good solution is to keep track of values that have already been computed by storing them in a dictionary. A previously computed value that is stored for later use is called a **memo**. Here is an implementation of `fib` using memos:"
   ]
  },
  {
   "cell_type": "code",
   "execution_count": 28,
   "metadata": {},
   "outputs": [],
   "source": [
    "alreadyknown = {0: 0, 1: 1}\r\n",
    "\r\n",
    "def fib(n):\r\n",
    "    if n not in alreadyknown:\r\n",
    "        new_value = fib(n-1) + fib(n-2)\r\n",
    "        alreadyknown[n] = new_value\r\n",
    "    return alreadyknown[n]"
   ]
  },
  {
   "cell_type": "markdown",
   "metadata": {},
   "source": [
    "The dictionary named `alreadyknown` keeps track of the Fibonacci numbers we already know. We start with only two pairs: 0 maps to 1; and 1 maps to 1.\r\n",
    "\r\n",
    "Whenever `fib` is called, it checks the dictionary to determine if it contains the result. If it’s there, the function can return immediately without making any more recursive calls. If not, it has to compute the new value. The new value is added to the dictionary before the function returns.\r\n",
    "\r\n",
    "Using this version of `fib`, our machines can compute `fib(100)` in an eyeblink."
   ]
  },
  {
   "cell_type": "code",
   "execution_count": 29,
   "metadata": {},
   "outputs": [
    {
     "data": {
      "text/plain": [
       "354224848179261915075"
      ]
     },
     "execution_count": 29,
     "metadata": {},
     "output_type": "execute_result"
    }
   ],
   "source": [
    "fib(100)"
   ]
  },
  {
   "cell_type": "markdown",
   "metadata": {},
   "source": [
    "## 6 - Counting letters\r\n",
    "\r\n",
    "In the exercises in Chapter 8 (Strings) we wrote a function that counted the number of occurrences of a letter in a string. A more general version of this problem is to form a frequency table of the letters in the string, that is, how many times each letter appears.\r\n",
    "\r\n",
    "Such a frequency table might be useful for compressing a text file. Because different letters appear with different frequencies, we can compress a file by using shorter codes for common letters and longer codes for letters that appear less frequently.\r\n",
    "\r\n",
    "Dictionaries provide an elegant way to generate a frequency table:"
   ]
  },
  {
   "cell_type": "code",
   "execution_count": 30,
   "metadata": {},
   "outputs": [
    {
     "name": "stdout",
     "output_type": "stream",
     "text": [
      "{'M': 1, 'i': 4, 's': 4, 'p': 2}\n"
     ]
    }
   ],
   "source": [
    "letter_counts = {}\r\n",
    "for letter in \"Mississippi\":\r\n",
    "    letter_counts[letter] = letter_counts.get(letter, 0) + 1\r\n",
    "\r\n",
    "print(letter_counts)"
   ]
  },
  {
   "cell_type": "markdown",
   "metadata": {},
   "source": [
    "We start with an empty dictionary. For each letter in the string, we find the current count (possibly zero) and increment it. At the end, the dictionary contains pairs of letters and their frequencies.\r\n",
    "\r\n",
    "It might be more appealing to display the frequency table in alphabetical order. We can do that with the `items` and `sort` methods:"
   ]
  },
  {
   "cell_type": "code",
   "execution_count": 33,
   "metadata": {},
   "outputs": [
    {
     "name": "stdout",
     "output_type": "stream",
     "text": [
      "[('M', 1), ('i', 4), ('p', 2), ('s', 4)]\n"
     ]
    }
   ],
   "source": [
    "letter_items = list(letter_counts.items())\r\n",
    "letter_items.sort()\r\n",
    "print(letter_items)"
   ]
  },
  {
   "cell_type": "markdown",
   "metadata": {},
   "source": [
    "Notice in the first line we had to call the type conversion function `list`. That turns the promise we get from `items` into a list, a step that is needed before we can use the list’s `sort` method."
   ]
  },
  {
   "cell_type": "markdown",
   "metadata": {},
   "source": [
    "## 7 - Glossary\r\n",
    "\r\n",
    "**call graph**  \r\n",
    "    A graph consisting of nodes which represent function frames (or\r\n",
    "    invocations), and directed edges (lines with arrows) showing which\r\n",
    "    frames gave rise to other frames.\r\n",
    "\r\n",
    "**dictionary** \r\n",
    "    A collection of key:value pairs that maps from keys to values. The keys\r\n",
    "    can be any immutable value, and the associated value can be of any type.\r\n",
    "\r\n",
    "**immutable data value**  \r\n",
    "    A data value which cannot be modified. Assignments to elements or slices\r\n",
    "    (sub-parts) of immutable values cause a runtime error.\r\n",
    "\r\n",
    "**key**  \r\n",
    "    A data item that is *mapped to* a value in a dictionary. Keys are used\r\n",
    "    to look up values in a dictionary. Each key must be unique across the\r\n",
    "    dictionary.\r\n",
    "\r\n",
    "**key:value pair**  \r\n",
    "    One of the pairs of items in a dictionary. Values are looked up in a\r\n",
    "    dictionary by key.\r\n",
    "\r\n",
    "**mapping type**  \r\n",
    "    A mapping type is a data type comprised of a collection of keys and\r\n",
    "    associated values. Python's only built-in mapping type is the\r\n",
    "    dictionary. Dictionaries implement the [associative array](http://en.wikipedia.org/wiki/Associative_array) abstract data type.\r\n",
    "\r\n",
    "**memo**  \r\n",
    "    Temporary storage of precomputed values to avoid duplicating the same\r\n",
    "    computation.\r\n",
    "\r\n",
    "**mutable data value**  \r\n",
    "    A data value which can be modified. The types of all mutable values are\r\n",
    "    compound types. Lists and dictionaries are mutable; strings and tuples\r\n",
    "    are not."
   ]
  },
  {
   "cell_type": "markdown",
   "metadata": {},
   "source": [
    "## 8 - Exercises\r\n",
    "\r\n",
    "1. Write a program that reads a string and returns a table of the letters of the alphabet in alphabetical order which occur in the string together with the number of times each letter occurs. Case should be ignored. A sample output of the program when the user enters the data “ThiS is String with Upper and lower case Letters”, would look this this:"
   ]
  },
  {
   "cell_type": "code",
   "execution_count": 1,
   "metadata": {},
   "outputs": [
    {
     "ename": "SyntaxError",
     "evalue": "invalid syntax (Temp/ipykernel_9096/4155773235.py, line 1)",
     "output_type": "error",
     "traceback": [
      "\u001b[1;36m  File \u001b[1;32m\"C:\\Users\\rbuzzini\\AppData\\Local\\Temp/ipykernel_9096/4155773235.py\"\u001b[1;36m, line \u001b[1;32m1\u001b[0m\n\u001b[1;33m    a  2\u001b[0m\n\u001b[1;37m       ^\u001b[0m\n\u001b[1;31mSyntaxError\u001b[0m\u001b[1;31m:\u001b[0m invalid syntax\n"
     ]
    }
   ],
   "source": [
    "a  2\r\n",
    "c  1\r\n",
    "d  1\r\n",
    "e  5\r\n",
    "g  1\r\n",
    "h  2\r\n",
    "i  4\r\n",
    "l  2\r\n",
    "n  2\r\n",
    "o  1\r\n",
    "p  2\r\n",
    "r  4\r\n",
    "s  5\r\n",
    "t  5\r\n",
    "u  1\r\n",
    "w  2"
   ]
  },
  {
   "cell_type": "code",
   "execution_count": 10,
   "metadata": {},
   "outputs": [
    {
     "name": "stdout",
     "output_type": "stream",
     "text": [
      "t \t 5\n",
      "h \t 2\n",
      "i \t 4\n",
      "s \t 5\n",
      "  \t 8\n",
      "r \t 4\n",
      "n \t 2\n",
      "g \t 1\n",
      "w \t 2\n",
      "u \t 1\n",
      "p \t 2\n",
      "e \t 5\n",
      "a \t 2\n",
      "d \t 1\n",
      "l \t 2\n",
      "o \t 1\n",
      "c \t 1\n"
     ]
    }
   ],
   "source": [
    "#import string\r\n",
    "string = \"ThiS is String with Upper and lower case Letters\"\r\n",
    "string = string.lower()\r\n",
    "freq = {}\r\n",
    "\r\n",
    "\"\"\"\r\n",
    "for i in string:\r\n",
    "    if i in freq:\r\n",
    "        freq[i] += 1\r\n",
    "    else:\r\n",
    "        freq[i] = 1\r\n",
    "freq\r\n",
    "\"\"\"\r\n",
    "\r\n",
    "# Using get method:\r\n",
    "\r\n",
    "for key in string:\r\n",
    "    freq[key] = freq.get(key, 0) + 1\r\n",
    "freq\r\n",
    "\r\n",
    "for el in freq:\r\n",
    "    print(el, \"\\t\", freq.get(el))"
   ]
  },
  {
   "cell_type": "code",
   "execution_count": 28,
   "metadata": {},
   "outputs": [
    {
     "name": "stdout",
     "output_type": "stream",
     "text": [
      "t \t 5\n",
      "h \t 2\n",
      "i \t 4\n",
      "s \t 5\n",
      "r \t 4\n",
      "n \t 2\n",
      "g \t 1\n",
      "w \t 2\n",
      "u \t 1\n",
      "p \t 2\n",
      "e \t 5\n",
      "a \t 2\n",
      "d \t 1\n",
      "l \t 2\n",
      "o \t 1\n",
      "c \t 1\n",
      "None\n",
      "t \t 5\n",
      "h \t 2\n",
      "i \t 4\n",
      "s \t 5\n",
      "r \t 4\n",
      "n \t 2\n",
      "g \t 1\n",
      "w \t 2\n",
      "u \t 1\n",
      "p \t 2\n",
      "e \t 5\n",
      "a \t 2\n",
      "d \t 1\n",
      "l \t 2\n",
      "o \t 1\n",
      "c \t 1\n",
      "t \t 5\n",
      "h \t 2\n",
      "i \t 4\n",
      "s \t 5\n",
      "r \t 4\n",
      "n \t 2\n",
      "g \t 1\n",
      "w \t 2\n",
      "u \t 1\n",
      "p \t 2\n",
      "e \t 5\n",
      "a \t 2\n",
      "d \t 1\n",
      "l \t 2\n",
      "o \t 1\n",
      "c \t 1\n",
      "True\n"
     ]
    }
   ],
   "source": [
    "string = \"ThiS is String with Upper and lower case Letters\"\r\n",
    "\r\n",
    "# Naive method:\r\n",
    "def table_of_freq(text):\r\n",
    "    text = text.replace(\" \",\"\").lower()\r\n",
    "    freq = {}\r\n",
    "\r\n",
    "    \"\"\"Popolate freq dictionary with letters frequencies\"\"\"\r\n",
    "    for i in text:\r\n",
    "        if i in freq:\r\n",
    "            freq[i] += 1\r\n",
    "        else:\r\n",
    "            freq[i] = 1\r\n",
    "    \r\n",
    "    \"\"\"Create the printing format\"\"\"\r\n",
    "    for el in freq:\r\n",
    "        print(el, \"\\t\", freq.get(el))\r\n",
    "\r\n",
    "print(table_of_freq(string))\r\n",
    "\r\n",
    "# Solve the exercise with get method:\r\n",
    "\r\n",
    "def table_of_freq2(text):\r\n",
    "    text = text.replace(\" \",\"\").lower()\r\n",
    "    freq2 = {}\r\n",
    "\r\n",
    "    \"\"\"Popolate freq dictionary with letters frequencies using get method\"\"\"\r\n",
    "    for i in text:\r\n",
    "        freq2[i] = freq2.get(i, 0) + 1\r\n",
    "    \r\n",
    "    \"\"\"Create the printing format\"\"\"\r\n",
    "    for el in freq2:\r\n",
    "        print(el, \"\\t\", freq2.get(el))\r\n",
    "\r\n",
    "print(table_of_freq(string) == table_of_freq2(string))"
   ]
  },
  {
   "cell_type": "markdown",
   "metadata": {},
   "source": [
    "2. Write a program called alice_words.py that creates a text file named alice_words.txt containing an alphabetical listing of all the words, and the number of times each occurs, in the text version of Alice’s Adventures in Wonderland"
   ]
  },
  {
   "cell_type": "markdown",
   "metadata": {},
   "source": [
    "All references at https://learnpythontherightway.com/chapter/chapter-20.html and [Wikipedia](https://en.wikipedia.org/wiki/English_Wikipedia)"
   ]
  }
 ],
 "metadata": {
  "interpreter": {
   "hash": "af08a664c9379a2eef6a59a35895b3c7b95bf968efc61f7032ca2d38064b34f9"
  },
  "kernelspec": {
   "display_name": "Python 3.9.5 64-bit",
   "name": "python3"
  },
  "language_info": {
   "codemirror_mode": {
    "name": "ipython",
    "version": 3
   },
   "file_extension": ".py",
   "mimetype": "text/x-python",
   "name": "python",
   "nbconvert_exporter": "python",
   "pygments_lexer": "ipython3",
   "version": "3.9.5"
  },
  "orig_nbformat": 4
 },
 "nbformat": 4,
 "nbformat_minor": 2
}