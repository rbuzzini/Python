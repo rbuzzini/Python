{
 "cells": [
  {
   "cell_type": "markdown",
   "metadata": {},
   "source": [
    "## Pipelines In SkLearn"
   ]
  },
  {
   "cell_type": "code",
   "execution_count": 1,
   "metadata": {},
   "outputs": [],
   "source": [
    "from sklearn.datasets import load_iris\n",
    "from sklearn.model_selection import train_test_split\n",
    "from sklearn.preprocessing import StandardScaler\n",
    "from sklearn.decomposition import PCA\n",
    "from sklearn.pipeline import Pipeline\n",
    "from sklearn.linear_model import LogisticRegression\n",
    "from sklearn.tree import DecisionTreeClassifier\n",
    "from sklearn.ensemble import RandomForestClassifier"
   ]
  },
  {
   "cell_type": "code",
   "execution_count": 2,
   "metadata": {},
   "outputs": [],
   "source": [
    "iris_df=load_iris()"
   ]
  },
  {
   "cell_type": "code",
   "execution_count": 3,
   "metadata": {},
   "outputs": [],
   "source": [
    "X_train, X_test, y_train, y_test = train_test_split(\n",
    "    iris_df.data,iris_df.target,test_size=0.3,random_state=0)"
   ]
  },
  {
   "cell_type": "code",
   "execution_count": 4,
   "metadata": {},
   "outputs": [],
   "source": [
    "## Pipelines Creation\n",
    "## 1. Data Preprocessing by using Standard Scaler\n",
    "## 2. Reduce Dimension using PCA\n",
    "## 3. Apply  Classifier"
   ]
  },
  {
   "cell_type": "code",
   "execution_count": 5,
   "metadata": {},
   "outputs": [],
   "source": [
    "pipeline_lr=Pipeline([('scalar1',StandardScaler()),\n",
    "                     ('pca1',PCA(n_components=2)),\n",
    "                     ('lr_classifier',LogisticRegression(random_state=0))])"
   ]
  },
  {
   "cell_type": "code",
   "execution_count": 6,
   "metadata": {},
   "outputs": [],
   "source": [
    "pipeline_dt=Pipeline([('scalar2',StandardScaler()),\n",
    "                     ('pca2',PCA(n_components=2)),\n",
    "                     ('dt_classifier',DecisionTreeClassifier())])"
   ]
  },
  {
   "cell_type": "code",
   "execution_count": 7,
   "metadata": {},
   "outputs": [],
   "source": [
    "pipeline_randomforest=Pipeline([('scalar3',StandardScaler()),\n",
    "                     ('pca3',PCA(n_components=2)),\n",
    "                     ('rf_classifier',RandomForestClassifier())])"
   ]
  },
  {
   "cell_type": "code",
   "execution_count": 8,
   "metadata": {},
   "outputs": [],
   "source": [
    "## Let's make the list of pipelines\n",
    "pipelines = [pipeline_lr, pipeline_dt, pipeline_randomforest]"
   ]
  },
  {
   "cell_type": "code",
   "execution_count": 9,
   "metadata": {},
   "outputs": [],
   "source": [
    "best_accuracy=0.0\n",
    "best_classifier=0\n",
    "best_pipeline=\"\""
   ]
  },
  {
   "cell_type": "code",
   "execution_count": 10,
   "metadata": {},
   "outputs": [],
   "source": [
    "# Dictionary of pipelines and classifier types for ease of reference\n",
    "pipe_dict = {0: 'Logistic Regression', 1: 'Decision Tree', 2: 'RandomForest'}\n",
    "\n",
    "# Fit the pipelines\n",
    "for pipe in pipelines:\n",
    "\tpipe.fit(X_train, y_train)"
   ]
  },
  {
   "cell_type": "code",
   "execution_count": 11,
   "metadata": {},
   "outputs": [
    {
     "name": "stdout",
     "output_type": "stream",
     "text": [
      "Logistic Regression Test Accuracy: 0.8666666666666667\n",
      "Decision Tree Test Accuracy: 0.9111111111111111\n",
      "RandomForest Test Accuracy: 0.9111111111111111\n"
     ]
    }
   ],
   "source": [
    "for i,model in enumerate(pipelines):\n",
    "    print(\"{} Test Accuracy: {}\".format(pipe_dict[i],model.score(X_test,y_test)))"
   ]
  },
  {
   "cell_type": "code",
   "execution_count": 15,
   "metadata": {},
   "outputs": [
    {
     "name": "stdout",
     "output_type": "stream",
     "text": [
      "Classifier with best accuracy: Decision Tree\n"
     ]
    }
   ],
   "source": [
    "for i,model in enumerate(pipelines):\n",
    "    if model.score(X_test,y_test)>best_accuracy:\n",
    "        best_accuracy=model.score(X_test,y_test)\n",
    "        best_pipeline=model\n",
    "        best_classifier=i\n",
    "print('Classifier with best accuracy: {}'.format(pipe_dict[best_classifier]))"
   ]
  },
  {
   "cell_type": "markdown",
   "metadata": {},
   "source": [
    "## Pipelines Perform Hyperparameter Tuning Using Grid SearchCV"
   ]
  },
  {
   "cell_type": "code",
   "execution_count": 13,
   "metadata": {},
   "outputs": [],
   "source": [
    "\n",
    "from sklearn.model_selection import GridSearchCV"
   ]
  },
  {
   "cell_type": "code",
   "execution_count": 17,
   "metadata": {},
   "outputs": [
    {
     "name": "stderr",
     "output_type": "stream",
     "text": [
      "C:\\Users\\rbuzzini\\AppData\\Local\\Programs\\Python\\Python39\\lib\\site-packages\\sklearn\\model_selection\\_search.py:922: UserWarning: One or more of the test scores are non-finite: [0.95238095        nan 0.94285714        nan 0.94285714        nan\n",
      " 0.97142857        nan 0.97142857        nan 0.96190476        nan\n",
      " 0.96190476        nan 0.95238095        nan 0.95238095        nan\n",
      " 0.95238095        nan 0.95238095 0.98095238 0.98095238 0.94285714\n",
      " 0.94285714 0.98095238 0.98095238 0.97142857 0.94285714 0.98095238\n",
      " 0.98095238 0.97142857 0.96190476 0.98095238 0.98095238 0.98095238\n",
      " 0.97142857 0.98095238 0.98095238 0.98095238 0.96190476 0.98095238\n",
      " 0.98095238 0.97142857 0.96190476 0.98095238 0.98095238 0.97142857\n",
      " 0.96190476 0.98095238 0.98095238 0.97142857 0.96190476 0.98095238\n",
      " 0.98095238 0.97142857 0.96190476 0.98095238 0.98095238 0.97142857\n",
      " 0.86666667 0.92380952 0.93333333 0.85714286 0.91428571 0.93333333\n",
      " 0.88571429 0.94285714 0.92380952 0.87619048 0.91428571 0.91428571\n",
      " 0.84761905 0.9047619  0.93333333 0.36190476 0.37142857 0.37142857\n",
      " 0.93333333 0.94285714 0.94285714 0.93333333 0.94285714 0.94285714\n",
      " 0.95238095 0.95238095 0.94285714 0.94285714 0.94285714 0.94285714\n",
      " 0.95238095 0.95238095 0.94285714 0.37142857 0.37142857 0.37142857\n",
      " 0.93333333 0.94285714 0.94285714 0.95238095 0.94285714 0.94285714\n",
      " 0.93333333 0.95238095 0.94285714 0.94285714 0.95238095 0.95238095\n",
      " 0.94285714 0.95238095 0.94285714 0.37142857 0.37142857 0.37142857\n",
      " 0.80952381 0.93333333 0.92380952 0.92380952 0.91428571 0.93333333\n",
      " 0.85714286 0.9047619  0.93333333 0.9047619  0.9047619  0.92380952\n",
      " 0.88571429 0.93333333 0.93333333 0.37142857 0.37142857 0.37142857\n",
      " 0.94285714 0.94285714 0.94285714 0.94285714 0.94285714 0.94285714\n",
      " 0.92380952 0.94285714 0.94285714 0.93333333 0.95238095 0.94285714\n",
      " 0.94285714 0.94285714 0.94285714 0.37142857 0.37142857 0.37142857\n",
      " 0.93333333 0.94285714 0.94285714 0.94285714 0.94285714 0.94285714\n",
      " 0.93333333 0.93333333 0.94285714 0.95238095 0.94285714 0.95238095\n",
      " 0.94285714 0.94285714 0.94285714 0.37142857 0.37142857 0.37142857\n",
      " 0.85714286 0.9047619  0.93333333 0.94285714 0.92380952 0.92380952\n",
      " 0.82857143 0.93333333 0.91428571 0.85714286 0.92380952 0.92380952\n",
      " 0.94285714 0.8952381  0.93333333 0.36190476 0.37142857 0.37142857\n",
      " 0.94285714 0.94285714 0.94285714 0.92380952 0.96190476 0.94285714\n",
      " 0.95238095 0.94285714 0.94285714 0.92380952 0.95238095 0.94285714\n",
      " 0.94285714 0.95238095 0.94285714 0.37142857 0.37142857 0.37142857\n",
      " 0.94285714 0.94285714 0.94285714 0.93333333 0.95238095 0.94285714\n",
      " 0.94285714 0.94285714 0.94285714 0.94285714 0.95238095 0.94285714\n",
      " 0.93333333 0.94285714 0.96190476 0.34285714 0.37142857 0.37142857\n",
      " 0.85714286 0.91428571 0.92380952 0.93333333 0.93333333 0.91428571\n",
      " 0.95238095 0.93333333 0.92380952 0.83809524 0.9047619  0.93333333\n",
      " 0.85714286 0.9047619  0.91428571 0.37142857 0.37142857 0.37142857\n",
      " 0.94285714 0.94285714 0.94285714 0.95238095 0.94285714 0.94285714\n",
      " 0.93333333 0.93333333 0.94285714 0.94285714 0.93333333 0.94285714\n",
      " 0.94285714 0.94285714 0.95238095 0.37142857 0.37142857 0.37142857\n",
      " 0.94285714 0.94285714 0.94285714 0.96190476 0.94285714 0.94285714\n",
      " 0.94285714 0.94285714 0.94285714 0.93333333 0.94285714 0.94285714\n",
      " 0.95238095 0.95238095 0.94285714 0.35238095 0.37142857 0.37142857\n",
      " 0.92380952 0.91428571 0.93333333 0.85714286 0.9047619  0.91428571\n",
      " 0.9047619  0.88571429 0.91428571 0.84761905 0.84761905 0.9047619\n",
      " 0.8952381  0.92380952 0.93333333 0.36190476 0.37142857 0.37142857\n",
      " 0.92380952 0.94285714 0.94285714 0.94285714 0.94285714 0.94285714\n",
      " 0.95238095 0.96190476 0.94285714 0.96190476 0.94285714 0.94285714\n",
      " 0.94285714 0.95238095 0.94285714 0.37142857 0.37142857 0.37142857\n",
      " 0.94285714 0.94285714 0.94285714 0.95238095 0.94285714 0.94285714\n",
      " 0.95238095 0.95238095 0.94285714 0.93333333 0.94285714 0.94285714\n",
      " 0.94285714 0.96190476 0.94285714 0.35238095 0.37142857 0.37142857\n",
      " 0.86666667 0.9047619  0.92380952 0.82857143 0.92380952 0.93333333\n",
      " 0.94285714 0.8952381  0.92380952 0.86666667 0.9047619  0.92380952\n",
      " 0.82857143 0.92380952 0.93333333 0.37142857 0.37142857 0.37142857\n",
      " 0.96190476 0.94285714 0.94285714 0.93333333 0.94285714 0.94285714\n",
      " 0.93333333 0.94285714 0.94285714 0.94285714 0.94285714 0.94285714\n",
      " 0.94285714 0.94285714 0.94285714 0.37142857 0.37142857 0.37142857\n",
      " 0.93333333 0.94285714 0.94285714 0.94285714 0.94285714 0.94285714\n",
      " 0.93333333 0.95238095 0.94285714 0.95238095 0.94285714 0.94285714\n",
      " 0.93333333 0.94285714 0.94285714 0.37142857 0.37142857 0.37142857]\n",
      "  warnings.warn(\n",
      "C:\\Users\\rbuzzini\\AppData\\Local\\Programs\\Python\\Python39\\lib\\site-packages\\sklearn\\linear_model\\_sag.py:328: ConvergenceWarning: The max_iter was reached which means the coef_ did not converge\n",
      "  warnings.warn(\"The max_iter was reached which means \"\n"
     ]
    }
   ],
   "source": [
    "import numpy as np\n",
    "\n",
    "# Create a pipeline\n",
    "pipe = Pipeline([(\"classifier\", RandomForestClassifier())])\n",
    "# Create dictionary with candidate learning algorithms and their hyperparameters\n",
    "grid_param = [\n",
    "                {\"classifier\": [LogisticRegression()],\n",
    "                 \"classifier__penalty\": ['l2','l1'],\n",
    "                 \"classifier__C\": np.logspace(0, 4, 10)\n",
    "                 },\n",
    "                {\"classifier\": [LogisticRegression()],\n",
    "                 \"classifier__penalty\": ['l2'],\n",
    "                 \"classifier__C\": np.logspace(0, 4, 10),\n",
    "                 \"classifier__solver\":['newton-cg','saga','sag','liblinear'] ##This solvers don't allow L1 penalty\n",
    "                 },\n",
    "                {\"classifier\": [RandomForestClassifier()],\n",
    "                 \"classifier__n_estimators\": [10, 100, 1000],\n",
    "                 \"classifier__max_depth\":[5,8,15,25,30,None],\n",
    "                 \"classifier__min_samples_leaf\":[1,2,5,10,15,100],\n",
    "                 \"classifier__max_leaf_nodes\": [2, 5,10]}]\n",
    "# create a gridsearch of the pipeline, the fit the best model\n",
    "gridsearch = GridSearchCV(pipe, grid_param, cv=5, verbose=0,n_jobs=-1) # Fit grid search\n",
    "best_model = gridsearch.fit(X_train,y_train)"
   ]
  },
  {
   "cell_type": "code",
   "execution_count": null,
   "metadata": {},
   "outputs": [
    {
     "name": "stdout",
     "output_type": "stream",
     "text": [
      "Pipeline(memory=None,\n",
      "     steps=[('classifier', LogisticRegression(C=59.94842503189409, class_weight=None, dual=False,\n",
      "          fit_intercept=True, intercept_scaling=1, max_iter=100,\n",
      "          multi_class='warn', n_jobs=None, penalty='l2', random_state=None,\n",
      "          solver='warn', tol=0.0001, verbose=0, warm_start=False))])\n",
      "The mean accuracy of the model is: 0.9555555555555556\n"
     ]
    }
   ],
   "source": [
    "print(best_model.best_estimator_)\n",
    "print(\"The mean accuracy of the model is: \",best_model.score(X_test,y_test))"
   ]
  },
  {
   "cell_type": "markdown",
   "metadata": {},
   "source": [
    "## MakePipelines In SKLearn"
   ]
  },
  {
   "cell_type": "code",
   "execution_count": null,
   "metadata": {},
   "outputs": [],
   "source": [
    "from sklearn.pipeline import make_pipeline"
   ]
  },
  {
   "cell_type": "code",
   "execution_count": null,
   "metadata": {},
   "outputs": [
    {
     "name": "stderr",
     "output_type": "stream",
     "text": [
      "C:\\Users\\krish.naik\\AppData\\Local\\Continuum\\anaconda3\\envs\\myenv\\lib\\site-packages\\sklearn\\model_selection\\_search.py:841: DeprecationWarning: The default of the `iid` parameter will change from True to False in version 0.22 and will be removed in 0.24. This will change numeric results when test-set sizes are unequal.\n",
      "  DeprecationWarning)\n"
     ]
    }
   ],
   "source": [
    "# Create a pipeline\n",
    "pipe = make_pipeline((RandomForestClassifier()))\n",
    "# Create dictionary with candidate learning algorithms and their hyperparameters\n",
    "grid_param = [\n",
    "                {\"randomforestclassifier\": [RandomForestClassifier()],\n",
    "                 \"randomforestclassifier__n_estimators\": [10, 100, 1000],\n",
    "                 \"randomforestclassifier__max_depth\":[5,8,15,25,30,None],\n",
    "                 \"randomforestclassifier__min_samples_leaf\":[1,2,5,10,15,100],\n",
    "                 \"randomforestclassifier__max_leaf_nodes\": [2, 5,10]}]\n",
    "# create a gridsearch of the pipeline, the fit the best model\n",
    "gridsearch = GridSearchCV(pipe, grid_param, cv=5, verbose=0,n_jobs=-1) # Fit grid search\n",
    "best_model = gridsearch.fit(X_train,y_train)"
   ]
  },
  {
   "cell_type": "code",
   "execution_count": null,
   "metadata": {},
   "outputs": [
    {
     "data": {
      "text/plain": [
       "0.9555555555555556"
      ]
     },
     "execution_count": 39,
     "metadata": {},
     "output_type": "execute_result"
    }
   ],
   "source": [
    "best_model.score(X_test,y_test)"
   ]
  },
  {
   "cell_type": "markdown",
   "metadata": {},
   "source": [
    "# References\n",
    "- [Krish Naik video](https://www.youtube.com/watch?v=w9IGkBfOoic)"
   ]
  }
 ],
 "metadata": {
  "kernelspec": {
   "display_name": "Python 3",
   "language": "python",
   "name": "python3"
  },
  "language_info": {
   "codemirror_mode": {
    "name": "ipython",
    "version": 3
   },
   "file_extension": ".py",
   "mimetype": "text/x-python",
   "name": "python",
   "nbconvert_exporter": "python",
   "pygments_lexer": "ipython3",
   "version": "3.9.5"
  }
 },
 "nbformat": 4,
 "nbformat_minor": 2
}
