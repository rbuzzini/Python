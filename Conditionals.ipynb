{
 "cells": [
  {
   "cell_type": "markdown",
   "metadata": {},
   "source": [
    "Programs get really interesting when we can test conditions and change the program behaviour depending on the outcome of the tests."
   ]
  },
  {
   "cell_type": "markdown",
   "metadata": {},
   "source": [
    "## 1 - Boolean values and expressions"
   ]
  },
  {
   "cell_type": "markdown",
   "metadata": {},
   "source": [
    "A Boolean value is either true or false. This is the basis of alla computer logic.\n",
    "\n",
    "In Python, the two Boolean values are True and False (the capitalization must be exactly as shown), and the Python type is bool."
   ]
  },
  {
   "cell_type": "code",
   "execution_count": 2,
   "metadata": {},
   "outputs": [
    {
     "data": {
      "text/plain": [
       "bool"
      ]
     },
     "execution_count": 2,
     "metadata": {},
     "output_type": "execute_result"
    }
   ],
   "source": [
    "type(True)"
   ]
  },
  {
   "cell_type": "code",
   "execution_count": 3,
   "metadata": {},
   "outputs": [
    {
     "ename": "NameError",
     "evalue": "name 'true' is not defined",
     "output_type": "error",
     "traceback": [
      "\u001b[1;31m---------------------------------------------------------------------------\u001b[0m",
      "\u001b[1;31mNameError\u001b[0m                                 Traceback (most recent call last)",
      "\u001b[1;32m<ipython-input-3-6f4d8242c3d0>\u001b[0m in \u001b[0;36m<module>\u001b[1;34m\u001b[0m\n\u001b[1;32m----> 1\u001b[1;33m \u001b[0mtype\u001b[0m\u001b[1;33m(\u001b[0m\u001b[0mtrue\u001b[0m\u001b[1;33m)\u001b[0m\u001b[1;33m\u001b[0m\u001b[1;33m\u001b[0m\u001b[0m\n\u001b[0m",
      "\u001b[1;31mNameError\u001b[0m: name 'true' is not defined"
     ]
    }
   ],
   "source": [
    "type(true)"
   ]
  },
  {
   "cell_type": "markdown",
   "metadata": {},
   "source": [
    "A Boolean expression is an expression that evaluates to produce a result which is a Boolean value. For example, the operator == tests if two values are equal. It produces (or yields) a Boolean value:"
   ]
  },
  {
   "cell_type": "code",
   "execution_count": 4,
   "metadata": {},
   "outputs": [
    {
     "data": {
      "text/plain": [
       "True"
      ]
     },
     "execution_count": 4,
     "metadata": {},
     "output_type": "execute_result"
    }
   ],
   "source": [
    "5 == (3+2)"
   ]
  },
  {
   "cell_type": "markdown",
   "metadata": {},
   "source": [
    "The two operands evaluate to equal values, so the expression evaluates to True.\n",
    "\n",
    "The == operator is one of six common comparison operators which all produce a bool result; here are all six:"
   ]
  },
  {
   "cell_type": "code",
   "execution_count": null,
   "metadata": {},
   "outputs": [],
   "source": [
    "x == y               # Produce True if ... x is equal to y\n",
    "x != y               # ... x is not equal to y\n",
    "x > y                # ... x is greater than y\n",
    "x < y                # ... x is less than y\n",
    "x >= y               # ... x is greater than or equal to y\n",
    "x <= y               # ... x is less than or equal to y"
   ]
  },
  {
   "cell_type": "markdown",
   "metadata": {},
   "source": [
    "Although these operations are probably familiar, the Python symbols are different from the mathematical symbols. A common error is to use a single equal sign (=) instead of a double equal sign (==). Remember that= is an assignment operator and == is a comparison operator. Also, there is no such thing as =< or =>.\n",
    "\n",
    "Like any other types we’ve seen so far, Boolean values can be assigned to variables, printed, etc."
   ]
  },
  {
   "cell_type": "code",
   "execution_count": 7,
   "metadata": {},
   "outputs": [
    {
     "name": "stdout",
     "output_type": "stream",
     "text": [
      "True <class 'bool'>\n"
     ]
    }
   ],
   "source": [
    "age = 18\n",
    "old_enough_to_get_driving_license = age >=18\n",
    "print(old_enough_to_get_driving_license, type(old_enough_to_get_driving_license))"
   ]
  },
  {
   "cell_type": "markdown",
   "metadata": {},
   "source": [
    "## 2 -  Logical operators"
   ]
  },
  {
   "cell_type": "markdown",
   "metadata": {},
   "source": [
    "There are three logical operators, and, or, and not, that allow us to build more complex Boolean expressions from simpler Boolean expressions. The semantics (meaning) of these operators is similar to their meaning in English. For example, x > 0 and x < 10 produces True only if x is greater than 0 and at the same time, x is less than 10.\n",
    "\n",
    "n % 2 == 0 or n % 3 == 0 is True if either of the conditions is True, that is, if the number n is divisible by 2 or it is divisible by 3.\n",
    "\n",
    "Finally, the not operator negates a Boolean value, so not (x > y) is True if (x > y) is False, that is, if x is less than or equal to y.\n",
    "\n",
    "The expression on the left of the or operator is evaluated first: if the result is True, Python does not (and need not) evaluate the expression on the right — this is called short-circuit evaluation. Similarly, for the and operator, if the expression on the left yields False, Python does not evaluate the expression on the right.\n",
    "\n",
    "So there are no unnecessary evaluations."
   ]
  },
  {
   "cell_type": "markdown",
   "metadata": {},
   "source": [
    "## 3 - Truth tables"
   ]
  },
  {
   "cell_type": "markdown",
   "metadata": {},
   "source": [
    "A truth table is a small table that allows us to list all the possible inputs, and to give the results for the logical operators."
   ]
  },
  {
   "cell_type": "markdown",
   "metadata": {},
   "source": [
    "| a | b | a and b |\n",
    "| --- | --- |\n",
    "| False | False | False |\n",
    "| True | False | False |\n",
    "| False | True | False |\n",
    "| True | True | True |"
   ]
  },
  {
   "cell_type": "markdown",
   "metadata": {},
   "source": [
    "## 4 - Simplifying boolean expressions"
   ]
  },
  {
   "cell_type": "markdown",
   "metadata": {},
   "source": [
    "A set of rules for simplifying and rearranging expressions is called an algebra. For example, we are all familiar with school algebra rules, such as:"
   ]
  },
  {
   "cell_type": "code",
   "execution_count": null,
   "metadata": {},
   "outputs": [],
   "source": [
    "n * 0 == 0"
   ]
  },
  {
   "cell_type": "markdown",
   "metadata": {},
   "source": [
    "Here we see a different algebra — the Boolean algebra — which provides rules for working with Boolean values.\n",
    "\n",
    "First, the and operator:"
   ]
  },
  {
   "cell_type": "code",
   "execution_count": null,
   "metadata": {},
   "outputs": [],
   "source": [
    "x and False == False\n",
    "False and x == False\n",
    "y and x == x and y\n",
    "x and True == x\n",
    "True and x == x\n",
    "x and x == x"
   ]
  },
  {
   "cell_type": "markdown",
   "metadata": {},
   "source": [
    "Here are some corresponding rules for the or operator:"
   ]
  },
  {
   "cell_type": "code",
   "execution_count": null,
   "metadata": {},
   "outputs": [],
   "source": [
    "x or False == x\n",
    "False or x == x\n",
    "y or x == x or y\n",
    "x or True == True\n",
    "True or x == True\n",
    "x or x == x"
   ]
  },
  {
   "cell_type": "markdown",
   "metadata": {},
   "source": [
    "Two not operators cancel each other:"
   ]
  },
  {
   "cell_type": "code",
   "execution_count": null,
   "metadata": {},
   "outputs": [],
   "source": [
    "not (not x) == x"
   ]
  },
  {
   "cell_type": "markdown",
   "metadata": {},
   "source": [
    "## 5 - Conditional execution"
   ]
  },
  {
   "cell_type": "markdown",
   "metadata": {},
   "source": [
    "In order to write useful programs, we almost always need the ability to check conditions and change the behavior of the program accordingly. Conditional statements give us this ability. The simplest form is the if statement:"
   ]
  },
  {
   "cell_type": "code",
   "execution_count": null,
   "metadata": {},
   "outputs": [],
   "source": [
    "if x % 2 == 0:\n",
    "    print(x, \" is even.\")\n",
    "    print(\"Did you know that 2 is the only even number that is prime?\")\n",
    "else:\n",
    "    print(x, \" is odd.\")\n",
    "    print(\"Did you know that multiplying two odd numbers \" +\n",
    "                                         \"always gives an odd result?\")"
   ]
  },
  {
   "cell_type": "markdown",
   "metadata": {},
   "source": [
    "The Boolean expression after the if statement is called the condition. If it is true, then all the indented statements get executed. If not, then all the statements indented under the else clause get executed.\n",
    "\n",
    "The syntax for an if statement looks like this:"
   ]
  },
  {
   "cell_type": "markdown",
   "metadata": {},
   "source": [
    "if BOOLEAN EXPRESSION:\n",
    "    STATEMENTS_1        # Executed if condition evaluates to True\n",
    "else:\n",
    "    STATEMENTS_2        # Executed if condition evaluates to False"
   ]
  },
  {
   "cell_type": "markdown",
   "metadata": {},
   "source": [
    "The if statement consists of a header line and a body. The header line begins with the keyword if followed by a Boolean expression and ends with a colon (:).\n",
    "\n",
    "The indented statements that follow are called a block. The first unindented statement marks the end of the block.\n",
    "\n",
    "Each of the statements inside the first block of statements are executed in order if the Boolean expression evaluates to True. The entire first block of statements is skipped if the Boolean expression evaluates to False, and instead all the statements indented under the else clause are executed.\n",
    "\n",
    "There is no limit on the number of statements that can appear under the two clauses of an if statement, but there has to be at least one statement in each block. Occasionally, it is useful to have a section with no statements. In that case, we can use the pass statement, which does nothing except act as a placeholder."
   ]
  },
  {
   "cell_type": "code",
   "execution_count": null,
   "metadata": {},
   "outputs": [],
   "source": [
    "if True:          # This is always True,\n",
    "    pass          #   so this is always executed, but it does nothing\n",
    "else:\n",
    "    pass"
   ]
  },
  {
   "cell_type": "markdown",
   "metadata": {},
   "source": [
    "## 6 - Omitting the else clause"
   ]
  },
  {
   "cell_type": "markdown",
   "metadata": {},
   "source": [
    "Another form of the if statement is one in which the else clause is omitted entirely. In this case, when the condition evaluates to True, the statements are executed, otherwise the flow of execution continues to the statement after the if."
   ]
  },
  {
   "cell_type": "code",
   "execution_count": null,
   "metadata": {},
   "outputs": [],
   "source": [
    "if x < 0:\n",
    "    print(\"The negative number \",  x, \" is not valid here.\")\n",
    "    x = 42\n",
    "    print(\"I've decided to use the number 42 instead.\")\n",
    "\n",
    "print(\"The square root of \", x, \"is\", math.sqrt(x))"
   ]
  },
  {
   "cell_type": "markdown",
   "metadata": {},
   "source": [
    "Else is not a statement. The if statement has two clauses, one of which is the (optional) else clause."
   ]
  },
  {
   "cell_type": "markdown",
   "metadata": {},
   "source": [
    "## 7 - Chained conditionals"
   ]
  },
  {
   "cell_type": "markdown",
   "metadata": {},
   "source": [
    "Sometimes there are more than two possibilities and we need more than two branches. One way to express a computation like that is a chained conditional:"
   ]
  },
  {
   "cell_type": "code",
   "execution_count": null,
   "metadata": {},
   "outputs": [],
   "source": [
    "if x < y:\n",
    "    STATEMENTS_A\n",
    "elif x > y:\n",
    "    STATEMENTS_B\n",
    "else:\n",
    "    STATEMENTS_C"
   ]
  },
  {
   "cell_type": "markdown",
   "metadata": {},
   "source": [
    "Elif is an abbreviation of else if. Again, exactly one branch will be executed. There is no limit of the number of elif statements but only a single (and optional) final else statement is allowed and it must be the last branch in the statement:\n",
    "\n",
    "Each condition is checked in order. If the first is false, the next is checked, and so on. If one of them is true, the corresponding branch executes, and the statement ends. Even if more than one condition is true, only the first true branch executes."
   ]
  },
  {
   "cell_type": "markdown",
   "metadata": {},
   "source": [
    "## 8 - Nested conditionals"
   ]
  },
  {
   "cell_type": "markdown",
   "metadata": {},
   "source": [
    "One conditional can also be nested within another. (It is the same theme of composability, again!) We could have written the previous example as follows"
   ]
  },
  {
   "cell_type": "code",
   "execution_count": null,
   "metadata": {},
   "outputs": [],
   "source": [
    "if x < y:\n",
    "    STATEMENTS_A\n",
    "else:\n",
    "    if x > y:\n",
    "        STATEMENTS_B\n",
    "    else:\n",
    "        STATEMENTS_C"
   ]
  },
  {
   "cell_type": "markdown",
   "metadata": {},
   "source": [
    "The outer conditional contains two branches. The second branch contains another if statement, which has two branches of its own. Those two branches could contain conditional statements as well.\n",
    "\n",
    "Although the indentation of the statements makes the structure apparent, nested conditionals very quickly become difficult to read. In general, it is a good idea to avoid them when we can.\n",
    "\n",
    "Logical operators often provide a way to simplify nested conditional statements. For example, we can rewrite the following code using a single conditional:"
   ]
  },
  {
   "cell_type": "code",
   "execution_count": null,
   "metadata": {},
   "outputs": [],
   "source": [
    "if 0 < x:            # Assume x is an int here\n",
    "    if x < 10:\n",
    "        print(\"x is a positive single digit.\")"
   ]
  },
  {
   "cell_type": "markdown",
   "metadata": {},
   "source": [
    "The print function is called only if we make it past both the conditionals, so instead of the above which uses two if statements each with a simple condition, we could make a more complex condition using the and operator. Now we only need a single if statement:"
   ]
  },
  {
   "cell_type": "code",
   "execution_count": null,
   "metadata": {},
   "outputs": [],
   "source": [
    "if 0 < x and x < 10:\n",
    "    print(\"x is a positive single digit.\")"
   ]
  },
  {
   "cell_type": "markdown",
   "metadata": {},
   "source": [
    "## 9 - The return statement"
   ]
  },
  {
   "cell_type": "markdown",
   "metadata": {},
   "source": [
    "The return statement, with or without a value, depending on whether the function is fruitful or void, allows us to terminate the execution of a function before (or when) we reach the end. One reason to use an early return is if we detect an error condition:"
   ]
  },
  {
   "cell_type": "code",
   "execution_count": 8,
   "metadata": {},
   "outputs": [],
   "source": [
    "def print_square_root(x):\n",
    "    if x <= 0:\n",
    "        print(\"Positive numbers only, please.\")\n",
    "        return\n",
    "\n",
    "    result = x**0.5\n",
    "    print(\"The square root of\", x, \"is\", result)"
   ]
  },
  {
   "cell_type": "markdown",
   "metadata": {},
   "source": [
    "The function print_square_root has a parameter named x. The first thing it does is check whether x is less than or equal to 0, in which case it displays an error message and then uses return to exit the function. The flow of execution immediately returns to the caller, and the remaining lines of the function are not executed."
   ]
  },
  {
   "cell_type": "markdown",
   "metadata": {},
   "source": [
    "## 10 - Logical opposites"
   ]
  },
  {
   "cell_type": "code",
   "execution_count": null,
   "metadata": {},
   "outputs": [],
   "source": [
    "Each of the six relational operators has a logical opposite: for example, suppose we can get a driving licence when our age is greater or equal to 17, we can not get the driving licence when we are less than 17.\n",
    "\n",
    "Notice that the opposite of >= is <."
   ]
  },
  {
   "cell_type": "markdown",
   "metadata": {},
   "source": [
    "| operator | logical opposite |\n",
    "| --- | --- | \n",
    "| == | != | \n",
    "| != |\t== |\n",
    "| < |\t>= |\n",
    "| <= |\t> |\n",
    "| > |\t<= |\n",
    "| >= |\t< |"
   ]
  },
  {
   "cell_type": "markdown",
   "metadata": {},
   "source": [
    "Understanding these logical opposites allows us to sometimes get rid of not operators. not operators are often quite difficult to read in computer code, and our intentions will usually be clearer if we can eliminate them.\n",
    "\n",
    "For example, if we wrote this Python:"
   ]
  },
  {
   "cell_type": "code",
   "execution_count": null,
   "metadata": {},
   "outputs": [],
   "source": [
    "if not (age >= 17):\n",
    "    print(\"Hey, you're too young to get a driving licence!\")"
   ]
  },
  {
   "cell_type": "markdown",
   "metadata": {},
   "source": [
    "It would probably be clearer to use the simplification laws, and to write instead:"
   ]
  },
  {
   "cell_type": "code",
   "execution_count": null,
   "metadata": {},
   "outputs": [],
   "source": [
    "if age < 17:\n",
    "    print(\"Hey, you're too young to get a driving licence!\")"
   ]
  },
  {
   "cell_type": "markdown",
   "metadata": {},
   "source": [
    "Two powerful simplification laws (called de Morgan’s laws) that are often helpful when dealing with complicated Boolean expressions are:"
   ]
  },
  {
   "cell_type": "code",
   "execution_count": null,
   "metadata": {},
   "outputs": [],
   "source": [
    "not (x and y)  ==  (not x) or (not y)\n",
    "not (x or y)   ==  (not x) and (not y)"
   ]
  },
  {
   "cell_type": "markdown",
   "metadata": {},
   "source": [
    "## 11 - Type conversion"
   ]
  },
  {
   "cell_type": "markdown",
   "metadata": {},
   "source": [
    "We’ve had a first look at this in an earlier chapter. Seeing it again won’t hurt!\n",
    "\n",
    "Many Python types come with a built-in function that attempts to convert values of another type into its own type. The int function, for example, takes any value and converts it to an integer, if possible, or complains otherwise:"
   ]
  },
  {
   "cell_type": "code",
   "execution_count": 16,
   "metadata": {},
   "outputs": [
    {
     "name": "stdout",
     "output_type": "stream",
     "text": [
      "32 -5\n"
     ]
    }
   ],
   "source": [
    "print(int(\"32\"),\n",
    "     int(-5.3))"
   ]
  },
  {
   "cell_type": "code",
   "execution_count": 15,
   "metadata": {},
   "outputs": [
    {
     "ename": "ValueError",
     "evalue": "invalid literal for int() with base 10: 'Hello'",
     "output_type": "error",
     "traceback": [
      "\u001b[1;31m---------------------------------------------------------------------------\u001b[0m",
      "\u001b[1;31mValueError\u001b[0m                                Traceback (most recent call last)",
      "\u001b[1;32m<ipython-input-15-21fec080f25c>\u001b[0m in \u001b[0;36m<module>\u001b[1;34m\u001b[0m\n\u001b[1;32m----> 1\u001b[1;33m \u001b[0mprint\u001b[0m\u001b[1;33m(\u001b[0m\u001b[0mint\u001b[0m\u001b[1;33m(\u001b[0m\u001b[1;34m\"Hello\"\u001b[0m\u001b[1;33m)\u001b[0m\u001b[1;33m)\u001b[0m\u001b[1;33m\u001b[0m\u001b[1;33m\u001b[0m\u001b[0m\n\u001b[0m",
      "\u001b[1;31mValueError\u001b[0m: invalid literal for int() with base 10: 'Hello'"
     ]
    }
   ],
   "source": [
    "print(int(\"Hello\"))"
   ]
  },
  {
   "cell_type": "markdown",
   "metadata": {},
   "source": [
    "int can also convert floating-point values to integers, but remember that it truncates the fractional part.\n",
    "\n",
    "The float function converts integers and strings to floating-point numbers:"
   ]
  },
  {
   "cell_type": "code",
   "execution_count": null,
   "metadata": {},
   "outputs": [],
   "source": [
    "print(float(32),\n",
    "     float(\"3.14\"))"
   ]
  },
  {
   "cell_type": "markdown",
   "metadata": {},
   "source": [
    "It may seem odd that Python distinguishes the integer value 1 from the floating-point value 1.0. They may represent the same number, but they belong to different types. The reason is that they are represented differently inside the computer.\n",
    "\n",
    "The str function converts any argument given to it to type string:"
   ]
  },
  {
   "cell_type": "code",
   "execution_count": 24,
   "metadata": {},
   "outputs": [
    {
     "name": "stdout",
     "output_type": "stream",
     "text": [
      "32 \n",
      " 1.23 \n",
      " True\n"
     ]
    }
   ],
   "source": [
    "print(str(32),\"\\n\",\n",
    "    str(1.23),\"\\n\",\n",
    "     str(True))"
   ]
  },
  {
   "cell_type": "markdown",
   "metadata": {},
   "source": [
    "## 12 - A turtle bar chart"
   ]
  },
  {
   "cell_type": "markdown",
   "metadata": {},
   "source": [
    "The turtle has a lot more power than we’ve seen so far. The full documentation can be found at http://docs.python.org/py3k/library/turtle.html.\n",
    "\n",
    "Here are a couple of new tricks for our turtles:\n",
    "\n",
    "- We can get a turtle to display text on the canvas at the turtle’s current position. The method to do that is turtle.write(\"Hello\").\n",
    "\n",
    "-  We can fill a shape (circle, semicircle, triangle, etc.) with a color. It is a two-step process. First we call the method turtle.begin_fill(), then we draw the shape, then we call turtle.end_fill().\n",
    "\n",
    "- We’ve previously set the color of our turtle — we can now also set its fill color, which need not be the same as the turtle and the pen color. We use turtle.color(\"blue\",\"red\") to set the turtle to draw in blue, and fill in red.\n",
    "\n",
    "Ok, so can we get to draw a bar chart?"
   ]
  },
  {
   "cell_type": "markdown",
   "metadata": {},
   "source": [
    "Corresponding to each data measurement, we’ll draw a simple rectangle of that height, with a fixed width."
   ]
  },
  {
   "cell_type": "code",
   "execution_count": 17,
   "metadata": {},
   "outputs": [],
   "source": [
    "import turtle\n",
    "\n",
    "def draw_bar_chart(t, height):\n",
    "    \"\"\" Get turtle t to draw one bar, of height. \"\"\"\n",
    "    t.begin_fill() \n",
    "    t.left(90)\n",
    "    t.forward(height)\n",
    "    t.right(90)\n",
    "    t.write(\"  \"+ str(height))\n",
    "    t.forward(40)\n",
    "    t.right(90)\n",
    "    t.forward(height)\n",
    "    t.left(90)\n",
    "    t.end_fill()\n",
    "    t.forward(10)\n",
    "\n",
    "wn = turtle.Screen()        # Set up the window and its attributes\n",
    "wn.bgcolor(\"lightgreen\")\n",
    "wn.title(\"Bar Chart\")\n",
    "\n",
    "chart = turtle.Turtle()\n",
    "chart.color(\"blue\",\"red\")\n",
    "chart.pensize(3)\n",
    "\n",
    "xs = [48, 117, 200, 240, 160, 260, 220]\n",
    "\n",
    "for el in xs:\n",
    "    draw_bar_chart(chart, el)\n",
    "wn.mainloop()"
   ]
  },
  {
   "cell_type": "markdown",
   "metadata": {},
   "source": [
    "## 13 - Glossary\n",
    "\n",
    "##### block\n",
    "\n",
    "A group of consecutive statements with the same indentation.\n",
    "\n",
    "##### body\n",
    "\n",
    "The block of statements in a compound statement that follows the header.\n",
    "\n",
    "##### Boolean algebra\n",
    "\n",
    "Some rules for rearranging and reasoning about Boolean expressions.\n",
    "\n",
    "##### Boolean expression\n",
    "\n",
    "An expression that is either true or false.\n",
    "\n",
    "##### Boolean value\n",
    "\n",
    "There are exactly two Boolean values: True and False. Boolean values result when a Boolean expression is evaluated by the Python interpreter. They have type bool.\n",
    "\n",
    "##### branch\n",
    "\n",
    "One of the possible paths of the flow of execution determined by conditional execution.\n",
    "\n",
    "##### chained conditional\n",
    "\n",
    "A conditional branch with more than two possible flows of execution. In Python chained conditionals are written with if … elif … else statements.\n",
    "\n",
    "##### comparison operator\n",
    "\n",
    "One of the six operators that compares two values: ==, !=, >, <, >=, and <=.\n",
    "\n",
    "##### condition\n",
    "\n",
    "The Boolean expression in a conditional statement that determines which branch is executed.\n",
    "\n",
    "##### conditional statement\n",
    "\n",
    "A statement that controls the flow of execution depending on some condition. In Python the keywords if, elif, and else are used for conditional statements.\n",
    "\n",
    "##### logical operator\n",
    "\n",
    "One of the operators that combines Boolean expressions: and, or, and not.\n",
    "\n",
    "##### nesting\n",
    "\n",
    "One program structure within another, such as a conditional statement inside a branch of another conditional statement.\n",
    "\n",
    "##### prompt\n",
    "\n",
    "A visual cue that tells the user that the system is ready to accept input data.\n",
    "\n",
    "##### truth table\n",
    "\n",
    "A concise table of Boolean values that can describe the semantics of an operator.\n",
    "\n",
    "##### type conversion\n",
    "\n",
    "An explicit function call that takes a value of one type and computes a corresponding value of another type.\n",
    "\n",
    "##### wrapping code in a function\n",
    "\n",
    "The process of adding a function header and parameters to a sequence of program statements is often referred to as “wrapping the code in a function”. This process is very useful whenever the program statements in question are going to be used multiple times. It is even more useful when it allows the programmer to express their mental chunking, and how they’ve broken a complex problem into pieces."
   ]
  },
  {
   "cell_type": "markdown",
   "metadata": {},
   "source": [
    "All sources taken from https://learnpythontherightway.com/chapter/chapter-5.html"
   ]
  }
 ],
 "metadata": {
  "interpreter": {
   "hash": "af08a664c9379a2eef6a59a35895b3c7b95bf968efc61f7032ca2d38064b34f9"
  },
  "kernelspec": {
   "display_name": "Python 3.9.5 64-bit",
   "name": "python3"
  },
  "language_info": {
   "name": "python",
   "version": ""
  }
 },
 "nbformat": 4,
 "nbformat_minor": 4
}