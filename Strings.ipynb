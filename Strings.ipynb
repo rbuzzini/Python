{
 "cells": [
  {
   "cell_type": "markdown",
   "metadata": {},
   "source": [
    "## 1 - A compound data type\r\n",
    "\r\n",
    "So far we have seen built-in types like *int*, *float*, *bool*, *str* and we’ve seen lists and pairs. Strings, lists, and pairs are qualitatively different from the others because they are made up of smaller pieces. In the case of strings, they’re made up of smaller strings each containing one **character**.\r\n",
    "\r\n",
    "Types that comprise smaller pieces are called **compound data types**. Depending on what we are doing, we may want to treat a compound data type as a single thing, or we may want to access its parts. This ambiguity is useful.\r\n",
    "\r\n",
    "## 2 - Working with strings as single things\r\n",
    "\r\n",
    "We previously saw that each turtle instance has its own attributes and a number of methods that can be applied to the instance. For example, we could set the turtle’s color, and we wrote tess.turn(90).\r\n",
    "\r\n",
    "Just like a turtle, a string is also an object. So each string instance has its own attributes and methods.\r\n",
    "\r\n",
    "For example:"
   ]
  },
  {
   "cell_type": "code",
   "execution_count": 1,
   "metadata": {},
   "outputs": [
    {
     "data": {
      "text/plain": [
       "'HELLO WORLD!'"
      ]
     },
     "execution_count": 1,
     "metadata": {},
     "output_type": "execute_result"
    }
   ],
   "source": [
    "s = \"Hello World!\"\r\n",
    "t = s.upper()\r\n",
    "t"
   ]
  },
  {
   "cell_type": "markdown",
   "metadata": {},
   "source": [
    "*upper* is a method that can be invoked on any string object to create a new string, in which all the characters are in uppercase. (The original string *ss* remains unchanged.)\r\n",
    "\r\n",
    "There are also methods such as *lower*, *capitalize*, and *swapcase* that do other interesting stuff.\r\n",
    "\r\n",
    "To learn what methods are available, you can consult the Help documentation, look for string methods, and read the documentation. Or, if you’re a bit lazier, simply type the following into a PyScripter script:\r\n",
    "\r\n",
    "When you type the period to select one of the methods of *ss*, PyScripter will pop up a selection window showing all the methods (there are around 70 of them — thank goodness we’ll only use a few of those!) that could be used on your string."
   ]
  },
  {
   "cell_type": "markdown",
   "metadata": {},
   "source": [
    "When you type the name of the method, some further help about its parameter and return type, and its docstring, will be displayed. This is a good example of a tool — PyScripter — using the meta-information — the docstrings — provided by the module programmers."
   ]
  },
  {
   "cell_type": "markdown",
   "metadata": {},
   "source": [
    "## 3 - Working with the parts of a string\r\n",
    "\r\n",
    "The **indexing operator** (Python uses square brackets to enclose the index) selects a single character substring from a string:"
   ]
  },
  {
   "cell_type": "code",
   "execution_count": 1,
   "metadata": {},
   "outputs": [
    {
     "name": "stdout",
     "output_type": "stream",
     "text": [
      "a\n"
     ]
    }
   ],
   "source": [
    "fruit = \"banana\"\r\n",
    "letter = fruit[1]\r\n",
    "print(letter)"
   ]
  },
  {
   "cell_type": "markdown",
   "metadata": {},
   "source": [
    "The expression *fruit[1]* selects character number 1 from *fruit*, and creates a new string containing just this one character. The variable *m* refers to the result. When we display m, we could get a surprise:"
   ]
  },
  {
   "cell_type": "markdown",
   "metadata": {},
   "source": [
    "Computer scientists always start counting from zero! The letter at subscript position zero of \"banana\" is b. So at position [1] we have the letter a.\r\n",
    "\r\n",
    "If we want to access the zero-eth letter of a string, we just place 0, or any expression that evaluates to 0, inbetween the brackets:"
   ]
  },
  {
   "cell_type": "code",
   "execution_count": 2,
   "metadata": {},
   "outputs": [
    {
     "name": "stdout",
     "output_type": "stream",
     "text": [
      "b\n"
     ]
    }
   ],
   "source": [
    "letter = fruit[0]\r\n",
    "print(letter)"
   ]
  },
  {
   "cell_type": "markdown",
   "metadata": {},
   "source": [
    "The expression in brackets is called an **index**. An index specifies a member of an ordered collection, in this case the collection of characters in the string. The index indicates which one you want, hence the name. It can be any integer expression.\r\n",
    "\r\n",
    "We can use *enumerate* to visualize the indices:"
   ]
  },
  {
   "cell_type": "code",
   "execution_count": 4,
   "metadata": {},
   "outputs": [
    {
     "data": {
      "text/plain": [
       "[(0, 'b'), (1, 'a'), (2, 'n'), (3, 'a'), (4, 'n'), (5, 'a')]"
      ]
     },
     "execution_count": 4,
     "metadata": {},
     "output_type": "execute_result"
    }
   ],
   "source": [
    "fruit = \"banana\"\r\n",
    "list(enumerate(fruit))"
   ]
  },
  {
   "cell_type": "markdown",
   "metadata": {},
   "source": [
    "Do not worry about *enumerate* at this point, we will see more of it in the chapter on lists.\r\n",
    "\r\n",
    "Note that indexing returns a string — Python has no special type for a single character. It is just a string of length 1.\r\n",
    "\r\n",
    "We’ve also seen lists previously. The same indexing notation works to extract elements from a list."
   ]
  },
  {
   "cell_type": "markdown",
   "metadata": {},
   "source": [
    "## 4 - Length\r\n",
    "\r\n",
    "The *len* function, when applied to a string, returns the number of characters in a string:"
   ]
  },
  {
   "cell_type": "code",
   "execution_count": 5,
   "metadata": {},
   "outputs": [
    {
     "data": {
      "text/plain": [
       "6"
      ]
     },
     "execution_count": 5,
     "metadata": {},
     "output_type": "execute_result"
    }
   ],
   "source": [
    "fruit = \"banana\"\r\n",
    "len(fruit)"
   ]
  },
  {
   "cell_type": "markdown",
   "metadata": {},
   "source": [
    "To get the last letter of a string, you might be tempted to try something like this:\r\n",
    "\r\n",
    "That won’t work. It causes the runtime error IndexError: string index out of range. The reason is that there is no character at index position 6 in \"banana\". Because we start counting at zero, the six indexes are numbered 0 to 5. To get the last character, we have to subtract 1 from the length of fruit:\r\n",
    "\r\n",
    "Alternatively, we can use negative indices, which count backward from the end of the string. The expression fruit[-1] yields the last letter, fruit[-2] yields the second to last, and so on.\r\n",
    "\r\n",
    "As you might have guessed, indexing with a negative index also works like this for lists.\r\n",
    "\r\n",
    "We won’t use negative indexes in the rest of these notes — not many computer languages use this idiom, and you’ll probably be better off avoiding it. But there is plenty of Python code out on the Internet that will use this trick, so it is best to know that it exists."
   ]
  },
  {
   "cell_type": "markdown",
   "metadata": {},
   "source": [
    "## Traversal and the <font color=red>for</font> loop\r\n",
    "\r\n",
    "A lot of computations involve processing a string one character at a time. Often they start at the beginning, select each character in turn, do something to it, and continue until the end. This pattern of processing is called a traversal. One way to encode a *traversal* is with a while statement:\r\n",
    "\r\n",
    "This loop traverses the string and displays each letter on a line by itself. The loop condition is ix < len(fruit), so when ix is equal to the length of the string, the condition is false, and the body of the loop is not executed. The last character accessed is the one with the index len(fruit)-1, which is the last character in the string.\r\n",
    "\r\n",
    "But we’ve previously seen how the for loop can easily iterate over the elements in a list and it can do so for strings as well:\r\n",
    "\r\n",
    "Each time through the loop, the next character in the string is assigned to the variable c. The loop continues until no characters are left. Here we can see the expressive power the for loop gives us compared to the while loop when traversing a string.\r\n",
    "\r\n",
    "The following example shows how to use concatenation and a for loop to generate an abecedarian series. Abecedarian refers to a series or list in which the elements appear in alphabetical order. For example, in Robert McCloskey’s book Make Way for Ducklings, the names of the ducklings are Jack, Kack, Lack, Mack, Nack, Ouack, Pack, and Quack. This loop outputs these names in order."
   ]
  },
  {
   "cell_type": "markdown",
   "metadata": {},
   "source": [
    "## 6 - Slices\r\n",
    "\r\n",
    "A *substring* of a string is obtained by taking a **slice**. Similarly, we can slice a list to refer to some sublist of the items in the list:"
   ]
  },
  {
   "cell_type": "code",
   "execution_count": 6,
   "metadata": {},
   "outputs": [
    {
     "name": "stdout",
     "output_type": "stream",
     "text": [
      "Pirates\n",
      "the\n",
      "Caribbean\n",
      "['Brad', 'Angelina']\n"
     ]
    }
   ],
   "source": [
    "s = \"Pirates of the Caribbean\"\r\n",
    "print(s[0:7])\r\n",
    "print(s[11:14])\r\n",
    "print(s[15:24])\r\n",
    "\r\n",
    "friends = [\"Joe\", \"Zoe\", \"Brad\", \"Angelina\", \"Zuki\", \"Thandi\", \"Paris\"]\r\n",
    "print(friends[2:4])\r\n"
   ]
  },
  {
   "cell_type": "markdown",
   "metadata": {},
   "source": [
    "The operator *[n:m]* returns the part of the string from the n’th character to the m’th character, including the first but excluding the last. This behavior makes sense if you imagine the indices pointing between the characters, as in the following diagram:"
   ]
  },
  {
   "cell_type": "markdown",
   "metadata": {},
   "source": [
    "<image src=\"string diagram.png\" widht=\"550\">"
   ]
  },
  {
   "cell_type": "markdown",
   "metadata": {},
   "source": [
    "If you imagine this as a piece of paper, the slice operator [n:m] copies out the part of the paper between the n and m positions. Provided m and n are both within the bounds of the string, your result will be of length (m-n).\r\n",
    "\r\n",
    "Three tricks are added to this: if you omit the first index (before the colon), the slice starts at the beginning of the string (or list). If you omit the second index, the slice extends to the end of the string (or list). Similarly, if you provide value for n that is bigger than the length of the string (or list), the slice will take all the values up to the end. (It won’t give an “out of range” error like the normal indexing operation does.) Thus:"
   ]
  },
  {
   "cell_type": "code",
   "execution_count": 9,
   "metadata": {},
   "outputs": [
    {
     "name": "stdout",
     "output_type": "stream",
     "text": [
      "ban \n",
      " ana\n"
     ]
    }
   ],
   "source": [
    "fruit = \"banana\"\r\n",
    "print(fruit[:3],\"\\n\",\r\n",
    "    fruit[3:])"
   ]
  },
  {
   "cell_type": "markdown",
   "metadata": {},
   "source": [
    "What do you think *s[:]* means? What about *friends[4:]*?"
   ]
  },
  {
   "cell_type": "markdown",
   "metadata": {},
   "source": [
    "## 7 - String comparison\r\n",
    "\r\n",
    "The comparison operators work on strings.\r\n",
    "\r\n",
    "Other comparison operations are useful for putting words in lexicographical order.\r\n",
    "\r\n",
    "This is similar to the alphabetical order you would use with a dictionary, except that all the uppercase letters come before all the lowercase letters.\r\n",
    "\r\n",
    "A common way to address this problem is to convert strings to a standard format, such as all lowercase, before performing the comparison. A more difficult problem is making the program realize that zebras are not fruit."
   ]
  },
  {
   "cell_type": "markdown",
   "metadata": {},
   "source": [
    "## 8 - Strings are immutable\r\n",
    "\r\n",
    "It is tempting to use the [] operator on the left side of an assignment, with the intention of changing a character in a string. For example:\r\n",
    "\r\n",
    "Instead of producing the output Jello, world!, this code produces the runtime error TypeError: 'str' object does not support item assignment.\r\n",
    "\r\n",
    "Strings are **immutable**, which means you can’t change an existing string. The best you can do is create a new string that is a variation on the original.\r\n",
    "\r\n",
    "The solution here is to concatenate a new first letter onto a slice of greeting. This operation has no effect on the original string.\r\n",
    "\r\n",
    "## 9 - The <font color=red>in</font> and <font color=red>not in</font> operators\r\n",
    "\r\n",
    "The *in* operator tests for membership. When both of the arguments to in are strings, in checks whether the left argument is a substring of the right argument."
   ]
  },
  {
   "cell_type": "code",
   "execution_count": 14,
   "metadata": {},
   "outputs": [
    {
     "name": "stdout",
     "output_type": "stream",
     "text": [
      "True False\n"
     ]
    }
   ],
   "source": [
    "print(\"p\" in \"apple\", \"i\" in \"apple\")"
   ]
  },
  {
   "cell_type": "markdown",
   "metadata": {},
   "source": [
    "The *not in* operator returns the logical opposite results of *in*:"
   ]
  },
  {
   "cell_type": "code",
   "execution_count": 15,
   "metadata": {},
   "outputs": [
    {
     "data": {
      "text/plain": [
       "True"
      ]
     },
     "execution_count": 15,
     "metadata": {},
     "output_type": "execute_result"
    }
   ],
   "source": [
    "\"x\" not in \"apple\""
   ]
  },
  {
   "cell_type": "markdown",
   "metadata": {},
   "source": [
    "Combining the in operator with string concatenation using +, we can write a function that removes all the vowels from a string:"
   ]
  },
  {
   "cell_type": "code",
   "execution_count": 17,
   "metadata": {},
   "outputs": [
    {
     "data": {
      "text/plain": [
       "True"
      ]
     },
     "execution_count": 17,
     "metadata": {},
     "output_type": "execute_result"
    }
   ],
   "source": [
    "def remove_vowels(s):\r\n",
    "    vowels = \"aeiouAEIOU\"\r\n",
    "    s_sans_vowels = \"\"\r\n",
    "    for x in s:\r\n",
    "        if x not in vowels:\r\n",
    "            s_sans_vowels += x\r\n",
    "    return s_sans_vowels\r\n",
    "    \r\n",
    "remove_vowels(\"compsci\") == \"cmpsc\""
   ]
  },
  {
   "cell_type": "markdown",
   "metadata": {},
   "source": [
    "## 10 - A <font color=red>find</font> function\r\n",
    "\r\n",
    "What does the following function do?"
   ]
  },
  {
   "cell_type": "code",
   "execution_count": 18,
   "metadata": {},
   "outputs": [],
   "source": [
    "def find(strng, ch):\r\n",
    "    \"\"\"\r\n",
    "      Find and return the index of ch in strng.\r\n",
    "      Return -1 if ch does not occur in strng.\r\n",
    "    \"\"\"\r\n",
    "    ix = 0\r\n",
    "    while ix < len(strng):\r\n",
    "        if strng[ix] == ch:\r\n",
    "            return ix\r\n",
    "        ix += 1\r\n",
    "    return -1"
   ]
  },
  {
   "cell_type": "code",
   "execution_count": 23,
   "metadata": {},
   "outputs": [
    {
     "data": {
      "text/plain": [
       "True"
      ]
     },
     "execution_count": 23,
     "metadata": {},
     "output_type": "execute_result"
    }
   ],
   "source": [
    "find(\"Compsci\", \"C\") == 0"
   ]
  },
  {
   "cell_type": "markdown",
   "metadata": {},
   "source": [
    "In a sense, find is the opposite of the indexing operator. Instead of taking an index and extracting the corresponding character, it takes a character and finds the index where that character appears. If the character is not found, the function returns -1.\r\n",
    "\r\n",
    "This is another example where we see a return statement inside a loop. If strng[ix] == ch, the function returns immediately, breaking out of the loop prematurely.\r\n",
    "\r\n",
    "If the character doesn’t appear in the string, then the program exits the loop normally and returns -1.\r\n",
    "\r\n",
    "This pattern of computation is sometimes called a **eureka traversal** or **short-circuit evaluation**, because as soon as we find what we are looking for, we can cry “Eureka!”, take the short-circuit, and stop looking."
   ]
  },
  {
   "cell_type": "markdown",
   "metadata": {},
   "source": [
    "## Looping and counting\r\n",
    "\r\n",
    "The following program counts the number of times the letter a appears in a string, and is another example of the counter pattern introduced in counting."
   ]
  },
  {
   "cell_type": "code",
   "execution_count": 24,
   "metadata": {},
   "outputs": [
    {
     "data": {
      "text/plain": [
       "True"
      ]
     },
     "execution_count": 24,
     "metadata": {},
     "output_type": "execute_result"
    }
   ],
   "source": [
    "def count_a(text):\r\n",
    "    count = 0\r\n",
    "    for c in text:\r\n",
    "        if c == \"a\":\r\n",
    "            count += 1\r\n",
    "    return(count)\r\n",
    "\r\n",
    "count_a(\"banana\") == 3\r\n"
   ]
  },
  {
   "cell_type": "markdown",
   "metadata": {},
   "source": [
    "## 12 - Optional parameters\r\n",
    "\r\n",
    "To find the locations of the second or third occurrence of a character in a string, we can modify the find function, adding a third parameter for the starting position in the search string:"
   ]
  },
  {
   "cell_type": "code",
   "execution_count": 25,
   "metadata": {},
   "outputs": [
    {
     "data": {
      "text/plain": [
       "True"
      ]
     },
     "execution_count": 25,
     "metadata": {},
     "output_type": "execute_result"
    }
   ],
   "source": [
    "def find2(strng, ch, start):\r\n",
    "    ix = start\r\n",
    "    while ix < len(strng):\r\n",
    "        if strng[ix] == ch:\r\n",
    "            return ix\r\n",
    "        ix += 1\r\n",
    "    return -1\r\n",
    "\r\n",
    "find2(\"banana\", \"a\", 2) == 3"
   ]
  },
  {
   "cell_type": "markdown",
   "metadata": {},
   "source": [
    "The call find2(\"banana\", \"a\", 2) now returns 3, the index of the first occurrence of “a” in “banana” starting the search at index 2. What does find2(\"banana\", \"n\", 3) return? If you said, 4, there is a good chance you understand how find2 works.\r\n",
    "\r\n",
    "Better still, we can combine find and find2 using an **optional parameter**:"
   ]
  },
  {
   "cell_type": "code",
   "execution_count": null,
   "metadata": {},
   "outputs": [],
   "source": [
    "def find(strng, ch, start=0):\r\n",
    "    ix = start\r\n",
    "    while ix < len(strng):\r\n",
    "        if strng[ix] == ch:\r\n",
    "            return ix\r\n",
    "        ix += 1\r\n",
    "    return -1"
   ]
  },
  {
   "cell_type": "markdown",
   "metadata": {},
   "source": [
    "When a function has an optional parameter, the caller may provide a matching argument. If the third argument is provided to find, it gets assigned to start. But if the caller leaves the argument out, then start is given a default value indicated by the assignment start=0 in the function definition.\r\n",
    "\r\n",
    "So the call find(\"banana\", \"a\", 2) to this version of find behaves just like find2, while in the call find(\"banana\", \"a\"), start will be set to the **default value** of 0.\r\n",
    "\r\n",
    "Adding another optional parameter to find makes it search from a starting position, up to but not including the end position:"
   ]
  },
  {
   "cell_type": "code",
   "execution_count": null,
   "metadata": {},
   "outputs": [],
   "source": [
    "def find(strng, ch, start=0, end=None):\r\n",
    "    ix = start\r\n",
    "    if end is None:\r\n",
    "       end = len(strng)\r\n",
    "    while ix < end:\r\n",
    "        if strng[ix] == ch:\r\n",
    "            return ix\r\n",
    "        ix += 1\r\n",
    "    return -1"
   ]
  },
  {
   "cell_type": "markdown",
   "metadata": {},
   "source": [
    "The optional value for end is interesting: we give it a default value None if the caller does not supply any argument. In the body of the function we test what end is, and if the caller did not supply any argument, we reassign end to be the length of the string. If the caller has supplied an argument for end, however, the caller’s value will be used in the loop.\r\n",
    "\r\n",
    "The semantics of start and end in this function are precisely the same as they are in the range function.\r\n",
    "\r\n",
    "Here are some test cases that should pass:"
   ]
  },
  {
   "cell_type": "code",
   "execution_count": 26,
   "metadata": {},
   "outputs": [
    {
     "data": {
      "text/plain": [
       "True"
      ]
     },
     "execution_count": 26,
     "metadata": {},
     "output_type": "execute_result"
    }
   ],
   "source": [
    "ss = \"Python strings have some interesting methods.\"\r\n",
    "find(ss, \"s\") == 7"
   ]
  },
  {
   "cell_type": "markdown",
   "metadata": {},
   "source": [
    "## 13 - The built-in <font color=red>find</font> method\r\n",
    "\r\n",
    "Now that we’ve done all this work to write a powerful find function, we can reveal that strings already have their own built-in find method. It can do everything that our code can do, and more!\r\n",
    "\r\n",
    "The built-in find method is more general than our version. It can find substrings, not just single characters:"
   ]
  },
  {
   "cell_type": "code",
   "execution_count": 29,
   "metadata": {},
   "outputs": [
    {
     "name": "stdout",
     "output_type": "stream",
     "text": [
      "2 4\n"
     ]
    }
   ],
   "source": [
    "print(\"banana\".find(\"nan\"), \"banana\".find(\"na\",3))"
   ]
  },
  {
   "cell_type": "markdown",
   "metadata": {},
   "source": [
    "Usually we’d prefer to use the methods that Python provides rather than reinvent our own equivalents. But many of the built-in functions and methods make good teaching exercises, and the underlying techniques you learn are your building blocks to becoming a proficient programmer."
   ]
  },
  {
   "cell_type": "markdown",
   "metadata": {},
   "source": [
    "## 14 - The <font color=red>split</font> method\r\n",
    "\r\n",
    "One of the most useful methods on strings is the split method: it splits a single multi-word string into a list of individual words, removing all the whitespace between them. (Whitespace means any tabs, newlines, or spaces.) This allows us to read input as a single string, and split it into words."
   ]
  },
  {
   "cell_type": "code",
   "execution_count": 30,
   "metadata": {},
   "outputs": [
    {
     "name": "stdout",
     "output_type": "stream",
     "text": [
      "['Well', 'I', 'never', 'did', 'said', 'Alice']\n"
     ]
    }
   ],
   "source": [
    "ss = \" Well I never did said Alice\"\r\n",
    "wds = ss.split()\r\n",
    "print(wds)"
   ]
  },
  {
   "cell_type": "markdown",
   "metadata": {},
   "source": [
    "## 15 - Cleaning up your strings\r\n",
    "\r\n",
    "We’ll often work with strings that contain punctuation, or tab and newline characters, especially, as we’ll see in a future chapter, when we read our text from files or from the Internet. But if we’re writing a program, say, to count word frequencies or check the spelling of each word, we’d prefer to strip off these unwanted characters.\r\n",
    "\r\n",
    "We’ll show just one example of how to strip punctuation from a string. Remember that strings are immutable, so we cannot change the string with the punctuation — we need to traverse the original string and create a new string, omitting any punctuation:"
   ]
  },
  {
   "cell_type": "code",
   "execution_count": null,
   "metadata": {},
   "outputs": [],
   "source": [
    "punctuation = \"!\\\"#$%&'()*+,-./:;<=>?@[\\\\]^_`{|}~\"\r\n",
    "\r\n",
    "def remove_punctuation(s):\r\n",
    "    s_sans_punct = \"\"\r\n",
    "    for letter in s:\r\n",
    "        if letter not in punctuation:\r\n",
    "            s_sans_punct += letter\r\n",
    "    return s_sans_punct"
   ]
  },
  {
   "cell_type": "markdown",
   "metadata": {},
   "source": [
    "Setting up that first assignment is messy and error-prone. Fortunately, the Python string module already does it for us. So we will make a slight improvement to this program — we’ll import the string module and use its definition:"
   ]
  },
  {
   "cell_type": "code",
   "execution_count": 33,
   "metadata": {},
   "outputs": [
    {
     "data": {
      "text/plain": [
       "True"
      ]
     },
     "execution_count": 33,
     "metadata": {},
     "output_type": "execute_result"
    }
   ],
   "source": [
    "import string\r\n",
    "\r\n",
    "def remove_punctuation(s):\r\n",
    "    s_without_punct = \"\"\r\n",
    "    for letter in s:\r\n",
    "        if letter not in string.punctuation:\r\n",
    "            s_without_punct += letter\r\n",
    "    return s_without_punct\r\n",
    "\r\n",
    "remove_punctuation('\"Well, I never did!\", said Alice.') == \"Well I never did said Alice\""
   ]
  },
  {
   "cell_type": "markdown",
   "metadata": {},
   "source": [
    "Composing together this function and the split method from the previous section makes a useful combination — we’ll clean out the punctuation, and split will clean out the newlines and tabs while turning the string into a list of words:"
   ]
  },
  {
   "cell_type": "code",
   "execution_count": 34,
   "metadata": {},
   "outputs": [
    {
     "name": "stdout",
     "output_type": "stream",
     "text": [
      "['Pythons', 'are', 'constrictors', 'which', 'means', 'that', 'they', 'will', 'squeeze', 'the', 'life', 'out', 'of', 'their', 'prey', 'They', 'coil', 'themselves', 'around', 'their', 'prey', 'and', 'with', 'each', 'breath', 'the', 'creature', 'takes', 'the', 'snake', 'will', 'squeeze', 'a', 'little', 'tighter', 'until', 'they', 'stop', 'breathing', 'completely', 'Once', 'the', 'heart', 'stops', 'the', 'prey', 'is', 'swallowed', 'whole', 'The', 'entire', 'animal', 'is', 'digested', 'in', 'the', 'snakes', 'stomach', 'except', 'for', 'fur', 'or', 'feathers', 'What', 'do', 'you', 'think', 'happens', 'to', 'the', 'fur', 'feathers', 'beaks', 'and', 'eggshells', 'The', 'extra', 'stuff', 'gets', 'passed', 'out', 'as', 'you', 'guessed', 'it', 'snake', 'POOP']\n"
     ]
    }
   ],
   "source": [
    "my_story = \"\"\"\r\n",
    "Pythons are constrictors, which means that they will 'squeeze' the life\r\n",
    "out of their prey. They coil themselves around their prey and with\r\n",
    "each breath the creature takes the snake will squeeze a little tighter\r\n",
    "until they stop breathing completely. Once the heart stops the prey\r\n",
    "is swallowed whole. The entire animal is digested in the snake's\r\n",
    "stomach except for fur or feathers. What do you think happens to the fur,\r\n",
    "feathers, beaks, and eggshells? The 'extra stuff' gets passed out as ---\r\n",
    "you guessed it --- snake POOP! \"\"\"\r\n",
    "\r\n",
    "wds = remove_punctuation(my_story).split()\r\n",
    "print(wds)"
   ]
  },
  {
   "cell_type": "markdown",
   "metadata": {},
   "source": [
    "There are other useful string methods, but this book isn’t intended to be a reference manual. On the other hand, the *Python Library Reference* is. Along with a wealth of other documentation, it is available at the [Python website](https://www.python.org/)."
   ]
  },
  {
   "cell_type": "markdown",
   "metadata": {},
   "source": [
    "## 16 - The string format method\r\n",
    "\r\n",
    "The easiest and most powerful way to format a string in Python 3 is to use the *format* method. To see how this works, let’s start with a few examples:"
   ]
  },
  {
   "cell_type": "code",
   "execution_count": 40,
   "metadata": {},
   "outputs": [
    {
     "name": "stdout",
     "output_type": "stream",
     "text": [
      "His name is Arthur!\n",
      "I am Alice and I am 10 years old.\n",
      "2**10 = 1024 and 4 * 5 = 20.000000\n"
     ]
    }
   ],
   "source": [
    "s1 = \"His name is {0}!\".format(\"Arthur\")\r\n",
    "print(s1)\r\n",
    "\r\n",
    "name = \"Alice\"\r\n",
    "age = 10\r\n",
    "s2 = \"I am {1} and I am {0} years old.\".format(age, name)\r\n",
    "print(s2)\r\n",
    "\r\n",
    "n1 = 4\r\n",
    "n2 = 5\r\n",
    "s3 = \"2**10 = {0} and {1} * {2} = {3:f}\".format(2**10, n1, n2, n1 * n2)\r\n",
    "print(s3)"
   ]
  },
  {
   "cell_type": "markdown",
   "metadata": {},
   "source": [
    "The template string contains place holders, *... {0} ... {1} ... {2} ...* etc. The *format* method substitutes its arguments into the place holders. The numbers in the place holders are indexes that determine which argument gets substituted — make sure you understand line 6 above!\r\n",
    "\r\n",
    "But there’s more! Each of the replacement fields can also contain a **format specification** — it is always introduced by the *:* symbol. This modifies how the substitutions are made into the template, and can control things like:\r\n",
    "\r\n",
    "- whether the field is aligned to the left <, center ^, or right >\r\n",
    "- the width allocated to the field within the result string (a number like 10)\r\n",
    "- the type of conversion (we’ll initially only force conversion to float, f, as we did in line 11 of the code above, or perhaps we’ll ask integer numbers to be converted to hexadecimal using x)\r\n",
    "- if the type conversion is a float, you can also specify how many decimal places are wanted (typically, .2f is useful for working with currencies to two decimal places.) Let’s do a few simple and common examples that should be enough for most needs. If you need to do anything more esoteric, use help and read all the powerful, gory details."
   ]
  },
  {
   "cell_type": "code",
   "execution_count": 41,
   "metadata": {},
   "outputs": [
    {
     "name": "stdout",
     "output_type": "stream",
     "text": [
      "Pi to three decimal places is 3.142\n",
      "123456789 123456789 123456789 123456789 123456789 123456789\n",
      "|||Paris          |||    Whitney    |||         Hilton|||Born in 1981|||\n",
      "The decimal value 123456 converts to hex value 1e240\n"
     ]
    }
   ],
   "source": [
    "n1 = \"Paris\"\r\n",
    "n2 = \"Whitney\"\r\n",
    "n3 = \"Hilton\"\r\n",
    "\r\n",
    "print(\"Pi to three decimal places is {0:.3f}\".format(3.1415926))\r\n",
    "print(\"123456789 123456789 123456789 123456789 123456789 123456789\")\r\n",
    "print(\"|||{0:<15}|||{1:^15}|||{2:>15}|||Born in {3}|||\"\r\n",
    "        .format(n1,n2,n3,1981))\r\n",
    "print(\"The decimal value {0} converts to hex value {0:x}\"\r\n",
    "        .format(123456))"
   ]
  },
  {
   "cell_type": "markdown",
   "metadata": {},
   "source": [
    "You can have multiple placeholders indexing the same argument, or perhaps even have extra arguments that are not referenced at all:"
   ]
  },
  {
   "cell_type": "code",
   "execution_count": 42,
   "metadata": {},
   "outputs": [
    {
     "name": "stdout",
     "output_type": "stream",
     "text": [
      "\n",
      "Dear Paris Hilton.\n",
      " Paris, I have an interesting money-making proposition for you!\n",
      " If you deposit $10 million into my bank account, I can\n",
      " double your money ...\n",
      "\n",
      "\n",
      "Dear Bill Gates.\n",
      " Bill, I have an interesting money-making proposition for you!\n",
      " If you deposit $10 million into my bank account, I can\n",
      " double your money ...\n",
      "\n"
     ]
    }
   ],
   "source": [
    "letter = \"\"\"\r\n",
    "Dear {0} {2}.\r\n",
    " {0}, I have an interesting money-making proposition for you!\r\n",
    " If you deposit $10 million into my bank account, I can\r\n",
    " double your money ...\r\n",
    "\"\"\"\r\n",
    "\r\n",
    "print(letter.format(\"Paris\", \"Whitney\", \"Hilton\"))\r\n",
    "print(letter.format(\"Bill\", \"Henry\", \"Gates\"))"
   ]
  },
  {
   "cell_type": "markdown",
   "metadata": {},
   "source": [
    "As you might expect, you’ll get an index error if your placeholders refer to arguments that you do not provide:"
   ]
  },
  {
   "cell_type": "code",
   "execution_count": 45,
   "metadata": {},
   "outputs": [
    {
     "ename": "IndexError",
     "evalue": "Replacement index 3 out of range for positional args tuple",
     "output_type": "error",
     "traceback": [
      "\u001b[1;31m---------------------------------------------------------------------------\u001b[0m",
      "\u001b[1;31mIndexError\u001b[0m                                Traceback (most recent call last)",
      "\u001b[1;32m<ipython-input-45-27bf4d7ceca9>\u001b[0m in \u001b[0;36m<module>\u001b[1;34m\u001b[0m\n\u001b[1;32m----> 1\u001b[1;33m \u001b[1;34m\"hello {3}\"\u001b[0m\u001b[1;33m.\u001b[0m\u001b[0mformat\u001b[0m\u001b[1;33m(\u001b[0m\u001b[1;34m\"Dave\"\u001b[0m\u001b[1;33m)\u001b[0m\u001b[1;33m\u001b[0m\u001b[1;33m\u001b[0m\u001b[0m\n\u001b[0m",
      "\u001b[1;31mIndexError\u001b[0m: Replacement index 3 out of range for positional args tuple"
     ]
    }
   ],
   "source": [
    "\"hello {3}\".format(\"Dave\")"
   ]
  },
  {
   "cell_type": "markdown",
   "metadata": {},
   "source": [
    "The following example illustrates the real utility of string formatting. First, we’ll try to print a table without using string formatting:"
   ]
  },
  {
   "cell_type": "code",
   "execution_count": 46,
   "metadata": {},
   "outputs": [
    {
     "name": "stdout",
     "output_type": "stream",
     "text": [
      "i\ti**2\ti**3\ti**5\ti**10\ti**20\n",
      "1 \t 1 \t 1 \t 1 \t 1 \t 1\n",
      "2 \t 4 \t 8 \t 32 \t 1024 \t 1048576\n",
      "3 \t 9 \t 27 \t 243 \t 59049 \t 3486784401\n",
      "4 \t 16 \t 64 \t 1024 \t 1048576 \t 1099511627776\n",
      "5 \t 25 \t 125 \t 3125 \t 9765625 \t 95367431640625\n",
      "6 \t 36 \t 216 \t 7776 \t 60466176 \t 3656158440062976\n",
      "7 \t 49 \t 343 \t 16807 \t 282475249 \t 79792266297612001\n",
      "8 \t 64 \t 512 \t 32768 \t 1073741824 \t 1152921504606846976\n",
      "9 \t 81 \t 729 \t 59049 \t 3486784401 \t 12157665459056928801\n",
      "10 \t 100 \t 1000 \t 100000 \t 10000000000 \t 100000000000000000000\n"
     ]
    }
   ],
   "source": [
    "print(\"i\\ti**2\\ti**3\\ti**5\\ti**10\\ti**20\")\r\n",
    "for i in range(1, 11):\r\n",
    "    print(i, \"\\t\", i**2, \"\\t\", i**3, \"\\t\", i**5, \"\\t\",\r\n",
    "                                            i**10, \"\\t\", i**20)"
   ]
  },
  {
   "cell_type": "markdown",
   "metadata": {},
   "source": [
    "This program prints out a table of various powers of the numbers from 1 to 10. (This assumes that the tab width is 8. You might see something even worse than this if you tab width is set to 4.) In its current form it relies on the tab character ( \\t) to align the columns of values, but this breaks down when the values in the table get larger than the tab width.\r\n",
    "\r\n",
    "One possible solution would be to change the tab width, but the first column already has more space than it needs. The best solution would be to set the width of each column independently. As you may have guessed by now, string formatting provides a much nicer solution. We can also right-justify each field:"
   ]
  },
  {
   "cell_type": "code",
   "execution_count": 47,
   "metadata": {},
   "outputs": [
    {
     "name": "stdout",
     "output_type": "stream",
     "text": [
      "   i  i**2  i**3    i**5        i**10                   i**20\n",
      "   1     1     1       1            1                       1\n",
      "   2     4     8      32         1024                 1048576\n",
      "   3     9    27     243        59049              3486784401\n",
      "   4    16    64    1024      1048576           1099511627776\n",
      "   5    25   125    3125      9765625          95367431640625\n",
      "   6    36   216    7776     60466176        3656158440062976\n",
      "   7    49   343   16807    282475249       79792266297612001\n",
      "   8    64   512   32768   1073741824     1152921504606846976\n",
      "   9    81   729   59049   3486784401    12157665459056928801\n",
      "  10   100  1000  100000  10000000000   100000000000000000000\n"
     ]
    }
   ],
   "source": [
    "layout = \"{0:>4}{1:>6}{2:>6}{3:>8}{4:>13}{5:>24}\"\r\n",
    "\r\n",
    "print(layout.format(\"i\", \"i**2\", \"i**3\", \"i**5\", \"i**10\", \"i**20\"))\r\n",
    "for i in range(1, 11):\r\n",
    "    print(layout.format(i, i**2, i**3, i**5, i**10, i**20))"
   ]
  },
  {
   "cell_type": "markdown",
   "metadata": {},
   "source": [
    "## 17 - Summary\r\n",
    "\r\n",
    "This chapter introduced a lot of new ideas. The following summary may prove helpful in remembering what you learned.\r\n",
    "\r\n",
    "**indexing** ([]) Access a single character in a string using its position (starting from 0). Example: \"This\"[2] evaluates to \"i\".\r\n",
    "\r\n",
    "**length function** (len) Returns the number of characters in a string. Example: len(\"happy\") evaluates to 5.\r\n",
    "\r\n",
    "**for loop traversal** (for) Traversing a string means accessing each character in the string, one at a time. For example, the following for loop:"
   ]
  },
  {
   "cell_type": "markdown",
   "metadata": {},
   "source": [
    "*for ch in \"Example\":\r\n",
    "    ...*\r\n",
    "\r\n",
    "executes the body of the loop 7 times with different values of ch each time.\r\n",
    "\r\n",
    "**slicing** ([:]) A slice is a substring of a string. Example: 'bananas and cream'[3:6] evaluates to ana (so does 'bananas and cream'[1:4]).\r\n",
    "\r\n",
    "**string comparison** (>, <, >=, <=, ==, !=) The six common comparison operators work with strings, evaluating according to lexicographical order. Examples: \"apple\" < \"banana\" evaluates to True. \"Zeta\" < \"Appricot\" evaluates to False. \"Zebra\" <= \"aardvark\" evaluates to True because all upper case letters precede lower case letters.\r\n",
    "\r\n",
    "**in and not in operator** (in, not in) The in operator tests for membership. In the case of strings, it tests whether one string is contained inside another string. Examples: \"heck\" in \"I'll be checking for you.\" evaluates to True. \"cheese\" in \"I'll be checking for you.\" evaluates to False."
   ]
  },
  {
   "cell_type": "markdown",
   "metadata": {},
   "source": [
    "## 18 - Glossary\r\n",
    "\r\n",
    "**compound data type** A data type in which the values are made up of components, or elements, that are themselves values.\r\n",
    "\r\n",
    "**default value** The value given to an optional parameter if no argument for it is provided in the function call.\r\n",
    "\r\n",
    "**docstring** A string constant on the first line of a function or module definition (and as we will see later, in class and method definitions as well). Docstrings provide a convenient way to associate documentation with code. Docstrings are also used by programming tools to provide interactive help.\r\n",
    "\r\n",
    "**dot notation** Use of the **dot operator**, ., to access methods and attributes of an object.\r\n",
    "\r\n",
    "**immutable data value** A data value which cannot be modified. Assignments to elements or slices (sub-parts) of immutable values cause a runtime error.\r\n",
    "\r\n",
    "**index** A variable or value used to select a member of an ordered collection, such as a character from a string, or an element from a list.\r\n",
    "\r\n",
    "**mutable data value** A data value which can be modified. The types of all mutable values are compound types. Lists and dictionaries are mutable; strings and tuples are not.\r\n",
    "\r\n",
    "**optional parameter** A parameter written in a function header with an assignment to a default value which it will receive if no corresponding argument is given for it in the function call.\r\n",
    "\r\n",
    "**short-circuit evaluation** A style of programming that shortcuts extra work as soon as the outcome is know with certainty. In this chapter our find function returned as soon as it found what it was looking for; it didn’t traverse all the rest of the items in the string.\r\n",
    "\r\n",
    "**slice** A part of a string (substring) specified by a range of indices. More generally, a subsequence of any sequence type in Python can be created using the slice operator (sequence[start:stop]).\r\n",
    "\r\n",
    "**traverse** To iterate through the elements of a collection, performing a similar operation on each.\r\n",
    "\r\n",
    "**whitespace** Any of the characters that move the cursor without printing visible characters. The constant string.whitespace contains all the white-space characters."
   ]
  },
  {
   "cell_type": "markdown",
   "metadata": {},
   "source": [
    "All sources taken from https://learnpythontherightway.com/chapter/chapter-8.html"
   ]
  }
 ],
 "metadata": {
  "interpreter": {
   "hash": "f68e61caeab01811d454eb4754408d1806be5e67dd02727cb2161863c5c2164d"
  },
  "kernelspec": {
   "display_name": "Python 3.8.5 64-bit ('base': conda)",
   "name": "python3"
  },
  "language_info": {
   "name": "python",
   "version": ""
  },
  "orig_nbformat": 4
 },
 "nbformat": 4,
 "nbformat_minor": 2
}