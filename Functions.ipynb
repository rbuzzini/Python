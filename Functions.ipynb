{
 "cells": [
  {
   "cell_type": "markdown",
   "metadata": {},
   "source": [
    "## 1 - Functions"
   ]
  },
  {
   "cell_type": "markdown",
   "metadata": {},
   "source": [
    "In Python, a function is a named sequence of statements that belongs together.\n",
    "Primary purpose: help us to organize programs into chunks that match how we think\n",
    "about the problem.\n",
    "\n",
    "The syntax for a function definition is:"
   ]
  },
  {
   "cell_type": "code",
   "execution_count": null,
   "metadata": {},
   "outputs": [],
   "source": [
    "def name(parameters):\n",
    "    statements"
   ]
  },
  {
   "cell_type": "markdown",
   "metadata": {},
   "source": [
    "We can make up any names we want for the functions we create, except that we can’t use a name that is a Python keyword, and the names must follow the rules for legal identifiers.\n",
    "\n",
    "There can be any number of statements inside the function, but they have to be indented from the def. In the examples in this book, we will use the standard indentation of four spaces. Function definitions are the second of several compound statements we will see, all of which have the same pattern:\n",
    "\n",
    "1. A header line which begins with a keyword and ends with a colon.\n",
    "\n",
    "2. A body consisting of one or more Python statements, each indented the same amount — the Python style guide recommends 4 spaces — from the header line.\n",
    "\n",
    "So looking again at the function definition, the keyword in the header is def, which is followed by the name of the function and some parameters enclosed in parentheses. The parameter list may be empty, or it may contain any number of parameters separated from one another by commas. In either case, the parentheses are required. The parameters specifies what information, if any, we have to provide in order to use the new function.\n",
    "\n",
    "Suppose we’re working with turtles, and a common operation we need is to draw squares. “Draw a square” is an abstraction, or a mental chunk, of a number of smaller steps. So let’s write a function to capture the pattern of this “building block”:"
   ]
  },
  {
   "cell_type": "code",
   "execution_count": 1,
   "metadata": {},
   "outputs": [],
   "source": [
    "import turtle\n",
    "\n",
    "def draw_square(t, size):\n",
    "    \"\"\"Make turtle t draw a square of size=size\"\"\"\n",
    "    for i in range(4):\n",
    "        t.forward(size)\n",
    "        t.left(90)\n",
    "        \n",
    "#Set up the window and its characteristics:\n",
    "window = turtle.Screen()\n",
    "window.bgcolor(\"lightblue\")\n",
    "window.title(\"A simple square\")\n",
    "\n",
    "#Create Square and draw the square:\n",
    "square = turtle.Turtle()\n",
    "draw_square(square, 60)\n",
    "window.mainloop()"
   ]
  },
  {
   "cell_type": "markdown",
   "metadata": {},
   "source": [
    "#### Docstrings for documentation\n",
    "\n",
    "Docstrings are the key way to document our functions in Python and the documentation part is important. Because whoever calls our function shouldn’t have to need to know what is going on in the function or how it works; they just need to know what arguments our function takes, what it does, and what the expected result is. Enough to be able to use the function without having to look underneath. This goes back to the concept of abstraction of which we’ll talk more about.\n",
    "\n",
    "Just to differentiate from comments, a string at the start of a function (a docstring) is retrievable by Python tools at runtime. By contrast, comments are completely eliminated when the program is parsed.\n",
    "\n",
    "Defining a new function does not make the function run. To do that we need a function call. We’ve already seen how to call some built-in functions like print, range and int. Function calls contain the name of the function being executed followed by a list of values, called arguments, which are assigned to the parameters in the function definition.\n",
    "\n",
    "Once we’ve defined a function, we can call it as often as we like, and its statements will be executed each time we call it. And we could use it to get any of our turtles to draw a square. In the next example, we’ve changed the draw_square function a little, and we get tess to draw 15 squares, with some variations."
   ]
  },
  {
   "cell_type": "code",
   "execution_count": 17,
   "metadata": {},
   "outputs": [],
   "source": [
    "def draw_multicolor_square(t, sz):\n",
    "    \"\"\"Make turtle t draw a multi-color square of sz.\"\"\"\n",
    "    for i in [\"red\", \"purple\", \"hotpink\", \"blue\"]:\n",
    "        t.color(i)\n",
    "        t.forward(sz)\n",
    "        t.left(90)\n",
    "\n",
    "wn = turtle.Screen()        # Set up the window and its attributes\n",
    "wn.bgcolor(\"lightgreen\")\n",
    "wn.title(\"Multi-color squares\")\n",
    "\n",
    "tess = turtle.Turtle()      # Create tess and set some attributes\n",
    "tess.pensize(3)\n",
    "\n",
    "size = 20                   # Size of the smallest square\n",
    "for i in range(15):\n",
    "    draw_multicolor_square(tess, size)\n",
    "    size = size + 10        # Increase the size for next time\n",
    "    tess.forward(10)        # Move tess along a little\n",
    "    tess.right(18)          #    and give her some turn\n",
    "\n",
    "wn.mainloop()"
   ]
  },
  {
   "cell_type": "markdown",
   "metadata": {},
   "source": [
    "## 2 - Functions can call other functions"
   ]
  },
  {
   "cell_type": "markdown",
   "metadata": {},
   "source": [
    "Let’s assume now we want a function to draw a rectangle. We need to be able to call the function with different arguments for width and height. And, unlike the case of the square, we cannot repeat the same thing 4 times, because the four sides are not equal.\n",
    "\n",
    "So we eventually come up with this rather nice code that can draw a rectangle."
   ]
  },
  {
   "cell_type": "code",
   "execution_count": null,
   "metadata": {},
   "outputs": [],
   "source": [
    "def draw_rectangle(t, w, h):\n",
    "    \"\"\"Get turtle t to draw a rectangle of width w and height h.\"\"\"\n",
    "    for i in range(2):\n",
    "        t.forward(w)\n",
    "        t.left(90)\n",
    "        t.forward(h)\n",
    "        t.left(90)"
   ]
  },
  {
   "cell_type": "markdown",
   "metadata": {},
   "source": [
    "The parameter names are deliberately chosen as single letters to ensure they’re not misunderstood.In real programs, once we’ve had more experience, we will insist on better variable names than this. But the point is that the program doesn’t “understand” that we’re drawing a rectangle, or that the parameters represent the width and the height. Concepts like rectangle, width, and height are the meaning we humans have, not concepts that the program or the computer understands.\n",
    "\n",
    "Thinking like a scientist involves looking for patterns and relationships. In the code above, we’ve done that to some extent. We did not just draw four sides. Instead, we spotted that we could draw the rectangle as two halves, and used a loop to repeat that pattern twice.\n",
    "\n",
    "But now we might spot that a square is a special kind of rectangle. We already have a function that draws a rectangle, so we can use that to draw our square."
   ]
  },
  {
   "cell_type": "code",
   "execution_count": null,
   "metadata": {},
   "outputs": [],
   "source": [
    "def draw_square(tx, sz):        # A new version of draw_square\n",
    "    draw_rectangle(tx, sz, sz)"
   ]
  },
  {
   "cell_type": "markdown",
   "metadata": {},
   "source": [
    "There are some points worth noting here:\n",
    "\n",
    "Functions can call other functions.\n",
    "\n",
    "Rewriting draw_square like this captures the relationship that we’ve spotted between squares and rectangles.\n",
    "\n",
    "A caller of this function might say draw_square(tess, 50). The parameters of this function, tx and sz, are assigned the values of the tess object, and the int 50 respectively.\n",
    "\n",
    "In the body of the function they are just like any other variable.\n",
    "\n",
    "When the call is made to draw_rectangle, the values in variables tx and sz are fetched first, then the call happens. So as we enter the top of function draw_rectangle, its variable t is assigned the tess object, and w and h in that function are both given the value 50.\n",
    "\n",
    "So far, it may not be clear why it is worth the trouble to create all of these new functions. Actually, there are a lot of reasons, but this example demonstrates two:\n",
    "\n",
    "Creating a new function gives us an opportunity to name a group of statements. Functions can simplify a program by hiding a complex computation behind a single command. The function (including its name) can capture our mental chunking, or abstraction, of the problem.\n",
    "\n",
    "Creating a new function can make a program smaller by eliminating repetitive code.\n",
    "\n",
    "As we might expect, we have to create a function before we can execute it. In other words, the function definition has to be executed before the function is called."
   ]
  },
  {
   "cell_type": "markdown",
   "metadata": {},
   "source": [
    "## 3 - Flow of execution"
   ]
  },
  {
   "cell_type": "markdown",
   "metadata": {},
   "source": [
    "In order to ensure that a function is defined before its first use, we have to know the order in which statements are executed, which is called the flow of execution. We’ve already talked about this a little in the previous chapter.\r\n",
    "\r\n",
    "Execution always begins at the first statement of the program. Statements are executed one at a time, in order from top to bottom.\r\n",
    "\r\n",
    "Function definitions do not alter the flow of execution of the program, but remember that statements inside the function are not executed until the function is called. Although it is not common, we can define one function inside another. In this case, the inner definition isn’t executed until the outer function is called.\r\n",
    "\r\n",
    "Function calls are like a detour in the flow of execution. Instead of going to the next statement, the flow jumps to the first line of the called function, executes all the statements there, and then comes back to pick up where it left off.\r\n",
    "\r\n",
    "That sounds simple enough, until we remember that one function can call another. While in the middle of one function, the program might have to execute the statements in another function. But while executing that new function, the program might have to execute yet another function!\r\n",
    "\r\n",
    "Fortunately, Python is adept at keeping track of where it is, so each time a function completes, the program picks up where it left off in the function that called it. When it gets to the end of the program, it terminates.\r\n",
    "\r\n",
    "What’s the moral of this sordid tale? When we read a program, don’t read from top to bottom. Instead, follow the flow of execution.\r\n",
    "\r\n",
    "##### Watch the flow of execution in action\r\n",
    "\r\n",
    "Repl.it does not have “single-stepping” functionality. For this we would recommend a different IDE like PyScripter.\r\n",
    "\r\n",
    "In PyScripter, we can watch the flow of execution by “single-stepping” through any program. PyScripter will highlight each line of code just before it is about to be executed.\r\n",
    "\r\n",
    "PyScripter also lets us hover the mouse over any variable in the program, and it will pop up the current value of that variable. So this makes it easy to inspect the “state snapshot” of the program — the current values that are assigned to the program’s variables.\r\n",
    "\r\n",
    "This is a powerful mechanism for building a deep and thorough understanding of what is happening at each step of the way. Learn to use the single-stepping feature well, and be mentally proactive: as you work through the code, challenge yourself before each step: “What changes will this line make to any variables in the program?” and “Where will flow of execution go next?”"
   ]
  },
  {
   "cell_type": "markdown",
   "metadata": {},
   "source": [
    "## 4 - Functions that require arguments "
   ]
  },
  {
   "cell_type": "markdown",
   "metadata": {},
   "source": [
    "Most functions require arguments: the arguments provide for generalization. For example, if we want to find the absolute value of a number, we have to indicate what the number is. Python has a built-in function for computing the absolute value:"
   ]
  },
  {
   "cell_type": "code",
   "execution_count": 2,
   "metadata": {},
   "outputs": [
    {
     "data": {
      "text/plain": [
       "True"
      ]
     },
     "execution_count": 2,
     "metadata": {},
     "output_type": "execute_result"
    }
   ],
   "source": [
    "abs(5)==abs(-5)"
   ]
  },
  {
   "cell_type": "markdown",
   "metadata": {},
   "source": [
    "In this example, the arguments to the abs function are 5 and -5.\n",
    "\n",
    "Some functions take more than one argument. For example the built-in function pow takes two arguments, the base and the exponent. Inside the function, the values that are passed get assigned to variables called parameters."
   ]
  },
  {
   "cell_type": "code",
   "execution_count": 3,
   "metadata": {},
   "outputs": [
    {
     "data": {
      "text/plain": [
       "8"
      ]
     },
     "execution_count": 3,
     "metadata": {},
     "output_type": "execute_result"
    }
   ],
   "source": [
    "pow(2,3)"
   ]
  },
  {
   "cell_type": "markdown",
   "metadata": {},
   "source": [
    "## 5 - Functions that return values"
   ]
  },
  {
   "cell_type": "markdown",
   "metadata": {},
   "source": [
    "All the functions in the previous section return values. Furthermore, functions like range, int, abs all return values that can be used to build more complex expressions.\n",
    "\n",
    "A function that returns a value is called a fruitful function. The opposite of a fruitful function is void function — one that is not executed for its resulting value, but is executed because it does something useful."
   ]
  },
  {
   "cell_type": "code",
   "execution_count": 4,
   "metadata": {},
   "outputs": [
    {
     "name": "stdout",
     "output_type": "stream",
     "text": [
      "How much do you want to invest?10\n",
      "At the end of the period you'll have 14.89845708301605\n"
     ]
    }
   ],
   "source": [
    "def final_amt(p, r, n, t):\n",
    "    \n",
    "    \"\"\"\n",
    "    Apply the compound interest formula to\n",
    "    produce the final amount.\n",
    "    \"\"\"\n",
    "    \n",
    "    a = p * (1+r/n) ** (n*t)\n",
    "    return a\n",
    "\n",
    "# now that we have the function above, let us call it.\n",
    "toInvest = float(input(\"How much do you want to invest?\"))\n",
    "fnl = final_amt(toInvest, 0.08, 12, 5)\n",
    "print(\"At the end of the period you'll have\", fnl)"
   ]
  },
  {
   "cell_type": "markdown",
   "metadata": {},
   "source": [
    "1. The return statement is followed by an expression (a in this case). This expression will be evaluated and returned to the caller as the “fruit” of calling this function.\n",
    "\n",
    "2. We prompted the user for the principal amount. The type of toInvest is a string, but we need a number before we can work with it. Because it is money, and could have decimal places, we’ve used the float type converter function to parse the string and return a float.\n",
    "\n",
    "3. Notice how we entered the arguments for 8% interest, compounded 12 times per year, for 5 years.\n",
    "\n",
    "When we run this, we get the output"
   ]
  },
  {
   "cell_type": "markdown",
   "metadata": {},
   "source": [
    "At the end of the period you'll have 14.89845708301605"
   ]
  },
  {
   "cell_type": "markdown",
   "metadata": {},
   "source": [
    "## 6 - Variables and parameters are local"
   ]
  },
  {
   "cell_type": "markdown",
   "metadata": {},
   "source": [
    "When we create a local variable inside a function, it only exists inside the function, and we cannot use it outside. For example, consider again this function:"
   ]
  },
  {
   "cell_type": "code",
   "execution_count": null,
   "metadata": {},
   "outputs": [],
   "source": [
    "def final_amt(p, r, n, t):\n",
    "    a = p * (1 + r/n) ** (n*t)\n",
    "    return a"
   ]
  },
  {
   "cell_type": "markdown",
   "metadata": {},
   "source": [
    "If we try to use a, outside the function, we’ll get an error:"
   ]
  },
  {
   "cell_type": "code",
   "execution_count": 5,
   "metadata": {},
   "outputs": [
    {
     "ename": "NameError",
     "evalue": "name 'a' is not defined",
     "output_type": "error",
     "traceback": [
      "\u001b[1;31m---------------------------------------------------------------------------\u001b[0m",
      "\u001b[1;31mNameError\u001b[0m                                 Traceback (most recent call last)",
      "\u001b[1;32m<ipython-input-5-3f786850e387>\u001b[0m in \u001b[0;36m<module>\u001b[1;34m\u001b[0m\n\u001b[1;32m----> 1\u001b[1;33m \u001b[0ma\u001b[0m\u001b[1;33m\u001b[0m\u001b[1;33m\u001b[0m\u001b[0m\n\u001b[0m",
      "\u001b[1;31mNameError\u001b[0m: name 'a' is not defined"
     ]
    }
   ],
   "source": [
    "a"
   ]
  },
  {
   "cell_type": "markdown",
   "metadata": {},
   "source": [
    "he variable a is local to final_amt, and is not visible outside the function.\n",
    "\n",
    "Additionally, a only exists while the function is being executed — we call this its lifetime. When the execution of the function terminates, the local variables are destroyed.\n",
    "\n",
    "Parameters are also local, and act like local variables. For example, the lifetimes of p, r, n, t begin when final_amt is called, and the lifetime ends when the function completes its execution.\n",
    "\n",
    "So it is not possible for a function to set some local variable to a value, complete its execution, and then when it is called again next time, recover the local variable. Each call of the function creates new local variables, and their lifetimes expire when the function returns to the caller."
   ]
  },
  {
   "cell_type": "markdown",
   "metadata": {},
   "source": [
    "## 7 - Turtles revisited"
   ]
  },
  {
   "cell_type": "markdown",
   "metadata": {},
   "source": [
    "Now that we have fruitful functions, we can focus our attention on reorganizing our code so that it fits more nicely into our mental chunks. This process of rearrangement is called refactoring the code.\n",
    "\n",
    "Two things we’re always going to want to do when working with turtles is to create the window for the turtle, and to create one or more turtles. We could write some functions to make these tasks easier in future:"
   ]
  },
  {
   "cell_type": "code",
   "execution_count": null,
   "metadata": {},
   "outputs": [],
   "source": [
    "def make_window(colr, ttle):\n",
    "    \"\"\"\n",
    "      Set up the window with the given background color and title.\n",
    "      Returns the new window.\n",
    "    \"\"\"\n",
    "    w = turtle.Screen()\n",
    "    w.bgcolor(colr)\n",
    "    w.title(ttle)\n",
    "    return w\n",
    "\n",
    "\n",
    "def make_turtle(colr, sz):\n",
    "    \"\"\"\n",
    "      Set up a turtle with the given color and pensize.\n",
    "      Returns the new turtle.\n",
    "    \"\"\"\n",
    "    t = turtle.Turtle()\n",
    "    t.color(colr)\n",
    "    t.pensize(sz)\n",
    "    return t\n",
    "\n",
    "\n",
    "wn = make_window(\"lightgreen\", \"Tess and Alex dancing\")\n",
    "tess = make_turtle(\"hotpink\", 5)\n",
    "alex = make_turtle(\"black\", 1)\n",
    "dave = make_turtle(\"yellow\", 2)"
   ]
  },
  {
   "cell_type": "markdown",
   "metadata": {},
   "source": [
    "The trick about refactoring code is to anticipate which things we are likely to want to change each time we call the function: these should become the parameters, or changeable parts, of the functions we write."
   ]
  },
  {
   "cell_type": "markdown",
   "metadata": {},
   "source": [
    "## 8 - Glossary\n",
    "\n",
    "##### argument\n",
    "\n",
    "A value provided to a function when the function is called. This value is assigned to the corresponding parameter in the function. The argument can be the result of an expression which may involve operators, operands and calls to other fruitful functions.\n",
    "\n",
    "#### body\n",
    "\n",
    "The second part of a compound statement. The body consists of a sequence of statements all indented the same amount from the beginning of the header. The standard amount of indentation used within the Python community is 4 spaces.\n",
    "\n",
    "#### compound statement\n",
    "\n",
    "A statement that consists of two parts:\n",
    "\n",
    "1. header - which begins with a keyword determining the statement type, and ends with a colon.\n",
    "\n",
    "2. body - containing one or more statements indented the same amount from the header.\n",
    "\n",
    "The syntax of a compound statement looks like this:\n",
    "\n",
    "keyword ... :\n",
    "    statement\n",
    "    statement ...\n",
    "    \n",
    "#### docstring\n",
    "\n",
    "A special string that is attached to a function as its __doc__ attribute. Tools like Repl.it can use docstrings to provide documentation or hints for the programmer. When we get to modules, classes, and methods, we’ll see that docstrings can also be used there.\n",
    "\n",
    "#### flow of execution\n",
    "\n",
    "The order in which statements are executed during a program run.\n",
    "\n",
    "#### frame\n",
    "\n",
    "A box in a stack diagram that represents a function call. It contains the local variables and parameters of the function.\n",
    "\n",
    "#### function\n",
    "\n",
    "A named sequence of statements that performs some useful operation. Functions may or may not take parameters and may or may not produce a result.\n",
    "\n",
    "#### function call\n",
    "\n",
    "A statement that executes a function. It consists of the name of the function followed by a list of arguments enclosed in parentheses.\n",
    "\n",
    "#### function composition\n",
    "\n",
    "Using the output from one function call as the input to another.\n",
    "\n",
    "#### function definition\n",
    "\n",
    "A statement that creates a new function, specifying its name, parameters, and the statements it executes.\n",
    "\n",
    "#### fruitful function\n",
    "\n",
    "A function that returns a value when it is called.\n",
    "\n",
    "#### header line\n",
    "\n",
    "The first part of a compound statement. A header line begins with a keyword and ends with a colon (:)\n",
    "\n",
    "#### import statement\n",
    "\n",
    "A statement which permits functions and variables defined in another Python module to be brought into the environment of another script. To use the features of the turtle, we need to first import the turtle module.\n",
    "\n",
    "#### lifetime\n",
    "\n",
    "Variables and objects have lifetimes — they are created at some point during program execution, and will be destroyed at some time.\n",
    "\n",
    "#### local variable\n",
    "\n",
    "A variable defined inside a function. A local variable can only be used inside its function. Parameters of a function are also a special kind of local variable.\n",
    "\n",
    "#### parameter\n",
    "\n",
    "A name used inside a function to refer to the value which was passed to it as an argument.\n",
    "\n",
    "#### refactor\n",
    "\n",
    "A fancy word to describe reorganizing our program code, usually to make it more understandable. Typically, we have a program that is already working, then we go back to “tidy it up”. It often involves choosing better variable names, or spotting repeated patterns and moving that code into a function.\n",
    "\n",
    "#### stack diagram\n",
    "\n",
    "A graphical representation of a stack of functions, their variables, and the values to which they refer.\n",
    "\n",
    "#### traceback\n",
    "\n",
    "A list of the functions that are executing, printed when a runtime error occurs. A traceback is also commonly referred to as a stack trace, since it lists the functions in the order in which they are stored in the runtime stack.\n",
    "\n",
    "#### void function\n",
    "\n",
    "The opposite of a fruitful function: one that does not return a value. It is executed for the work it does, rather than for the value it returns."
   ]
  },
  {
   "cell_type": "markdown",
   "metadata": {},
   "source": [
    "All sources taken from https://learnpythontherightway.com/chapter/chapter-4.html"
   ]
  }
 ],
 "metadata": {
  "kernelspec": {
   "display_name": "Python 3",
   "language": "python",
   "name": "python3"
  },
  "language_info": {
   "codemirror_mode": {
    "name": "ipython",
    "version": 3
   },
   "file_extension": ".py",
   "mimetype": "text/x-python",
   "name": "python",
   "nbconvert_exporter": "python",
   "pygments_lexer": "ipython3",
   "version": "3.8.5"
  }
 },
 "nbformat": 4,
 "nbformat_minor": 4
}