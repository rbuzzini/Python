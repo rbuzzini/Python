{
 "cells": [
  {
   "cell_type": "markdown",
   "metadata": {},
   "source": [
    "## 1 - Rectangles\r\n",
    "\r\n",
    "Let’s say that we want a class to represent a rectangle which is located somewhere in the XY plane. The question is, what information do we have to provide in order to specify such a rectangle? To keep things simple, assume that the rectangle is oriented either vertically or horizontally, never at an angle.\r\n",
    "\r\n",
    "There are a few possibilities: we could specify the center of the rectangle (two coordinates) and its size (width and height); or we could specify one of the corners and the size; or we could specify two opposing corners. A conventional choice is to specify the upper-left corner of the rectangle, and the size.\r\n",
    "\r\n",
    "Again, we’ll define a new class, and provide it with an initializer and a string converter method (see `Point` class in *Classes and Objects - the Basics notebook*):"
   ]
  },
  {
   "cell_type": "code",
   "execution_count": 16,
   "metadata": {},
   "outputs": [],
   "source": [
    "class Point:\r\n",
    "    \"\"\" Create a new Point, at coordinates x, y \"\"\"\r\n",
    "\r\n",
    "    def __init__(self, x=0, y=0):\r\n",
    "        \"\"\" Create a new point at x, y \"\"\"\r\n",
    "        self.x = x\r\n",
    "        self.y = y \r\n",
    "    \r\n",
    "    def distance_from_origin(self):\r\n",
    "        \"\"\"Compute my distance from the origin\"\"\"\r\n",
    "        return ((self.x**2 + self.y**2)**0.5)\r\n",
    "        \r\n",
    "    def to_string(self):\r\n",
    "        return \"({0}, {1})\".format(self.x, self.y)"
   ]
  },
  {
   "cell_type": "code",
   "execution_count": 18,
   "metadata": {},
   "outputs": [
    {
     "name": "stdout",
     "output_type": "stream",
     "text": [
      "box:  ((0, 0), 100, 200)\n",
      "bomb:  ((100, 80), 5, 10)\n"
     ]
    }
   ],
   "source": [
    "class Rectangle:\r\n",
    "    \"\"\" A class to manufacture rectangle objects \"\"\"\r\n",
    "\r\n",
    "    def __init__(self, posn, width, height):\r\n",
    "        \"\"\" Initialize rectangle at posn, with width w and height h \"\"\"\r\n",
    "        self.corner = posn\r\n",
    "        self.width = width\r\n",
    "        self.height = height\r\n",
    "    \r\n",
    "    def __str__(self):\r\n",
    "        return \"({0}, {1}, {2})\".format(self.corner, self.width, self.height)\r\n",
    "\r\n",
    "box = Rectangle(Point(0, 0).to_string(), 100, 200)           #I have to change Point classe il the previous notebook\r\n",
    "bomb = Rectangle(Point(100, 80).to_string(), 5, 10)    # In my video game\r\n",
    "print(\"box: \", box)\r\n",
    "print(\"bomb: \", bomb) "
   ]
  },
  {
   "cell_type": "markdown",
   "metadata": {},
   "source": [
    "To specify the upper-left corner, we have embedded a `Point` object (as we used it in the previous chapter) within our new `Rectangle` object! We created two new Rectangle objects, and then printed them.\r\n",
    "\r\n",
    "The dot operator composes. The expression `box.corner.x` means, “Go to the object that `box` refers to and select its attribute named `corner`, then go to that object and select its attribute named `x`”.\r\n",
    "\r\n",
    "The figure shows the state of this object:"
   ]
  },
  {
   "cell_type": "markdown",
   "metadata": {},
   "source": [
    "<p align=\"center\">\r\n",
    "<img src=\"images/rectangle class.png\" width=\"300\" />\r\n",
    "</p>"
   ]
  }
 ],
 "metadata": {
  "interpreter": {
   "hash": "af08a664c9379a2eef6a59a35895b3c7b95bf968efc61f7032ca2d38064b34f9"
  },
  "kernelspec": {
   "display_name": "Python 3.9.5 64-bit",
   "name": "python3"
  },
  "language_info": {
   "codemirror_mode": {
    "name": "ipython",
    "version": 3
   },
   "file_extension": ".py",
   "mimetype": "text/x-python",
   "name": "python",
   "nbconvert_exporter": "python",
   "pygments_lexer": "ipython3",
   "version": "3.9.5"
  },
  "orig_nbformat": 4
 },
 "nbformat": 4,
 "nbformat_minor": 2
}