{
 "cells": [
  {
   "cell_type": "markdown",
   "metadata": {},
   "source": [
    "## 1 - Object-oriented programming\r\n",
    "\r\n",
    "Python is an **object-oriented programming**language, which means that it provides features that support [object-oriented programming](https://en.wikipedia.org/wiki/Object-oriented_programming) (**OOP**).\r\n",
    "\r\n",
    "Object-oriented programming has its roots in the 1960s, but it wasn’t until the mid 1980s that it became the main [programming paradigm](https://en.wikipedia.org/wiki/Programming_paradigm) used in the creation of new software. It was developed as a way to handle the rapidly increasing size and complexity of software systems, and to make it easier to modify these large and complex systems over time.\r\n",
    "\r\n",
    "Up to now, most of the programs we have been writing use a [procedural programming](https://en.wikipedia.org/wiki/Procedural_programming) paradigm. In procedural programming the focus is on writing functions or *procedures* which operate on data. In object-oriented programming the focus is on the creation of **objects** which contain both data and functionality together. (We have seen turtle objects, string objects, and random number generators, to name a few places where we’ve already worked with objects.)\r\n",
    "\r\n",
    "Usually, each object definition corresponds to some object or concept in the real world, and the functions that operate on that object correspond to the ways real-world objects interact."
   ]
  },
  {
   "cell_type": "markdown",
   "metadata": {},
   "source": [
    "## 2 - User-defined compund data types"
   ]
  },
  {
   "cell_type": "markdown",
   "metadata": {},
   "source": [
    "We’ve already seen classes like `str`, `int`, `float` and ``Turtle`. We are now ready to create our own user-defined class: the `Point`."
   ]
  }
 ],
 "metadata": {
  "interpreter": {
   "hash": "af08a664c9379a2eef6a59a35895b3c7b95bf968efc61f7032ca2d38064b34f9"
  },
  "kernelspec": {
   "display_name": "Python 3.9.5 64-bit",
   "name": "python3"
  },
  "language_info": {
   "name": "python",
   "version": ""
  },
  "orig_nbformat": 4
 },
 "nbformat": 4,
 "nbformat_minor": 2
}