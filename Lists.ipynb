{
 "cells": [
  {
   "cell_type": "markdown",
   "metadata": {},
   "source": [
    "A **list** is an ordered collection of values. The values that make up a list are called its **elements**, or its **items**. We will use the term element or item to mean the same thing. Lists are similar to strings, which are ordered collections of characters, except that the elements of a list can be of any type. Lists and strings — and other collections that maintain the order of their items — are called **sequences**."
   ]
  },
  {
   "cell_type": "markdown",
   "metadata": {},
   "source": [
    "## 1- List values\r\n",
    "\r\n",
    "There are several ways to create a new list; the simplest is to enclose the elements in square brackets (<font color=red>[</font> and <font color=red>]</font>):"
   ]
  },
  {
   "cell_type": "code",
   "execution_count": 3,
   "metadata": {},
   "outputs": [],
   "source": [
    "ps = [10, 20, 30, 40]\r\n",
    "qs = [\"spam\", \"bungee\", \"hello\"]"
   ]
  },
  {
   "cell_type": "markdown",
   "metadata": {},
   "source": [
    "The first example is a list of four integers. The second is a list of three strings. The elements of a list don’t have to be the same type (like tuples). The following list contains a string, a float, an integer, and (amazingly) another list:"
   ]
  },
  {
   "cell_type": "code",
   "execution_count": 12,
   "metadata": {},
   "outputs": [
    {
     "data": {
      "text/plain": [
       "['hello', 20, [10, 20], ('spam', 2)]"
      ]
     },
     "execution_count": 12,
     "metadata": {},
     "output_type": "execute_result"
    }
   ],
   "source": [
    "zs = [\"hello\", 20, [10, 20], (\"spam\", 2)]\r\n",
    "print(zs)"
   ]
  },
  {
   "cell_type": "markdown",
   "metadata": {},
   "source": [
    "A list within another list is said to be **nested**.\r\n",
    "\r\n",
    "Finally, a list with no elements is called an empty list, and is denoted <font color=red>[]</font>.\r\n",
    "\r\n",
    "We have already seen that we can assign list values to variables or pass lists as parameters to functions:"
   ]
  },
  {
   "cell_type": "code",
   "execution_count": 5,
   "metadata": {},
   "outputs": [
    {
     "name": "stdout",
     "output_type": "stream",
     "text": [
      "['apple', 'cheese', 'dog'] [13, 45] []\n"
     ]
    }
   ],
   "source": [
    "vocabulary = [\"apple\", \"cheese\", \"dog\"]\r\n",
    "numbers = [13, 45]\r\n",
    "empty_list = []\r\n",
    "print(vocabulary, numbers, empty_list)"
   ]
  },
  {
   "cell_type": "markdown",
   "metadata": {},
   "source": [
    "## 2 - Accessing elements\r\n",
    "\r\n",
    "The syntax for accessing the elements of a list is the same as the syntax for accessing the characters of a string — the index operator: <font color=red>[]</font> (not to be confused with an empty list). The expression inside the brackets specifies the index. Remember that the indices start at 0:"
   ]
  },
  {
   "cell_type": "code",
   "execution_count": 6,
   "metadata": {},
   "outputs": [
    {
     "data": {
      "text/plain": [
       "13"
      ]
     },
     "execution_count": 6,
     "metadata": {},
     "output_type": "execute_result"
    }
   ],
   "source": [
    "numbers[0]"
   ]
  },
  {
   "cell_type": "markdown",
   "metadata": {},
   "source": [
    "Any expression evaluating to an integer can be used as an index:"
   ]
  },
  {
   "cell_type": "code",
   "execution_count": 7,
   "metadata": {},
   "outputs": [
    {
     "name": "stdout",
     "output_type": "stream",
     "text": [
      "45\n"
     ]
    },
    {
     "ename": "TypeError",
     "evalue": "list indices must be integers or slices, not float",
     "output_type": "error",
     "traceback": [
      "\u001b[1;31m---------------------------------------------------------------------------\u001b[0m",
      "\u001b[1;31mTypeError\u001b[0m                                 Traceback (most recent call last)",
      "\u001b[1;32m~\\AppData\\Local\\Temp/ipykernel_14428/4103251553.py\u001b[0m in \u001b[0;36m<module>\u001b[1;34m\u001b[0m\n\u001b[0;32m      1\u001b[0m \u001b[0mprint\u001b[0m\u001b[1;33m(\u001b[0m\u001b[0mnumbers\u001b[0m\u001b[1;33m[\u001b[0m\u001b[1;36m9\u001b[0m\u001b[1;33m-\u001b[0m\u001b[1;36m8\u001b[0m\u001b[1;33m]\u001b[0m\u001b[1;33m)\u001b[0m\u001b[1;33m\u001b[0m\u001b[1;33m\u001b[0m\u001b[0m\n\u001b[1;32m----> 2\u001b[1;33m \u001b[0mprint\u001b[0m\u001b[1;33m(\u001b[0m\u001b[0mnumbers\u001b[0m\u001b[1;33m[\u001b[0m\u001b[1;36m1.0\u001b[0m\u001b[1;33m]\u001b[0m\u001b[1;33m)\u001b[0m\u001b[1;33m\u001b[0m\u001b[1;33m\u001b[0m\u001b[0m\n\u001b[0m",
      "\u001b[1;31mTypeError\u001b[0m: list indices must be integers or slices, not float"
     ]
    }
   ],
   "source": [
    "print(numbers[9-8])\r\n",
    "print(numbers[1.0])"
   ]
  },
  {
   "cell_type": "markdown",
   "metadata": {},
   "source": [
    "If you try to access or assign to an element that does not exist, you get a runtime error:"
   ]
  },
  {
   "cell_type": "code",
   "execution_count": 8,
   "metadata": {},
   "outputs": [
    {
     "ename": "IndexError",
     "evalue": "list index out of range",
     "output_type": "error",
     "traceback": [
      "\u001b[1;31m---------------------------------------------------------------------------\u001b[0m",
      "\u001b[1;31mIndexError\u001b[0m                                Traceback (most recent call last)",
      "\u001b[1;32m~\\AppData\\Local\\Temp/ipykernel_14428/2180403110.py\u001b[0m in \u001b[0;36m<module>\u001b[1;34m\u001b[0m\n\u001b[1;32m----> 1\u001b[1;33m \u001b[0mnumbers\u001b[0m\u001b[1;33m[\u001b[0m\u001b[1;36m2\u001b[0m\u001b[1;33m]\u001b[0m\u001b[1;33m\u001b[0m\u001b[1;33m\u001b[0m\u001b[0m\n\u001b[0m",
      "\u001b[1;31mIndexError\u001b[0m: list index out of range"
     ]
    }
   ],
   "source": [
    "numbers[2]"
   ]
  },
  {
   "cell_type": "markdown",
   "metadata": {},
   "source": [
    "It is common to use a loop variable as a list of index."
   ]
  },
  {
   "cell_type": "code",
   "execution_count": 9,
   "metadata": {},
   "outputs": [
    {
     "name": "stdout",
     "output_type": "stream",
     "text": [
      "war\n",
      "famine\n",
      "pestilence\n",
      "death\n"
     ]
    }
   ],
   "source": [
    "horsemen = [\"war\", \"famine\", \"pestilence\", \"death\"]\r\n",
    "\r\n",
    "for i in [0, 1, 2, 3]:\r\n",
    "    print(horsemen[i])"
   ]
  },
  {
   "cell_type": "markdown",
   "metadata": {},
   "source": [
    "Each time through the loop, the variable <font color=red>i</font> is used as an index into the list, printing the <font color=red>i</font>’th element. This pattern of computation is called a **list traversal**.\r\n",
    "\r\n",
    "The above sample doesn’t need or use the index i for anything besides getting the items from the list, so this more direct version — where the <font color=red>for</font> loop gets the items — might be preferred:"
   ]
  },
  {
   "cell_type": "code",
   "execution_count": 10,
   "metadata": {},
   "outputs": [
    {
     "name": "stdout",
     "output_type": "stream",
     "text": [
      "war\n",
      "famine\n",
      "pestilence\n",
      "death\n"
     ]
    }
   ],
   "source": [
    "horsemen = [\"war\", \"famine\", \"pestilence\", \"death\"]\r\n",
    "\r\n",
    "for i in horsemen:\r\n",
    "    print(i)"
   ]
  },
  {
   "cell_type": "markdown",
   "metadata": {},
   "source": [
    "## 3 - List length\r\n",
    "\r\n",
    "The function <font color=red>len</font> returns the length of a list, which is equal to the number of its elements. If you are going to use an integer index to access the list, it is a good idea to use this value as the upper bound of a loop instead of a constant. That way, if the size of the list changes, you won’t have to go through the program changing all the loops; they will work correctly for any size list:"
   ]
  },
  {
   "cell_type": "code",
   "execution_count": null,
   "metadata": {},
   "outputs": [],
   "source": [
    "horsemen = [\"war\", \"famine\", \"pestilence\", \"death\"]\r\n",
    "\r\n",
    "for i in range(len(horsemen)):\r\n",
    "    print(horsemen[i])"
   ]
  },
  {
   "cell_type": "markdown",
   "metadata": {},
   "source": [
    "The last time the body of the loop is executed, <font color=red>i</font> is <font color=red>len(horsemen) - 1</font>, which is the index of the last element. (But the version without the index looks even better now!)\r\n",
    "\r\n",
    "Although a list can contain another list, the nested list still counts as a single element in its parent list. The length of this list is 4:"
   ]
  },
  {
   "cell_type": "code",
   "execution_count": 11,
   "metadata": {},
   "outputs": [
    {
     "data": {
      "text/plain": [
       "4"
      ]
     },
     "execution_count": 11,
     "metadata": {},
     "output_type": "execute_result"
    }
   ],
   "source": [
    "len([\"car makers\", 1, [\"Ford\", \"Toyota\", \"BMW\"], [1, 2, 3]])"
   ]
  },
  {
   "cell_type": "markdown",
   "metadata": {},
   "source": [
    "## 4 - List membership\r\n",
    "\r\n",
    "<font color=red>in</font> and <font color=red>not in</font> are Boolean operators that test membership in a sequence. We used them previously with strings, but they also work with lists and other sequences:"
   ]
  },
  {
   "cell_type": "code",
   "execution_count": 13,
   "metadata": {},
   "outputs": [
    {
     "data": {
      "text/plain": [
       "True"
      ]
     },
     "execution_count": 13,
     "metadata": {},
     "output_type": "execute_result"
    }
   ],
   "source": [
    "horsemen = [\"war\", \"famine\", \"pestilence\", \"death\"]\r\n",
    "\"pestilence\" in horsemen"
   ]
  },
  {
   "cell_type": "markdown",
   "metadata": {},
   "source": [
    "Using this produces a more elegant version of the nested loop program we previously used to count the number of students doing Computer Science in the section *nested_data*:"
   ]
  },
  {
   "cell_type": "code",
   "execution_count": 14,
   "metadata": {},
   "outputs": [
    {
     "name": "stdout",
     "output_type": "stream",
     "text": [
      "The number of students taking Computer Science is:  3\n"
     ]
    }
   ],
   "source": [
    "students = [\r\n",
    "    (\"John\", [\"CompSci\", \"Physics\"]),\r\n",
    "    (\"Vusi\", [\"Maths\", \"CompSci\", \"Stats\"]),\r\n",
    "    (\"Jess\", [\"CompSci\", \"Accounting\", \"Economics\", \"Management\"]),\r\n",
    "    (\"Sarah\", [\"InfSys\", \"Accounting\", \"Economics\", \"CommLaw\"]),\r\n",
    "    (\"Zuki\", [\"Sociology\", \"Economics\", \"Law\", \"Stats\", \"Music\"])]\r\n",
    "\r\n",
    "# Count how many students are taking CompSci\r\n",
    "count = 0\r\n",
    "for (name, subject) in students:\r\n",
    "    if \"CompSci\" in subject:\r\n",
    "        count += 1\r\n",
    "print(\"The number of students taking Computer Science is: \", count)"
   ]
  },
  {
   "cell_type": "markdown",
   "metadata": {},
   "source": [
    "## 5 - List operations\r\n",
    "\r\n",
    "The <font color=red>+</font> operator concatenates lists:"
   ]
  },
  {
   "cell_type": "code",
   "execution_count": 15,
   "metadata": {},
   "outputs": [
    {
     "name": "stdout",
     "output_type": "stream",
     "text": [
      "[1, 2, 3, 4, 5, 6]\n"
     ]
    }
   ],
   "source": [
    "a = [1, 2, 3]\r\n",
    "b = [4, 5, 6]\r\n",
    "print(a + b)"
   ]
  },
  {
   "cell_type": "markdown",
   "metadata": {},
   "source": [
    "Similarly, the <font color=red>*</font> operator repeats a list a given number of times:"
   ]
  },
  {
   "cell_type": "code",
   "execution_count": 16,
   "metadata": {},
   "outputs": [
    {
     "data": {
      "text/plain": [
       "[0, 0, 0, 0]"
      ]
     },
     "execution_count": 16,
     "metadata": {},
     "output_type": "execute_result"
    }
   ],
   "source": [
    "[0] * 4"
   ]
  },
  {
   "cell_type": "markdown",
   "metadata": {},
   "source": [
    "The first example repeats [0] four times. The second example repeats the list [1, 2, 3] three times."
   ]
  },
  {
   "cell_type": "markdown",
   "metadata": {},
   "source": [
    "## 6 - List slices\r\n",
    "\r\n",
    "The slice operations we saw previously with strings and tuples let us work with sublists:"
   ]
  },
  {
   "cell_type": "code",
   "execution_count": 17,
   "metadata": {},
   "outputs": [
    {
     "data": {
      "text/plain": [
       "['b', 'c']"
      ]
     },
     "execution_count": 17,
     "metadata": {},
     "output_type": "execute_result"
    }
   ],
   "source": [
    "a_list = [\"a\", \"b\", \"c\", \"d\", \"e\", \"f\"]\r\n",
    "a_list[1:3]"
   ]
  },
  {
   "cell_type": "markdown",
   "metadata": {},
   "source": [
    "## 7 - Lists are mutable\r\n",
    "\r\n",
    "Unlike strings and tuples, lists are **mutable**, which means we can change their elements. Using the index operator on the left side of an assignment, we can update one of the elements:"
   ]
  },
  {
   "cell_type": "code",
   "execution_count": 18,
   "metadata": {},
   "outputs": [
    {
     "data": {
      "text/plain": [
       "['strawberry', 'apple', 'pear']"
      ]
     },
     "execution_count": 18,
     "metadata": {},
     "output_type": "execute_result"
    }
   ],
   "source": [
    "fruit = [\"banana\", \"apple\", \"pear\"]\r\n",
    "fruit[0] = \"strawberry\"\r\n",
    "fruit"
   ]
  },
  {
   "cell_type": "markdown",
   "metadata": {},
   "source": [
    "The bracket operator applied to a list can appear anywhere in an expression. When it appears on the left side of an assignment, it changes one of the elements in the list, so the first element of fruit has been changed from \"banana\" to \"strawberry\". An assignment to an element of a list is called **item assignment**. Item assignment does not work for strings and tuples, but it does for lists.\r\n",
    "\r\n",
    "With the slice operator we can update a whole sublist at once:"
   ]
  },
  {
   "cell_type": "code",
   "execution_count": null,
   "metadata": {},
   "outputs": [],
   "source": [
    "a_list = [\"a\", \"b\", \"c\", \"d\", \"e\", \"f\"]\r\n",
    "a_list[1:3] = [\"x\", \"y\"]\r\n",
    "a_list"
   ]
  },
  {
   "cell_type": "markdown",
   "metadata": {},
   "source": [
    "We can also remove elements from a list by assigning an empty list to them:"
   ]
  },
  {
   "cell_type": "code",
   "execution_count": 22,
   "metadata": {},
   "outputs": [
    {
     "data": {
      "text/plain": [
       "['a', 'd']"
      ]
     },
     "execution_count": 22,
     "metadata": {},
     "output_type": "execute_result"
    }
   ],
   "source": [
    "a_list = [\"a\", \"b\", \"c\", \"d\"]\r\n",
    "a_list[1:3] = []\r\n",
    "a_list"
   ]
  },
  {
   "cell_type": "markdown",
   "metadata": {},
   "source": [
    "And we can add elements to a list by squeezing them into an empty slice at the desired location:"
   ]
  },
  {
   "cell_type": "code",
   "execution_count": 26,
   "metadata": {},
   "outputs": [
    {
     "data": {
      "text/plain": [
       "['a', 'b', 'c', 'd', 'e', 'f']"
      ]
     },
     "execution_count": 26,
     "metadata": {},
     "output_type": "execute_result"
    }
   ],
   "source": [
    "a_list = [\"a\", \"d\", \"f\"]\r\n",
    "a_list[1:1] = [\"b\", \"c\"]\r\n",
    "a_list[4:4] = \"e\"\r\n",
    "a_list"
   ]
  },
  {
   "cell_type": "markdown",
   "metadata": {},
   "source": [
    "## 8 - List deletion\r\n",
    "\r\n",
    "Using slices to delete list elements can be error-prone. Python provide an alternative that is more readable.\r\n",
    "The **del** statement removes an element from a list:"
   ]
  },
  {
   "cell_type": "code",
   "execution_count": 27,
   "metadata": {},
   "outputs": [
    {
     "data": {
      "text/plain": [
       "[2, 3, 4]"
      ]
     },
     "execution_count": 27,
     "metadata": {},
     "output_type": "execute_result"
    }
   ],
   "source": [
    "l = [1, 2, 3, 4]\r\n",
    "del l[0]\r\n",
    "l"
   ]
  },
  {
   "cell_type": "markdown",
   "metadata": {},
   "source": [
    "As you might expect, del causes a runtime error if the index is out of range.\r\n",
    "\r\n",
    "You can also use del with a slice to delete a sublist."
   ]
  },
  {
   "cell_type": "markdown",
   "metadata": {},
   "source": [
    "## 9 - Objects and references\r\n",
    "\r\n",
    "After we execute these assignment statements"
   ]
  },
  {
   "cell_type": "code",
   "execution_count": 28,
   "metadata": {},
   "outputs": [],
   "source": [
    "a = \"banana\"\r\n",
    "b = \"banana\""
   ]
  },
  {
   "cell_type": "markdown",
   "metadata": {},
   "source": [
    "we know that a and b will refer to a string object with the letters \"banana\". But we don’t know yet whether they point to the same string object."
   ]
  },
  {
   "cell_type": "markdown",
   "metadata": {},
   "source": [
    "[](https://github.com/rbuzzini/Python/blob/main/Images/list%20memory.png)"
   ]
  },
  {
   "cell_type": "markdown",
   "metadata": {},
   "source": [
    "<img src=\"Images/list memory.png\" width=\"200\" />"
   ]
  },
  {
   "cell_type": "markdown",
   "metadata": {},
   "source": [
    "In one case, a and b refer to two different objects that have the same value. In the second case, they refer to the same object.\r\n",
    "\r\n",
    "We can test whether two names refer to the same object using the **is** operator:"
   ]
  },
  {
   "cell_type": "code",
   "execution_count": 29,
   "metadata": {},
   "outputs": [
    {
     "data": {
      "text/plain": [
       "True"
      ]
     },
     "execution_count": 29,
     "metadata": {},
     "output_type": "execute_result"
    }
   ],
   "source": [
    "a is b"
   ]
  },
  {
   "cell_type": "markdown",
   "metadata": {},
   "source": [
    "This tells us that both a and b refer to the same object, and that it is the second of the two state snapshots that accurately describes the relationship.\r\n",
    "\r\n",
    "Since strings are *immutable*, Python optimizes resources by making two names that refer to the same string value refer to the same object.\r\n",
    "\r\n",
    "This is not the case with lists:"
   ]
  },
  {
   "cell_type": "code",
   "execution_count": 32,
   "metadata": {},
   "outputs": [
    {
     "name": "stdout",
     "output_type": "stream",
     "text": [
      "True \n",
      " False\n"
     ]
    }
   ],
   "source": [
    "a = [1, 2, 3]\r\n",
    "b = [1, 2, 3]\r\n",
    "print(a == b,\"\\n\", a is b)"
   ]
  },
  {
   "cell_type": "markdown",
   "metadata": {},
   "source": [
    "The state snapshot her looks like this:\r\n",
    "\r\n",
    "<image src=\"Images/list assignment.png\" widht=\"200\">"
   ]
  },
  {
   "cell_type": "markdown",
   "metadata": {},
   "source": [
    "a and b have the same values but refers to different objects."
   ]
  },
  {
   "cell_type": "markdown",
   "metadata": {},
   "source": [
    "## 10 - Aliasing\r\n",
    "\r\n",
    "Since variables refer to objects, if we assign one variable to another, both variables refer to the same object:"
   ]
  },
  {
   "cell_type": "code",
   "execution_count": 33,
   "metadata": {},
   "outputs": [
    {
     "data": {
      "text/plain": [
       "True"
      ]
     },
     "execution_count": 33,
     "metadata": {},
     "output_type": "execute_result"
    }
   ],
   "source": [
    "a = [1, 2, 3]\r\n",
    "b = a\r\n",
    "a is b"
   ]
  },
  {
   "cell_type": "markdown",
   "metadata": {},
   "source": [
    "In this case, the state snapshot looks like this:\r\n",
    "\r\n",
    "<image src=\"Images/list aliasing.png\" width=\"200\">"
   ]
  },
  {
   "cell_type": "markdown",
   "metadata": {},
   "source": [
    "Because the same list has two different names, a and b, we say that it is **aliased**. Changes made with one alias affect the other:"
   ]
  },
  {
   "cell_type": "code",
   "execution_count": 34,
   "metadata": {},
   "outputs": [
    {
     "data": {
      "text/plain": [
       "[5, 2, 3]"
      ]
     },
     "execution_count": 34,
     "metadata": {},
     "output_type": "execute_result"
    }
   ],
   "source": [
    "b[0] = 5\r\n",
    "a"
   ]
  },
  {
   "cell_type": "markdown",
   "metadata": {},
   "source": [
    "Although this behavior can be useful, it is sometimes unexpected or undesirable. In general, it is safer to avoid aliasing when you are working with mutable objects (i.e. lists at this point in our textbook, but we’ll meet more mutable objects as we cover classes and objects, dictionaries and sets). Of course, for immutable objects (i.e. strings, tuples), there’s no problem — it is just not possible to change something and get a surprise when you access an alias name. That’s why Python is free to alias strings (and any other immutable kinds of data) when it sees an opportunity to economize."
   ]
  },
  {
   "cell_type": "markdown",
   "metadata": {},
   "source": [
    "## 11 - Cloning lists\r\n",
    "\r\n",
    "If we want to modify a list and also keep a copy of the original, we need to be able to make a copy of the list itself, not just the reference. This process is sometimes called **cloning**, to avoid the ambiguity of the word copy.\r\n",
    "\r\n",
    "The easiest way to clone a list is to use the slice operator:"
   ]
  },
  {
   "cell_type": "code",
   "execution_count": 35,
   "metadata": {},
   "outputs": [
    {
     "data": {
      "text/plain": [
       "[1, 2, 3]"
      ]
     },
     "execution_count": 35,
     "metadata": {},
     "output_type": "execute_result"
    }
   ],
   "source": [
    "a = [1, 2, 3]\r\n",
    "b = a[:]\r\n",
    "b"
   ]
  },
  {
   "cell_type": "markdown",
   "metadata": {},
   "source": [
    "Taking any slice of a creates a new list. In this case the slice happens to consist of the whole list. \r\n",
    "\r\n",
    "Now we are free to make changes to b without worrying that we'll inadvertently bu changing a:"
   ]
  },
  {
   "cell_type": "code",
   "execution_count": 39,
   "metadata": {},
   "outputs": [
    {
     "name": "stdout",
     "output_type": "stream",
     "text": [
      "[1, 2, 3] [3, 2, 3]\n"
     ]
    }
   ],
   "source": [
    "b[0] = 3\r\n",
    "print(a, b)"
   ]
  },
  {
   "cell_type": "markdown",
   "metadata": {},
   "source": [
    "## 12 - Lists and <font color=red>for</font> loops\r\n",
    "\r\n",
    "The for loop also works with lists, as we’ve already seen. The generalized syntax of a for loop is:"
   ]
  },
  {
   "cell_type": "code",
   "execution_count": 41,
   "metadata": {},
   "outputs": [],
   "source": [
    "#for VARIABLE in LIST:\r\n",
    " #   BODY"
   ]
  },
  {
   "cell_type": "markdown",
   "metadata": {},
   "source": [
    "So, as we've seen"
   ]
  },
  {
   "cell_type": "code",
   "execution_count": 42,
   "metadata": {},
   "outputs": [
    {
     "name": "stdout",
     "output_type": "stream",
     "text": [
      "Joe\n",
      "Zoe\n",
      "Brad\n",
      "Angelina\n",
      "Zuki\n",
      "Thandi\n",
      "Paris\n"
     ]
    }
   ],
   "source": [
    "friends = [\"Joe\", \"Zoe\", \"Brad\", \"Angelina\", \"Zuki\", \"Thandi\", \"Paris\"]\r\n",
    "for friend in friends:\r\n",
    "    print(friend)"
   ]
  },
  {
   "cell_type": "markdown",
   "metadata": {},
   "source": [
    "It almost reads like English: For (every) friend in (the list of) friends, print (the name of the) friend.\r\n",
    "\r\n",
    "Any list expression can be used in a for loop:"
   ]
  },
  {
   "cell_type": "code",
   "execution_count": 43,
   "metadata": {},
   "outputs": [
    {
     "name": "stdout",
     "output_type": "stream",
     "text": [
      "0\n",
      "3\n",
      "6\n",
      "9\n",
      "12\n",
      "15\n",
      "18\n",
      "I like to eat bananas!\n",
      "I like to eat apples!\n",
      "I like to eat quinces!\n"
     ]
    }
   ],
   "source": [
    "for number in range(20):\r\n",
    "    if number % 3 == 0:\r\n",
    "        print(number)\r\n",
    "\r\n",
    "for fruit in [\"banana\", \"apple\", \"quince\"]:\r\n",
    "    print(\"I like to eat \" + fruit + \"s!\")"
   ]
  },
  {
   "cell_type": "markdown",
   "metadata": {},
   "source": [
    "The first example prints all the multiples of 3 between 0 and 19. The second example expresses enthusiasm for various fruits.\r\n",
    "\r\n",
    "Since lists are mutable, we often want to traverse a list, changing each of its elements. The following squares all the numbers in the list xs:"
   ]
  },
  {
   "cell_type": "code",
   "execution_count": null,
   "metadata": {},
   "outputs": [],
   "source": [
    "xs = [1, 2, 3, 4, 5]\r\n",
    "\r\n",
    "for i in range(len(xs)):\r\n",
    "    xs[i] = xs[i]**2"
   ]
  },
  {
   "cell_type": "markdown",
   "metadata": {},
   "source": [
    "Take a moment to think about *range(len(xs))* until you understand how it works.\r\n",
    "\r\n",
    "In this example we are interested in both the value of an item, (we want to square that value), and its index (so that we can assign the new value to that position). This pattern is common enough that Python provides a nicer way to implement it:"
   ]
  },
  {
   "cell_type": "code",
   "execution_count": null,
   "metadata": {},
   "outputs": [],
   "source": [
    "xs = [1, 2, 3, 4, 5]\r\n",
    "\r\n",
    "for (i, val) in enumerate(xs):\r\n",
    "    xs[i] = val**2"
   ]
  },
  {
   "cell_type": "markdown",
   "metadata": {},
   "source": [
    "*enumerate* generates pairs of both (index, value) during the list traversal. Try this next example to see more clearly how enumerate works:"
   ]
  },
  {
   "cell_type": "code",
   "execution_count": 44,
   "metadata": {},
   "outputs": [
    {
     "name": "stdout",
     "output_type": "stream",
     "text": [
      "0 banana\n",
      "1 apple\n",
      "2 pear\n",
      "3 lemon\n"
     ]
    }
   ],
   "source": [
    "for (i, v) in enumerate([\"banana\", \"apple\", \"pear\", \"lemon\"]):\r\n",
    "    print(i, v)"
   ]
  },
  {
   "cell_type": "markdown",
   "metadata": {},
   "source": [
    "## 13 - List parameters\r\n",
    "\r\n",
    "Passing a list as an argument actually passes a reference to the list, not a copy or clone of the list. So parameter passing creates an alias for you: the caller has one variable referencing the list, and the called function has an alias, but there is only one underlying list object. For example, the function below takes a list as an argument and multiplies each element in the list by 2:"
   ]
  },
  {
   "cell_type": "code",
   "execution_count": 1,
   "metadata": {},
   "outputs": [],
   "source": [
    "def double_staff(a_list):\r\n",
    "    \"\"\"Overwrite each element in a_list with double its value\"\"\"\r\n",
    "    for (idx, val) in enumerate(a_list):\r\n",
    "        a_list[idx] = 2*val "
   ]
  },
  {
   "cell_type": "markdown",
   "metadata": {},
   "source": [
    "If we add the following onto our script:"
   ]
  },
  {
   "cell_type": "code",
   "execution_count": 2,
   "metadata": {},
   "outputs": [
    {
     "name": "stdout",
     "output_type": "stream",
     "text": [
      "[4, 10, 18]\n"
     ]
    }
   ],
   "source": [
    "things = [2, 5, 9]\r\n",
    "double_staff(things)\r\n",
    "print(things)"
   ]
  },
  {
   "cell_type": "markdown",
   "metadata": {},
   "source": [
    "In the function above, the parameter a_list and the variable things are aliases for the same object.\r\n",
    "\r\n",
    "Since the list object is shared by two frames, we drew it between them.\r\n",
    "\r\n",
    "If a function modifies the items of a list parameter, the caller sees the change.\r\n",
    "\r\n",
    "Use the Python visualizer!\r\n",
    "\r\n",
    "We’ve already mentioned the Python visualizer at http://pythontutor.com. It is a very useful tool for building a good understanding of references, aliases, assignments, and passing arguments to functions. Pay special attention to cases where you clone a list or have two separate lists, and cases where there is only one underlying list, but more than one variable is aliased to reference the list.\r\n"
   ]
  },
  {
   "cell_type": "markdown",
   "metadata": {},
   "source": [
    "## 14 - List methods\r\n",
    "\r\n",
    "The dot operator can also be used to access built-in methods of list objects. We’ll start with the most useful method for adding something onto the end of an existing list:"
   ]
  },
  {
   "cell_type": "code",
   "execution_count": 14,
   "metadata": {},
   "outputs": [
    {
     "data": {
      "text/plain": [
       "[5, 7]"
      ]
     },
     "execution_count": 14,
     "metadata": {},
     "output_type": "execute_result"
    }
   ],
   "source": [
    "mylist = []\r\n",
    "mylist.append(5)\r\n",
    "mylist.append(7)\r\n",
    "mylist"
   ]
  },
  {
   "cell_type": "markdown",
   "metadata": {},
   "source": [
    "**append** is a list method which adds the argument passed to it to the end of the list. We’ll use it heavily when we’re creating new lists. Continuing with this example, we show several other list methods:"
   ]
  },
  {
   "cell_type": "code",
   "execution_count": 13,
   "metadata": {},
   "outputs": [
    {
     "name": "stdout",
     "output_type": "stream",
     "text": [
      "[5, 12, 7]\n",
      "1\n",
      "4\n",
      "None\n",
      "None\n"
     ]
    }
   ],
   "source": [
    "mylist.insert(1, 12)   # Insert 12 at pos 1, shift other items up\r\n",
    "print(mylist)"
   ]
  },
  {
   "cell_type": "code",
   "execution_count": 15,
   "metadata": {},
   "outputs": [
    {
     "name": "stdout",
     "output_type": "stream",
     "text": [
      "0\n",
      "[5, 7, 5, 9, 5, 11]\n"
     ]
    }
   ],
   "source": [
    "mylist.count(12)      # How many times is 12 in mylist?\r\n",
    "\r\n",
    "mylist.extend([5, 9, 5, 11])     # Put whole list onto end of mylist\r\n",
    "print(mylist)"
   ]
  },
  {
   "cell_type": "code",
   "execution_count": null,
   "metadata": {},
   "outputs": [],
   "source": [
    "print(mylist.index(9))      # Find index of first 9 in mylist"
   ]
  },
  {
   "cell_type": "code",
   "execution_count": 16,
   "metadata": {},
   "outputs": [
    {
     "name": "stdout",
     "output_type": "stream",
     "text": [
      "[11, 5, 9, 5, 7, 5]\n"
     ]
    }
   ],
   "source": [
    "mylist.reverse()      # Reverse mylist\r\n",
    "print(mylist)"
   ]
  },
  {
   "cell_type": "code",
   "execution_count": 17,
   "metadata": {},
   "outputs": [
    {
     "name": "stdout",
     "output_type": "stream",
     "text": [
      "[5, 5, 5, 7, 9, 11]\n"
     ]
    }
   ],
   "source": [
    "mylist.sort()     # Sort mylist in ascending order\r\n",
    "print(mylist)"
   ]
  },
  {
   "cell_type": "code",
   "execution_count": 18,
   "metadata": {},
   "outputs": [
    {
     "name": "stdout",
     "output_type": "stream",
     "text": [
      "[5, 5, 5, 7, 9]\n"
     ]
    }
   ],
   "source": [
    "mylist.remove(11)\r\n",
    "print(mylist)"
   ]
  },
  {
   "cell_type": "markdown",
   "metadata": {},
   "source": [
    "## 15 - Pure functions and modifiers\r\n",
    "\r\n",
    "Functions which take lists as arguments and change them during execution are called **modifiers** and the changes they make are called **side effects**.\r\n",
    "\r\n",
    "A **pure function** does not produce side effects. It communicates with the calling program only through parameters, which it does not modify, and a return value. Here is *double_stuff* written as a pure function:"
   ]
  },
  {
   "cell_type": "code",
   "execution_count": 20,
   "metadata": {},
   "outputs": [],
   "source": [
    "def double_stuff(a_list):\r\n",
    "    \"\"\" Return a new list which contains \r\n",
    "        doubles of the elements in a_list. \r\n",
    "    \"\"\"\r\n",
    "    new_list = []\r\n",
    "    for value in a_list:\r\n",
    "        new_elem = 2 * value\r\n",
    "        new_list.append(new_elem)\r\n",
    "\r\n",
    "    return new_list"
   ]
  },
  {
   "cell_type": "markdown",
   "metadata": {},
   "source": [
    "This version of double_stuff does not change its arguments:"
   ]
  },
  {
   "cell_type": "code",
   "execution_count": 22,
   "metadata": {},
   "outputs": [
    {
     "name": "stdout",
     "output_type": "stream",
     "text": [
      "[2, 5, 9] [4, 10, 18]\n"
     ]
    }
   ],
   "source": [
    "things = [2, 5, 9]\r\n",
    "xs = double_stuff(things)\r\n",
    "print(things, xs)"
   ]
  },
  {
   "cell_type": "markdown",
   "metadata": {},
   "source": [
    "An early rule we saw for assignment said “first evaluate the right hand side, then assign the resulting value to the variable”. So it is quite safe to assign the function result to the same variable that was passed to the function.\r\n",
    "\r\n",
    "Which style is better?\r\n",
    "\r\n",
    "Anything that can be done with modifiers can also be done with pure functions. In fact, some programming languages only allow pure functions. There is some evidence that programs that use pure functions are faster to develop and less error-prone than programs that use modifiers. Nevertheless, modifiers are convenient at times, and in some cases, functional programs are less efficient.\r\n",
    "\r\n",
    "In general, we recommend that you write pure functions whenever it is reasonable to do so and resort to modifiers only if there is a compelling advantage. This approach might be called a *functional programming style*."
   ]
  },
  {
   "cell_type": "markdown",
   "metadata": {},
   "source": [
    "## 16 - Functions that produces lists\r\n",
    "\r\n",
    "The pure version of double_stuff above made use of an important **pattern** for your toolbox. Whenever you need to write a function that creates and returns a list, the pattern is usually:"
   ]
  },
  {
   "cell_type": "markdown",
   "metadata": {},
   "source": [
    "initialize a result variable to be an empty list\r\n",
    "loop\r\n",
    "   create a new element \r\n",
    "   append it to result\r\n",
    "return the result"
   ]
  },
  {
   "cell_type": "markdown",
   "metadata": {},
   "source": [
    "Let us show another use of this pattern. Assume you already have a function *is_prime(x)* that can test if x is prime. Write a function to return a list of all prime numbers less than n:"
   ]
  },
  {
   "cell_type": "code",
   "execution_count": 26,
   "metadata": {},
   "outputs": [],
   "source": [
    "def primes_lessthan(n):\r\n",
    "    \"\"\" Return a list of all prime numbers less than n. \"\"\"\r\n",
    "    \r\n",
    "    result = []\r\n",
    "    for i in range(2, n):\r\n",
    "        if is_prime(i):\r\n",
    "            result.append(i)\r\n",
    "    return result"
   ]
  },
  {
   "cell_type": "markdown",
   "metadata": {},
   "source": [
    "## 17 - Strings and lists\r\n",
    "\r\n",
    "Two of the most useful methods on strings involve conversion to and from lists of substrings. The **split** method (which we’ve already seen) breaks a string into a list of words. By default, any number of whitespace characters is considered a word boundary:"
   ]
  },
  {
   "cell_type": "code",
   "execution_count": 27,
   "metadata": {},
   "outputs": [
    {
     "data": {
      "text/plain": [
       "['The', 'rain', 'in', 'Spain...']"
      ]
     },
     "execution_count": 27,
     "metadata": {},
     "output_type": "execute_result"
    }
   ],
   "source": [
    "song = \"The rain in Spain...\"\r\n",
    "wds = song.split()\r\n",
    "wds\r\n"
   ]
  },
  {
   "cell_type": "markdown",
   "metadata": {},
   "source": [
    "An optional argument called a **delimiter** can be used to specify which string to use as the boundary marker between substrings. The following example uses the string ai as the delimiter:"
   ]
  },
  {
   "cell_type": "code",
   "execution_count": 28,
   "metadata": {},
   "outputs": [
    {
     "data": {
      "text/plain": [
       "['The r', 'n in Sp', 'n...']"
      ]
     },
     "execution_count": 28,
     "metadata": {},
     "output_type": "execute_result"
    }
   ],
   "source": [
    "song.split(\"ai\")"
   ]
  },
  {
   "cell_type": "markdown",
   "metadata": {},
   "source": [
    "Notice that the delimiter doesn’t appear in the result.\r\n",
    "\r\n",
    "The inverse of the split method is join. You choose a desired **separator** string, (often called the glue) and join the list with the glue between each of the elements:"
   ]
  },
  {
   "cell_type": "code",
   "execution_count": 30,
   "metadata": {},
   "outputs": [
    {
     "data": {
      "text/plain": [
       "'The;rain;in;Spain...'"
      ]
     },
     "execution_count": 30,
     "metadata": {},
     "output_type": "execute_result"
    }
   ],
   "source": [
    "glue = \";\"\r\n",
    "s = glue.join(wds)\r\n",
    "s"
   ]
  },
  {
   "cell_type": "markdown",
   "metadata": {},
   "source": [
    "The list that you glue together (wds in this example) is not modified. Also, you can use empty glue or multi-character strings as glue."
   ]
  },
  {
   "cell_type": "markdown",
   "metadata": {},
   "source": [
    "## 18 - <font color=red>list</font> and <font color=red>range</font>\r\n",
    "\r\n",
    "Python has a built-in type conversion function called list that tries to turn whatever you give it into a list."
   ]
  },
  {
   "cell_type": "code",
   "execution_count": 32,
   "metadata": {},
   "outputs": [
    {
     "name": "stdout",
     "output_type": "stream",
     "text": [
      "['C', 'r', 'u', 'c', 'h', 'y', ' ', 'F', 'r', 'o', 'g'] Cruchy Frog\n"
     ]
    }
   ],
   "source": [
    "xs = list(\"Cruchy Frog\")\r\n",
    "print(xs, \"\".join(xs))"
   ]
  },
  {
   "cell_type": "markdown",
   "metadata": {},
   "source": [
    "One particular feature of range is that it doesn’t instantly compute all its values: it “puts off” the computation, and does it on demand, or “lazily”. We’ll say that it gives a **promise** to produce the values when they are needed. This is very convenient if your computation short-circuits a search and returns early, as in this case:"
   ]
  },
  {
   "cell_type": "code",
   "execution_count": 1,
   "metadata": {},
   "outputs": [
    {
     "data": {
      "text/plain": [
       "True"
      ]
     },
     "execution_count": 1,
     "metadata": {},
     "output_type": "execute_result"
    }
   ],
   "source": [
    "def f(n):\r\n",
    "    \"\"\" Find the first positive integer between 101 and less \r\n",
    "        than n that is divisible by 21 \r\n",
    "    \"\"\"\r\n",
    "    for i in range(101, n):\r\n",
    "       if (i % 21 == 0):\r\n",
    "           return i\r\n",
    "\r\n",
    "f(110) == 105"
   ]
  },
  {
   "cell_type": "markdown",
   "metadata": {},
   "source": [
    "In the second test, if range were to eagerly go about building a list with all those elements, you would soon exhaust your computer’s available memory and crash the program. But it is cleverer than that! This computation works just fine, because the range object is just a promise to produce the elements if and when they are needed. Once the condition in the if becomes true, no further elements are generated, and the function returns. (Note: Before Python 3, range was not lazy. If you use an earlier versions of Python, YMMV!)\r\n",
    "\r\n",
    "YMMV: Your Mileage May Vary\r\n",
    "\r\n",
    "The acronym YMMV stands for your mileage may vary. American car advertisements often quoted fuel consumption figures for cars, e.g. that they would get 28 miles per gallon. But this always had to be accompanied by legal small-print warning the reader that they might not get the same. The term YMMV is now used idiomatically to mean “your results may differ”, e.g. The battery life on this phone is 3 days, but YMMV.\r\n",
    "\r\n",
    "You’ll sometimes find the lazy range wrapped in a call to list. This forces Python to turn the lazy promise into an actual list:"
   ]
  },
  {
   "cell_type": "code",
   "execution_count": null,
   "metadata": {},
   "outputs": [],
   "source": [
    "list(range(10))"
   ]
  },
  {
   "cell_type": "markdown",
   "metadata": {},
   "source": [
    "## 19 - Nested list\r\n",
    "\r\n",
    "A nested list is a list that appears as an element in another list. In this list, the element with index 3 is a nested list:"
   ]
  },
  {
   "cell_type": "code",
   "execution_count": 2,
   "metadata": {},
   "outputs": [],
   "source": [
    "nested = [\"hello\", 2.0, 5, [10, 20]]"
   ]
  },
  {
   "cell_type": "markdown",
   "metadata": {},
   "source": [
    "If we output the element at index 3, we get:\r\n"
   ]
  },
  {
   "cell_type": "code",
   "execution_count": 3,
   "metadata": {},
   "outputs": [
    {
     "name": "stdout",
     "output_type": "stream",
     "text": [
      "[10, 20]\n"
     ]
    }
   ],
   "source": [
    "print(nested[3])"
   ]
  },
  {
   "cell_type": "markdown",
   "metadata": {},
   "source": [
    "To extract an element from the nested list, we can proceed in two steps:"
   ]
  },
  {
   "cell_type": "code",
   "execution_count": 4,
   "metadata": {},
   "outputs": [
    {
     "data": {
      "text/plain": [
       "10"
      ]
     },
     "execution_count": 4,
     "metadata": {},
     "output_type": "execute_result"
    }
   ],
   "source": [
    "elem = nested[3]\r\n",
    "elem[0]"
   ]
  },
  {
   "cell_type": "markdown",
   "metadata": {},
   "source": [
    "Or we can combine them:"
   ]
  },
  {
   "cell_type": "code",
   "execution_count": 5,
   "metadata": {},
   "outputs": [
    {
     "data": {
      "text/plain": [
       "20"
      ]
     },
     "execution_count": 5,
     "metadata": {},
     "output_type": "execute_result"
    }
   ],
   "source": [
    "nested[3][1]"
   ]
  },
  {
   "cell_type": "markdown",
   "metadata": {},
   "source": [
    "Bracket operators evaluate from left to right, so this expression gets the 3’th element of nested and extracts the 1’th element from it.\r\n",
    "\r\n",
    "## 20 - Matrices\r\n",
    "\r\n",
    "Nested lists are often used to represent matrices. For example the matrix\r\n",
    "\r\n",
    "<image src=\"Images/list matrix.png\" width=\"100\">"
   ]
  },
  {
   "cell_type": "markdown",
   "metadata": {},
   "source": [
    "can be represented as:"
   ]
  },
  {
   "cell_type": "code",
   "execution_count": 7,
   "metadata": {},
   "outputs": [],
   "source": [
    "mx = [[1, 2, 3], [4, 5, 6], [7, 8, 9]]"
   ]
  },
  {
   "cell_type": "markdown",
   "metadata": {},
   "source": [
    "*mx* is a list with three elements, where each element is a row of the matrix. We can select an entire row from the matrix in the usual way:"
   ]
  },
  {
   "cell_type": "code",
   "execution_count": 8,
   "metadata": {},
   "outputs": [
    {
     "data": {
      "text/plain": [
       "[4, 5, 6]"
      ]
     },
     "execution_count": 8,
     "metadata": {},
     "output_type": "execute_result"
    }
   ],
   "source": [
    "mx[1]"
   ]
  },
  {
   "cell_type": "markdown",
   "metadata": {},
   "source": [
    "Or we can extract a single element from the matrix using the double-index form:"
   ]
  },
  {
   "cell_type": "code",
   "execution_count": 9,
   "metadata": {},
   "outputs": [
    {
     "data": {
      "text/plain": [
       "4"
      ]
     },
     "execution_count": 9,
     "metadata": {},
     "output_type": "execute_result"
    }
   ],
   "source": [
    "mx[1][0]"
   ]
  },
  {
   "cell_type": "markdown",
   "metadata": {},
   "source": [
    "The first index selects the row, and the second index selects the column. Although this way of representing matrices is common, it is not the only possibility. A small variation is to use a list of columns instead of a list of rows. Later we will see a more radical alternative using a dictionary.\r\n",
    "\r\n",
    "## 21 - Glossary\r\n",
    "\r\n",
    "**aliases** Multiple variables that contain references to the same object.\r\n",
    "\r\n",
    "**clone** To create a new object that has the same value as an existing object. Copying a reference to an object creates an alias but doesn’t clone the object.\r\n",
    "\r\n",
    "**delimiter** A character or string used to indicate where a string should be split.\r\n",
    "\r\n",
    "**element** One of the values in a list (or other sequence). The bracket operator selects elements of a list. Also called item.\r\n",
    "\r\n",
    "**immutable data value** A data value which cannot be modified. Assignments to elements or slices (sub-parts) of immutable values cause a runtime error.\r\n",
    "\r\n",
    "**index** An integer value that indicates the position of an item in a list. Indexes start from 0.\r\n",
    "\r\n",
    "**item** See element.\r\n",
    "\r\n",
    "**list** A collection of values, each in a fixed position within the list. Like other types str, int, float, etc. there is also a list type-converter function that tries to turn whatever argument you give it into a list.\r\n",
    "\r\n",
    "**list traversal** The sequential accessing of each element in a list.\r\n",
    "\r\n",
    "**modifier** A function which changes its arguments inside the function body. Only mutable types can be changed by modifiers.\r\n",
    "\r\n",
    "**mutable data value** A data value which can be modified. The types of all mutable values are compound types. Lists and dictionaries are mutable; strings and tuples are not.\r\n",
    "\r\n",
    "**nested list** A list that is an element of another list.\r\n",
    "\r\n",
    "**object** A thing to which a variable can refer.\r\n",
    "\r\n",
    "**pattern** A sequence of statements, or a style of coding something that has general applicability in a number of different situations. Part of becoming a mature Computer Scientist is to learn and establish the patterns and algorithms that form your toolkit. Patterns often correspond to your “mental chunking”.\r\n",
    "\r\n",
    "**promise** An object that promises to do some work or deliver some values if they’re eventually needed, but it lazily puts off doing the work immediately. Calling range produces a promise.\r\n",
    "\r\n",
    "**pure function** A function which has no side effects. Pure functions only make changes to the calling program through their return values.\r\n",
    "\r\n",
    "**sequence** Any of the data types that consist of an ordered collection of elements, with each element identified by an index.\r\n",
    "\r\n",
    "**side effect** A change in the state of a program made by calling a function. Side effects can only be produced by modifiers.\r\n",
    "\r\n",
    "**step size** The interval between successive elements of a linear sequence. The third (and optional argument) to the range function is called the step size. If not specified, it defaults to 1."
   ]
  },
  {
   "cell_type": "markdown",
   "metadata": {},
   "source": [
    "All references at https://learnpythontherightway.com/chapter/chapter-11.html"
   ]
  }
 ],
 "metadata": {
  "interpreter": {
   "hash": "af08a664c9379a2eef6a59a35895b3c7b95bf968efc61f7032ca2d38064b34f9"
  },
  "kernelspec": {
   "display_name": "Python 3.9.5 64-bit",
   "name": "python3"
  },
  "language_info": {
   "name": "python",
   "version": ""
  },
  "orig_nbformat": 4
 },
 "nbformat": 4,
 "nbformat_minor": 2
}