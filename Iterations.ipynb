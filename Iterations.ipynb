{
 "cells": [
  {
   "cell_type": "markdown",
   "metadata": {},
   "source": [
    "Computers are often used to automate repetitive tasks. Repeating identical or similar tasks without making errors is something that computers do well and people do poorly.\r\n",
    "\r\n",
    "Repeated execution of a set of statements is called iteration. Because iteration is so common, Python provides several language features to make it easier. You may already seen the for statement. This the the form of iteration you’ll likely be using most often. But in this chapter we’ve going to look at the while statement — another way to have your program do iteration, useful in slightly different circumstances.\r\n",
    "\r\n",
    "Before we do that, let’s just review a few ideas…"
   ]
  },
  {
   "cell_type": "markdown",
   "metadata": {},
   "source": [
    "## Assignment\r\n",
    "As we have mentioned previously, it is legal to make more than one assignment to the same variable. A new assignment makes an existing variable refer to a new value (and stop referring to the old value). We can see it in this program:"
   ]
  },
  {
   "cell_type": "code",
   "execution_count": 1,
   "metadata": {},
   "outputs": [
    {
     "name": "stdout",
     "output_type": "stream",
     "text": [
      "15\n",
      "7\n"
     ]
    }
   ],
   "source": [
    "airtime_remaining = 15\r\n",
    "print(airtime_remaining)\r\n",
    "airtime_remaining = 7\r\n",
    "print(airtime_remaining)"
   ]
  },
  {
   "cell_type": "markdown",
   "metadata": {},
   "source": [
    "because the first time airtime_remaining is printed, its value is 15, and the second time, its value is 7.\r\n",
    "\r\n",
    "It is especially important to distinguish between an assignment statement and a Boolean expression that tests for equality. Because Python uses the equal token (=) for assignment, it is tempting to interpret a statement like a = b as a Boolean test. Unlike mathematics, it is not! Remember that the Python token for the equality operator is ==.\r\n",
    "\r\n",
    "Note too that an equality test is symmetric, but assignment is not. For example, if a == 7 then 7 == a. But in Python, the statement a = 7 is legal and 7 = a is not.\r\n",
    "\r\n",
    "In Python, an assignment statement can make two variables equal, but because further assignments can change either of them, they don’t have to stay that way:"
   ]
  },
  {
   "cell_type": "code",
   "execution_count": 2,
   "metadata": {},
   "outputs": [],
   "source": [
    "a = 5\r\n",
    "b = a\r\n",
    "a = 3"
   ]
  },
  {
   "cell_type": "markdown",
   "metadata": {},
   "source": [
    "The third line changes the value of a but does not change the value of b, so they are no longer equal. (In some programming languages, a different symbol is used for assignment, such as <- or :=, to avoid confusion. Some people also think that variable was an unfortunate word to choose, and instead we should have called them assignables. Python chooses to follow common terminology and token usage, also found in languages like C, C++, Java, and C#, so we use the tokens = for assignment, == for equality, and we talk of variables."
   ]
  },
  {
   "cell_type": "markdown",
   "metadata": {},
   "source": [
    "## 2 - Updating variables\r\n",
    "\r\n",
    "When an assignment statement is executed, the right-hand side expression (i.e. the expression that comes after the assignment token) is evaluated first. This produces a value. Then the assignment is made, so that the variable on the left-hand side now refers to the new value.\r\n",
    "\r\n",
    "One of the most common forms of assignment is an update, where the new value of the variable depends on its old value. Deduct 40 cents from my airtime balance, or add one run to the scoreboard."
   ]
  },
  {
   "cell_type": "code",
   "execution_count": 3,
   "metadata": {},
   "outputs": [],
   "source": [
    "n = 5\r\n",
    "n = 3*n + 1"
   ]
  },
  {
   "cell_type": "markdown",
   "metadata": {},
   "source": [
    "Line 2 means get the current value of n, multiply it by three and add one, and assign the answer to n, thus making n refer to the value. So after executing the two lines above, n will point/refer to the integer 16.\r\n",
    "\r\n",
    "If you try to get the value of a variable that has never been assigned to, you’ll get an error:"
   ]
  },
  {
   "cell_type": "code",
   "execution_count": 4,
   "metadata": {},
   "outputs": [
    {
     "ename": "NameError",
     "evalue": "name 'x' is not defined",
     "output_type": "error",
     "traceback": [
      "\u001b[1;31m---------------------------------------------------------------------------\u001b[0m",
      "\u001b[1;31mNameError\u001b[0m                                 Traceback (most recent call last)",
      "\u001b[1;32m<ipython-input-4-bc7b3fc02d0c>\u001b[0m in \u001b[0;36m<module>\u001b[1;34m\u001b[0m\n\u001b[1;32m----> 1\u001b[1;33m \u001b[0mw\u001b[0m \u001b[1;33m=\u001b[0m \u001b[0mx\u001b[0m \u001b[1;33m+\u001b[0m \u001b[1;36m1\u001b[0m\u001b[1;33m\u001b[0m\u001b[1;33m\u001b[0m\u001b[0m\n\u001b[0m",
      "\u001b[1;31mNameError\u001b[0m: name 'x' is not defined"
     ]
    }
   ],
   "source": [
    "w = x + 1"
   ]
  },
  {
   "cell_type": "markdown",
   "metadata": {},
   "source": [
    "Before you can update a variable, you have to initialize it to some starting value, usually with a simple assignment:"
   ]
  },
  {
   "cell_type": "code",
   "execution_count": 5,
   "metadata": {},
   "outputs": [],
   "source": [
    "runs_scored = 0\r\n",
    "...\r\n",
    "runs_scored = runs_scored + 1"
   ]
  },
  {
   "cell_type": "markdown",
   "metadata": {},
   "source": [
    "Line 3 — updating a variable by adding 1 to it — is very common. It is called an increment of the variable; subtracting 1 is called a decrement. Sometimes programmers also talk about bumping a variable, which means the same as incrementing it by 1."
   ]
  },
  {
   "cell_type": "markdown",
   "metadata": {},
   "source": [
    "## 3 - The <span style=\"color:red\">for</span> loop revisited\r\n",
    "\r\n",
    "Recall that the for loop processes each item in a list. Each item in turn is (re-)assigned to the loop variable, and the body of the loop is executed. Let's see this example:"
   ]
  },
  {
   "cell_type": "code",
   "execution_count": 6,
   "metadata": {},
   "outputs": [
    {
     "name": "stdout",
     "output_type": "stream",
     "text": [
      "Hi Joe.  Please come to my party on Saturday!\n",
      "Hi Zoe.  Please come to my party on Saturday!\n",
      "Hi Brad.  Please come to my party on Saturday!\n",
      "Hi Angelina.  Please come to my party on Saturday!\n",
      "Hi Zuki.  Please come to my party on Saturday!\n",
      "Hi Thandi.  Please come to my party on Saturday!\n",
      "Hi Paris.  Please come to my party on Saturday!\n"
     ]
    }
   ],
   "source": [
    "for f in [\"Joe\", \"Zoe\", \"Brad\", \"Angelina\", \"Zuki\", \"Thandi\", \"Paris\"]:\r\n",
    "    invitation = \"Hi \" + f + \".  Please come to my party on Saturday!\"\r\n",
    "    print(invitation)"
   ]
  },
  {
   "cell_type": "markdown",
   "metadata": {},
   "source": [
    "Running through all the items in a list is called traversing the list, or traversal.\r\n",
    "\r\n",
    "Let us write a function now to sum up all the elements in a list of numbers. Do this by hand first, and try to isolate exactly what steps you take. You’ll find you need to keep some “running total” of the sum so far, either on a piece of paper, in your head, or in your calculator. Remembering things from one step to the next is precisely why we have variables in a program: so we’ll need some variable to remember the “running total”. It should be initialized with a value of zero, and then we need to traverse the items in the list. For each item, we’ll want to update the running total by adding the next number to it."
   ]
  },
  {
   "cell_type": "code",
   "execution_count": 8,
   "metadata": {},
   "outputs": [
    {
     "data": {
      "text/plain": [
       "True"
      ]
     },
     "execution_count": 8,
     "metadata": {},
     "output_type": "execute_result"
    }
   ],
   "source": [
    "def my_sum(xs):\r\n",
    "    \"\"\"Sum all the numbers in the list xs and return total.\"\"\"\r\n",
    "    total = 0\r\n",
    "    for el in xs:\r\n",
    "        total = total + el\r\n",
    "    return total\r\n",
    "\r\n",
    "# Add tests like these:\r\n",
    "my_sum([1,2,3,4])== 10"
   ]
  },
  {
   "cell_type": "markdown",
   "metadata": {},
   "source": [
    "## 4 - The <span style=\"color:red\">while</span> statement\r\n",
    "\r\n",
    "Here is a fragment of code that demonstrates the use of the while statement:"
   ]
  },
  {
   "cell_type": "code",
   "execution_count": 14,
   "metadata": {},
   "outputs": [
    {
     "data": {
      "text/plain": [
       "True"
      ]
     },
     "execution_count": 14,
     "metadata": {},
     "output_type": "execute_result"
    }
   ],
   "source": [
    "def sum_to(n):\r\n",
    "    \"\"\"Return the sum of 1+2+3+...+n\"\"\"\r\n",
    "    sum = 0\r\n",
    "    i = 1\r\n",
    "\r\n",
    "    while i <= n:\r\n",
    "        sum = sum + i\r\n",
    "        i = i + 1\r\n",
    "    return sum\r\n",
    "\r\n",
    "#test:\r\n",
    "sum_to(5) == 15\r\n"
   ]
  },
  {
   "cell_type": "markdown",
   "metadata": {},
   "source": [
    "You can almost read the <font color=red>while</font> statement as if it were English. It means, while v is less than or equal to n, continue executing the body of the loop. Within the body, each time, increment v. When v passes n, return your accumulated sum.\r\n",
    "\r\n",
    "More formally, here is precise flow of execution for a <font color=red>while</font> statement:\r\n",
    "\r\n",
    "- Evaluate the condition at line 5, yielding a value which is either False or True.\r\n",
    "\r\n",
    "- If the value is False, exit the while statement and continue execution at the next statement (line 8 in this case).\r\n",
    "\r\n",
    "- If the value is True, execute each of the statements in the body (lines 6 and 7) and then go back to the <font color=red>while</font> statement at line 5.\r\n",
    "\r\n",
    "The body consists of all of the statements indented below the while keyword.\r\n",
    "\r\n",
    "Notice that if the loop condition is False the first time we get loop, the statements in the body of the loop are never executed.\r\n",
    "\r\n",
    "The body of the loop should change the value of one or more variables so that eventually the condition becomes false and the loop terminates. Otherwise the loop will repeat forever, which is called an infinite loop. An endless source of amusement for computer scientists is the observation that the directions on shampoo, “lather, rinse, repeat”, are an infinite loop.\r\n",
    "\r\n",
    "In the case here, we can prove that the loop terminates because we know that the value of <font color=red>n</font> is finite, and we can see that the value of <font color=red>v</font> increments each time through the loop, so eventually it will have to exceed <font color=red>n</font>. In other cases, it is not so easy, even impossible in some cases, to tell if the loop will ever terminate.\r\n",
    "\r\n",
    "What you will notice here is that the <font color=red>while</font> loop is more work for you — the programmer — than the equivalent <font color=red>for</font> loop. When using a <font color=red>while</font> loop one has to manage the loop variable yourself: give it an initial value, test for completion, and then make sure you change something in the body so that the loop terminates. By comparison, here is an equivalent function that uses <font color=red>for</font> instead:"
   ]
  },
  {
   "cell_type": "code",
   "execution_count": 15,
   "metadata": {},
   "outputs": [
    {
     "data": {
      "text/plain": [
       "True"
      ]
     },
     "execution_count": 15,
     "metadata": {},
     "output_type": "execute_result"
    }
   ],
   "source": [
    "def sum_to(n):\r\n",
    "    \"\"\"Return the sum of 1+2+3+...+n\"\"\"\r\n",
    "    sum = 0\r\n",
    "\r\n",
    "    for i in range(n+1):\r\n",
    "        sum = sum + i\r\n",
    "    return sum\r\n",
    "\r\n",
    "sum_to(5) == 15\r\n",
    "\r\n"
   ]
  },
  {
   "cell_type": "markdown",
   "metadata": {},
   "source": [
    "Notice the slightly tricky call to the <font color=red>range</font> function — we had to add one onto <font color=red>n</font>, because <font color=red>range</font> generates its list up to but excluding the value you give it. It would be easy to make a programming mistake and overlook this, but because we’ve made the investment of writing some unit tests, our test suite would have caught our error.\r\n",
    "\r\n",
    "So why have two kinds of loop if for looks easier? This next example shows a case where we need the extra power that we get from the while loop.\r\n",
    "\r\n",
    "So why have two kinds of loop if <font color=red>for</font> looks easier? This next example shows a case where we need the extra power that we get from the <font color=red>while</font> loop."
   ]
  },
  {
   "cell_type": "markdown",
   "metadata": {},
   "source": [
    "## 5 - The Collatz 3n + 1 sequence\r\n",
    "\r\n",
    "Let’s look at a simple sequence that has fascinated and foxed mathematicians for many years. They still cannot answer even quite simple questions about this.\r\n",
    "\r\n",
    "The “computational rule” for creating the sequence is to start from some given n, and to generate the next term of the sequence from n, either by halving n, (whenever n is even), or else by multiplying it by three and adding 1. The sequence terminates when n reaches 1.\r\n",
    "\r\n",
    "This Python function captures that algorithm:"
   ]
  },
  {
   "cell_type": "code",
   "execution_count": 17,
   "metadata": {},
   "outputs": [],
   "source": [
    "def seq3np1(n):\r\n",
    "    \"\"\" Print the 3n+1 sequence from n,\r\n",
    "        terminating when it reaches 1.\r\n",
    "    \"\"\"\r\n",
    "    while n != 1:\r\n",
    "        print(n, end=\", \")\r\n",
    "        if n % 2 == 0:        # n is even\r\n",
    "            n = n // 2\r\n",
    "        else:                 # n is odd\r\n",
    "            n = n * 3 + 1\r\n",
    "    print(n, end=\".\\n\")"
   ]
  },
  {
   "cell_type": "markdown",
   "metadata": {},
   "source": [
    "Notice first that the <font color=red>print</font> function on line 6 has an extra argument <font color=red>end=\",\"</font>. This tells the <font color=red>print</font> function to follow the printed string with whatever the programmer chooses (in this case, a comma followed by a space), instead of ending the line. So each time something is printed in the loop, it is printed on the same output line, with the numbers separated by commas. The call to <font color=red>print(n, end=\", \")</font> at line 11 after the loop terminates will then print the final value of <font color=red>n</font> followed by a period and a newline character. (You’ll cover the <font color=red>\\n</font> (newline character) in the next chapter).\r\n",
    "\r\n",
    "The condition for continuing with this loop is <font color=red>n != 1</font>, so the loop will continue running until it reaches its termination condition, (i.e. <font color=red>n == 1</font>).\r\n",
    "\r\n",
    "Each time through the loop, the program outputs the value of <font color=red>n</font> and then checks whether it is even or odd. If it is even, the value of <font color=red>n</font> is divided by <font color=red>2</font> using integer division. If it is odd, the value is replaced by <font color=red>n = n * 3 + 1</font>. Here are some examples:"
   ]
  },
  {
   "cell_type": "code",
   "execution_count": 18,
   "metadata": {},
   "outputs": [
    {
     "name": "stdout",
     "output_type": "stream",
     "text": [
      "3, 10, 5, 16, 8, 4, 2, 1.\n"
     ]
    }
   ],
   "source": [
    "seq3np1(3)"
   ]
  },
  {
   "cell_type": "markdown",
   "metadata": {},
   "source": [
    "Since <font color=red>n</font> sometimes increases and sometimes decreases, there is no obvious proof that <font color=red>n</font> will ever reach 1<font color=red>1</font>, or that the program terminates. For some particular values of <font color=red>n</font>, we can prove termination. For example, if the starting value is a power of two, then the value of <font color=red>n</font> will be even each time through the loop until it reaches 1. The previous example ends with such a sequence, starting with <font color=red>16</font>.\r\n",
    "\r\n",
    "See if you can find a small starting number that needs more than a hundred steps before it terminates.\r\n",
    "\r\n",
    "Particular values aside, the interesting question was first posed by a German mathematician called Lothar Collatz: the *Collatz conjecture* (also known as the *3n + 1 conjecture*), is that this sequence terminates for all positive values of <font color=red>n</font>. So far, no one has been able to prove it or disprove it! (A conjecture is a statement that might be true, but nobody knows for sure.)\r\n",
    "\r\n",
    "Think carefully about what would be needed for a proof or disproof of the conjecture “All positive integers will eventually converge to <font color=red>1</font> using the Collatz rules”. With fast computers we have been able to test every integer up to very large values, and so far, they have all eventually ended up at <font color=red>1</font>. But who knows? Perhaps there is some as-yet untested number which does not reduce to <font color=red>1</font>.\r\n",
    "\r\n",
    "You’ll notice that if you don’t stop when you reach 1, the sequence gets into its own cyclic loop: 1, 4, 2, 1, 4, 2, 1, 4 … So one possibility is that there might be other cycles that we just haven’t found yet.\r\n",
    "\r\n",
    "Wikipedia has an informative article about the Collatz conjecture. The sequence also goes under other names (Hailstone sequence, Wonderous numbers, etc.), and you’ll find out just how many integers have already been tested by computer, and found to converge!\r\n",
    "\r\n",
    "**Choosing between for and while**\r\n",
    "\r\n",
    "Use a <font color=red>for</font> loop if you know, before you start looping, the maximum number of times that you’ll need to execute the body. For example, if you’re traversing a list of elements, you know that the maximum number of loop iterations you can possibly need is “all the elements in the list”. Or if you need to print the 12 times table, we know right away how many times the loop will need to run.\r\n",
    "\r\n",
    "So any problem like “iterate this weather model for 1000 cycles”, or “search this list of words”, “find all prime numbers up to 10000” suggest that a <font color=red>for</font> loop is best.\r\n",
    "\r\n",
    "By contrast, if you are required to repeat some computation until some condition is met, and you cannot calculate in advance when (or if) this will happen, as we did in this 3n + 1 problem, you’ll need a <font color=red>while</font> loop.\r\n",
    "\r\n",
    "We call the first case **definite iteration** — we know ahead of time some definite bounds for what is needed. The latter case is called **indefinite iteration** — we’re not sure how many iterations we’ll need — we cannot even establish an upper bound!"
   ]
  },
  {
   "cell_type": "markdown",
   "metadata": {},
   "source": [
    "## 6 - Tracing a program\r\n",
    "\r\n",
    "To write effective computer programs, and to build a good conceptual model of program execution, a programmer needs to develop the ability to **trace** the execution of a computer program. Tracing involves becoming the computer and following the flow of execution through a sample program run, recording the state of all variables and any output the program generates after each instruction is executed.\r\n",
    "\r\n",
    "To understand this process, let’s trace the call to <font color=red>seq3np1(3)</font> from the previous section. At the start of the trace, we have a variable, n (the parameter), with an initial value of 3. Since 3 is not equal to 1, the while loop body is executed. 3 is printed and 3 % 2 == 0 is evaluated. Since it evaluates to False, the else branch is executed and 3 * 3 + 1 is evaluated and assigned to n.\r\n",
    "\r\n",
    "To keep track of all this as you hand trace a program, make a column heading on a piece of paper for each variable created as the program runs and another one for output.\r\n",
    "\r\n",
    "Tracing can be a bit tedious and error prone (that’s why we get computers to do this stuff in the first place!), but it is an essential skill for a programmer to have. From this trace we can learn a lot about the way our code works. We can observe that as soon as <font color=red>n</font> becomes a power of <font color=red>2</font>, for example, the program will require <font color=red>log2(n)</font> executions of the loop body to complete. We can also see that the final <font color=red>1</font> will not be printed as output within the body of the loop, which is why we put the special <font color=red>print</font> function at the end.\r\n",
    "\r\n",
    "Tracing a program is, of course, related to single-stepping through your code and being able to inspect the variables. Using the computer to **single-step** for you is less error prone and more convenient. Also, as your programs get more complex, they might execute many millions of steps before they get to the code that you’re really interested in, so manual tracing becomes impossible. Being able to set a **breakpoint** where you need one is far more powerful. So we strongly encourage you to invest time in learning using to use your programming environment to full effect.\r\n",
    "\r\n",
    "There are also some great visualization tools becoming available to help you trace and understand small fragments of Python code.\r\n",
    "\r\n",
    "We’ve cautioned against chatterbox functions, but used them here. As we learn a bit more Python, we’ll be able to show you how to generate a list of values to hold the sequence, rather than having the function print them. Doing this would remove the need to have all these pesky print functions in the middle of our logic, and will make the function more useful.\r\n"
   ]
  },
  {
   "cell_type": "markdown",
   "metadata": {},
   "source": [
    "## 7 - Counting digits\r\n",
    "\r\n",
    "The following function counts the number of decimal digits in a positive integer:\r\n"
   ]
  },
  {
   "cell_type": "code",
   "execution_count": 20,
   "metadata": {},
   "outputs": [],
   "source": [
    "def num_digits(n):\r\n",
    "    count = 0\r\n",
    "    while n != 0:\r\n",
    "        count = count + 1\r\n",
    "        n = n // 10\r\n",
    "    return count"
   ]
  },
  {
   "cell_type": "markdown",
   "metadata": {},
   "source": [
    "A call to <font color=red>print(num_digits(710))</font> will print <font color=red>3</font>. Trace the execution of this function call (perhaps using the single step function in PyScripter, or the Python visualizer, or on some paper) to convince yourself that it works.\r\n",
    "\r\n",
    "This function demonstrates an important pattern of computation called a **counter**. The variable <font color=red>count</font> is initialized to 0 and then incremented each time the loop body is executed. When the loop exits, count contains the result — the total number of times the loop body was executed, which is the same as the number of digits.\r\n",
    "\r\n",
    "If we wanted to only count digits that are either 0 or 5, adding a conditional before incrementing the counter will do the trick:"
   ]
  },
  {
   "cell_type": "code",
   "execution_count": 28,
   "metadata": {},
   "outputs": [],
   "source": [
    "def num_zero_and_five_digits(n):\r\n",
    "    count = 0\r\n",
    "    while n > 0:\r\n",
    "        digit = n % 10\r\n",
    "        if digit == 0 or digit == 5:\r\n",
    "            count = count + 1\r\n",
    "        n = n // 10\r\n",
    "    return count"
   ]
  },
  {
   "cell_type": "markdown",
   "metadata": {},
   "source": [
    "Confirm that <font color=red>test(num_zero_and_five_digits(1055030250)</font> == 7) passes.\r\n",
    "\r\n",
    "Notice, however, that <font color=red>test(num_digits(0) == 1)</font> fails. Explain why. Do you think this is a bug in the code, or a bug in the specifications, or our expectations, or the tests?"
   ]
  },
  {
   "cell_type": "markdown",
   "metadata": {},
   "source": [
    "## 8 - Abbreviated assignment \r\n",
    "\r\n",
    "Incrementing a variable is so common that Python provides an abbreviated syntax for it:"
   ]
  },
  {
   "cell_type": "code",
   "execution_count": 32,
   "metadata": {},
   "outputs": [
    {
     "data": {
      "text/plain": [
       "1"
      ]
     },
     "execution_count": 32,
     "metadata": {},
     "output_type": "execute_result"
    }
   ],
   "source": [
    "count = 0\r\n",
    "count += 1\r\n",
    "count"
   ]
  },
  {
   "cell_type": "markdown",
   "metadata": {},
   "source": [
    "<font color=red>count += 1</font> is an abbreviation for <font color=red>count = count + 1</font>. We pronounce the operator as “plus-equals”.\r\n",
    "There are similar abbreviations for <font color=red>-=</font>, <font color=red>*==</font>, <font color=red>/=</font>, <font color=red>//=</font> and <font color=red>%=</font>:"
   ]
  },
  {
   "cell_type": "markdown",
   "metadata": {},
   "source": [
    "## 9 - Help and meta-notation\r\n",
    "\r\n",
    "Python comes with extensive documentation for all its built-in functions, and its libraries. Different systems have different ways of accessing this help. In PyScripter, click on the Help menu item, and select Python Manuals. Then search for help on the built-in function range. You will get something like this:"
   ]
  },
  {
   "cell_type": "markdown",
   "metadata": {},
   "source": [
    "<img src=\"Images/pyscripter.png\" width=\"550\">"
   ]
  },
  {
   "cell_type": "markdown",
   "metadata": {},
   "source": [
    "Notice the square brackets in the description of the arguments. These are examples of **meta-notation** — notation that describes Python syntax, but is not part of it. The square brackets in this documentation mean that the argument is optional — the programmer can omit it. So what this first line of help tells us is that range must always have a stop argument, but it may have an optional start argument (which must be followed by a comma if it is present), and it can also have an optional step argument, preceded by a comma if it is present.\r\n",
    "\r\n",
    "The examples from help show that range can have either 1, 2 or 3 arguments. The list can start at any starting value, and go up or down in increments other than 1. The documentation here also says that the arguments must be integers.\r\n",
    "\r\n",
    "Other meta-notation you’ll frequently encounter is the use of bold and italics. The bold means that these are tokens — keywords or symbols — typed into your Python code exactly as they are, whereas the italic terms stand for “something of this type”. So the syntax description\r\n",
    "\r\n",
    "**for** variable **in** list:\r\n",
    "\r\n",
    "means you can substitute any legal variable and any legal list when you write your Python code.\r\n",
    "\r\n",
    "This (simplified) description of the print function, shows another example of meta-notation in which the ellipses (…) mean that you can have as many objects as you like (even zero), separated by commas:\r\n",
    "\r\n",
    "**print( [object, …] )**\r\n",
    "\r\n",
    "Meta-notation gives us a concise and powerful way to describe the pattern of some syntax or feature."
   ]
  },
  {
   "cell_type": "markdown",
   "metadata": {},
   "source": [
    "## 10 - Tables\r\n",
    "\r\n",
    "One of the things loops are good for is generating tables. Before computers were readily available, people had to calculate logarithms, sines and cosines, and other mathematical functions by hand. To make that easier, mathematics books contained long tables listing the values of these functions. Creating the tables was slow and boring, and they tended to be full of errors.\r\n",
    "\r\n",
    "When computers appeared on the scene, one of the initial reactions was, *“This is great! We can use the computers to generate the tables, so there will be no errors.”* That turned out to be true (mostly) but shortsighted. Soon thereafter, computers and calculators were so pervasive that the tables became obsolete.\r\n",
    "\r\n",
    "Well, almost. For some operations, computers use tables of values to get an approximate answer and then perform computations to improve the approximation. In some cases, there have been errors in the underlying tables, most famously in the table the Intel Pentium processor chip used to perform floating-point division.\r\n",
    "\r\n",
    "Although a log table is not as useful as it once was, it still makes a good example of iteration. The following program outputs a sequence of values in the left column and 2 raised to the power of that value in the right column:"
   ]
  },
  {
   "cell_type": "code",
   "execution_count": 33,
   "metadata": {},
   "outputs": [
    {
     "name": "stdout",
     "output_type": "stream",
     "text": [
      "0 \t 1\n",
      "1 \t 2\n",
      "2 \t 4\n",
      "3 \t 8\n",
      "4 \t 16\n",
      "5 \t 32\n",
      "6 \t 64\n",
      "7 \t 128\n",
      "8 \t 256\n",
      "9 \t 512\n",
      "10 \t 1024\n",
      "11 \t 2048\n",
      "12 \t 4096\n"
     ]
    }
   ],
   "source": [
    "for x in range(13):   # Generate numbers 0 to 12\r\n",
    "    print(x, \"\\t\", 2**x)"
   ]
  },
  {
   "cell_type": "markdown",
   "metadata": {},
   "source": [
    "The string <font color=red>\"\\t\"</font> represents a **tab character**. The backslash character in \"\\t\" indicates the beginning of an **escape sequence**. Escape sequences are used to represent invisible characters like tabs and newlines. The sequence <font color=red>\\n</font> represents a **newline**.\r\n",
    "\r\n",
    "An escape sequence can appear anywhere in a string; in this example, the tab escape sequence is the only thing in the string. How do you think you represent a backslash in a string?\r\n",
    "\r\n",
    "As characters and strings are displayed on the screen, an invisible marker called the cursor keeps track of where the next character will go. After a print function, the cursor normally goes to the beginning of the next line.\r\n",
    "\r\n",
    "The tab character shifts the cursor to the right until it reaches one of the tab stops. Tabs are useful for making columns of text line up, as in the output of the previous program.\r\n",
    "\r\n",
    "Because of the tab characters between the columns, the position of the second column does not depend on the number of digits in the first column."
   ]
  },
  {
   "cell_type": "markdown",
   "metadata": {},
   "source": [
    "## 11 - Two-dimensional tables\r\n",
    "\r\n",
    "A two-dimensional table is a table where you read the value at the intersection of a row and a column. A multiplication table is a good example. Let’s say you want to print a multiplication table for the values from 1 to 6.\r\n",
    "\r\n",
    "A good way to start is to write a loop that prints the multiples of 2, all on one line:"
   ]
  },
  {
   "cell_type": "code",
   "execution_count": 35,
   "metadata": {},
   "outputs": [
    {
     "name": "stdout",
     "output_type": "stream",
     "text": [
      "2   4   6   8   10   12   \n"
     ]
    }
   ],
   "source": [
    "for i in range(1, 7):\r\n",
    "    print(2 * i, end=\"   \")"
   ]
  },
  {
   "cell_type": "markdown",
   "metadata": {},
   "source": [
    "Here we’ve used the range function, but made it start its sequence at 1. As the loop executes, the value of i changes from 1 to 6. When all the elements of the range have been assigned to i, the loop terminates. Each time through the loop, it displays the value of 2 * i, followed by three spaces.\r\n",
    "\r\n",
    "Again, the extra end=\" \" argument in the print function suppresses the newline, and uses three spaces instead. After the loop completes, the call to print at line 3 finishes the current line, and starts a new line."
   ]
  },
  {
   "cell_type": "markdown",
   "metadata": {},
   "source": [
    "## 12 - Encapsulation and generalization\r\n",
    "\r\n",
    "Encapsulation is the process of wrapping a piece of code in a function, allowing you to take advantage of all the things functions are good for. You have already seen some examples of encapsulation, including <font color=red>is_divisible</font> in a previous chapter.\r\n",
    "\r\n",
    "Generalization means taking something specific, such as printing the multiples of <font color=red>2</font>, and making it more general, such as printing the multiples of any integer.\r\n",
    "\r\n",
    "This function encapsulates the previous loop and generalizes it to print multiples of n:"
   ]
  },
  {
   "cell_type": "code",
   "execution_count": 2,
   "metadata": {},
   "outputs": [],
   "source": [
    "def print_multiples(n):\r\n",
    "    for i in range(1, 7):\r\n",
    "        print(n * i, end=\"   \")\r\n",
    "    print()"
   ]
  },
  {
   "cell_type": "markdown",
   "metadata": {},
   "source": [
    "To encapsulate, all we had to do was add the first line, which declares the name of the function and the parameter list. To generalize, all we had to do was replace the value 2 with the parameter n.\r\n",
    "\r\n",
    "By now you can probably guess how to print a multiplication table — by calling print_multiples repeatedly with different arguments. In fact, we can use another loop:for i in range(1,7)"
   ]
  },
  {
   "cell_type": "code",
   "execution_count": 3,
   "metadata": {},
   "outputs": [
    {
     "name": "stdout",
     "output_type": "stream",
     "text": [
      "1   2   3   4   5   6   \n",
      "2   4   6   8   10   12   \n",
      "3   6   9   12   15   18   \n",
      "4   8   12   16   20   24   \n",
      "5   10   15   20   25   30   \n",
      "6   12   18   24   30   36   \n"
     ]
    }
   ],
   "source": [
    "for i in range(1,7):\r\n",
    "    print_multiples(i)"
   ]
  },
  {
   "cell_type": "markdown",
   "metadata": {},
   "source": [
    "Notice how similar this loop is to the one inside print_multiples. All we did was replace the print function with a function call."
   ]
  },
  {
   "cell_type": "markdown",
   "metadata": {},
   "source": [
    "## 13 - More encapsulation\r\n",
    "\r\n",
    "To demonstrate encapsulation again, let’s take the code from the last section and wrap it up in a function:"
   ]
  },
  {
   "cell_type": "code",
   "execution_count": null,
   "metadata": {},
   "outputs": [],
   "source": [
    "def print_mult_table():\r\n",
    "    for i in range(1, 7):\r\n",
    "        print_multiples(i)"
   ]
  },
  {
   "cell_type": "markdown",
   "metadata": {},
   "source": [
    "This process is a common **development plan**. We develop code by writing lines of code outside any function, or typing them in to the interpreter. When we get the code working, we extract it and wrap it up in a function.\r\n",
    "\r\n",
    "This development plan is particularly useful if you don’t know how to divide the program into functions when you start writing. This approach lets you design as you go along."
   ]
  },
  {
   "cell_type": "markdown",
   "metadata": {},
   "source": [
    "## 14 - Local variables\r\n",
    "\r\n",
    "You might be wondering how we can use the same variable, i, in both print_multiples and print_mult_table. Doesn’t it cause problems when one of the functions changes the value of the variable?\r\n",
    "\r\n",
    "The answer is no, because the i in print_multiples and the i in print_mult_table are not the same variable.\r\n",
    "\r\n",
    "Variables created inside a function definition are local; you can’t access a local variable from outside its home function. That means you are free to have multiple variables with the same name as long as they are not in the same function.\r\n",
    "\r\n",
    "Python examines all the statements in a function — if any of them assign a value to a variable, that is the clue that Python uses to make the variable a local variable.\r\n",
    "\r\n",
    "The stack diagram for this program shows that the two variables named i are not the same variable. They can refer to different values, and changing one does not affect the other."
   ]
  },
  {
   "cell_type": "markdown",
   "metadata": {},
   "source": [
    "## 15 - The break statement\r\n",
    "\r\n",
    "The *break* statement is used to immediately leave the body of its loop. The next statement to be executed is the first one after the body:"
   ]
  },
  {
   "cell_type": "code",
   "execution_count": 4,
   "metadata": {},
   "outputs": [
    {
     "name": "stdout",
     "output_type": "stream",
     "text": [
      "12\n",
      "16\n",
      "done\n"
     ]
    }
   ],
   "source": [
    "for i in [12, 16, 17, 24, 29]:\r\n",
    "    if i % 2 == 1:  # If the number is odd\r\n",
    "       break        #  ... immediately exit the loop\r\n",
    "    print(i)\r\n",
    "print(\"done\")"
   ]
  },
  {
   "cell_type": "markdown",
   "metadata": {},
   "source": [
    "**The pre-test loop — standard loop behaviour**\r\n",
    "\r\n",
    "<font color=red>for</font> and <font color=red>while</font> loops do their tests at the start, before executing any part of the body. They’re called pre-test loops, because the test happens before (pre) the body. break and return are our tools for adapting this standard behaviour."
   ]
  },
  {
   "cell_type": "markdown",
   "metadata": {},
   "source": [
    "## 16 - Other flavours of loop\r\n",
    "\r\n",
    "Sometimes we’d like to have the **middle-test** loop with the exit test in the middle of the body, rather than at the beginning or at the end. Or a **post-test** loop that puts its exit test as the last thing in the body. Other languages have different syntax and keywords for these different flavours, but Python just uses a combination of <font color=red>while</font> and <font color=red>if condition: break</font> to get the job done.\r\n",
    "\r\n",
    "A typical example is a problem where the user has to input numbers to be summed. To indicate that there are no more inputs, the user enters a special value, often the value <font color=red>-1</font>, or the empty string. This needs a middle-exit loop pattern: input the next number, then test whether to exit, or else process the number:"
   ]
  },
  {
   "cell_type": "code",
   "execution_count": null,
   "metadata": {},
   "outputs": [],
   "source": [
    "total = 0\r\n",
    "while True:\r\n",
    "    response = input(\"Enter the next number. (Leave blank to end)\")\r\n",
    "    if response == \"\":\r\n",
    "        break\r\n",
    "    total += int(response)\r\n",
    "print(\"The total of numbers you entered is \",total)"
   ]
  },
  {
   "cell_type": "markdown",
   "metadata": {},
   "source": [
    "The <font color=red>while bool-expr:</font> uses the Boolean expression to determine whether to iterate again. True is a trivial Boolean expression, so while True: means always do the loop body again. This is a language idiom — a convention that most programmers will recognize immediately. Since the expression on line 2 will never terminate the loop, (it is a dummy test) the programmer must arrange to break (or return) out of the loop body elsewhere, in some other way (i.e. in lines 4 and 5 in this sample). A clever compiler or interpreter will understand that line 2 is a fake test that must always succeed, so it won’t even generate a test, and our flowchart never even put the diamond-shape dummy test box at the top of the loop!\r\n",
    "\r\n",
    "Similarly, by just moving the <font color=red>if condition: break</font> to the end of the loop body we create a pattern for a post-test loop. Post-test loops are used when you want to be sure that the loop body always executes at least once (because the first test only happens at the end of the execution of the first loop body). This is useful, for example, if we want to play an interactive game against the user — we always want to play at least one game:"
   ]
  },
  {
   "cell_type": "code",
   "execution_count": 1,
   "metadata": {},
   "outputs": [
    {
     "ename": "NameError",
     "evalue": "name 'play_the_game_once' is not defined",
     "output_type": "error",
     "traceback": [
      "\u001b[1;31m---------------------------------------------------------------------------\u001b[0m",
      "\u001b[1;31mNameError\u001b[0m                                 Traceback (most recent call last)",
      "\u001b[1;32m<ipython-input-1-faa527420480>\u001b[0m in \u001b[0;36m<module>\u001b[1;34m\u001b[0m\n\u001b[0;32m      1\u001b[0m \u001b[1;32mwhile\u001b[0m \u001b[1;32mTrue\u001b[0m\u001b[1;33m:\u001b[0m\u001b[1;33m\u001b[0m\u001b[1;33m\u001b[0m\u001b[0m\n\u001b[1;32m----> 2\u001b[1;33m     \u001b[0mplay_the_game_once\u001b[0m\u001b[1;33m(\u001b[0m\u001b[1;33m)\u001b[0m\u001b[1;33m\u001b[0m\u001b[1;33m\u001b[0m\u001b[0m\n\u001b[0m\u001b[0;32m      3\u001b[0m     \u001b[0mresponse\u001b[0m \u001b[1;33m=\u001b[0m \u001b[0minput\u001b[0m\u001b[1;33m(\u001b[0m\u001b[1;34m\"Play again? (yes or no)\"\u001b[0m\u001b[1;33m)\u001b[0m\u001b[1;33m\u001b[0m\u001b[1;33m\u001b[0m\u001b[0m\n\u001b[0;32m      4\u001b[0m     \u001b[1;32mif\u001b[0m \u001b[0mresponse\u001b[0m \u001b[1;33m!=\u001b[0m \u001b[1;34m\"yes\"\u001b[0m\u001b[1;33m:\u001b[0m\u001b[1;33m\u001b[0m\u001b[1;33m\u001b[0m\u001b[0m\n\u001b[0;32m      5\u001b[0m         \u001b[1;32mbreak\u001b[0m\u001b[1;33m\u001b[0m\u001b[1;33m\u001b[0m\u001b[0m\n",
      "\u001b[1;31mNameError\u001b[0m: name 'play_the_game_once' is not defined"
     ]
    }
   ],
   "source": [
    "while True:\r\n",
    "    play_the_game_once()\r\n",
    "    response = input(\"Play again? (yes or no)\")\r\n",
    "    if response != \"yes\":\r\n",
    "        break\r\n",
    "print(\"Goodbye!\")"
   ]
  },
  {
   "cell_type": "markdown",
   "metadata": {},
   "source": [
    "**Hint: Think about where you want the exit test to happen.**\r\n",
    "\r\n",
    "Once you’ve recognized that you need a loop to repeat something, think about its terminating condition — when will I want to stop iterating? Then figure out whether you need to do the test before starting the first (and every other) iteration, or at the end of the first (and every other) iteration, or perhaps in the middle of each iteration. Interactive programs that require input from the user or read from files often need to exit their loops in the middle or at the end of an iteration, when it becomes clear that there is no more data to process, or the user doesn’t want to play our game anymore.\r\n",
    "\r\n",
    "## 17 - An example\r\n",
    "\r\n",
    "The following program implements a simple guessing game:"
   ]
  },
  {
   "cell_type": "code",
   "execution_count": 2,
   "metadata": {},
   "outputs": [
    {
     "data": {
      "text/plain": [
       "''"
      ]
     },
     "execution_count": 2,
     "metadata": {},
     "output_type": "execute_result"
    }
   ],
   "source": [
    "import random                   # We cover random numbers in the\r\n",
    "rng = random.Random()           #  modules chapter, so peek ahead.\r\n",
    "number = rng.randrange(1, 1000) # Get random number between [1 and 1000).\r\n",
    "\r\n",
    "guesses = 0\r\n",
    "msg = \"\"\r\n",
    "\r\n",
    "while True:\r\n",
    "    guess = int(input(msg + \"\\nGuess my number between 1 and 1000: \"))\r\n",
    "    guesses += 1\r\n",
    "    if guess > number:\r\n",
    "        msg += str(guess) + \" is too high.\\n\"\r\n",
    "    elif guess < number:\r\n",
    "        msg += str(guess) + \" is too low.\\n\"\r\n",
    "    else:\r\n",
    "        break\r\n",
    "\r\n",
    "input(\"\\n\\nGreat, you got it in {0} guesses!\\n\\n\".format(guesses))"
   ]
  },
  {
   "cell_type": "markdown",
   "metadata": {},
   "source": [
    "This program makes use of the mathematical law of **trichotomy** (given real numbers a and b, exactly one of these three must be true: a > b, a < b, or a == b).\r\n",
    "\r\n",
    "At line 18 there is a call to the input function, but we don’t do anything with the result, not even assign it to a variable. This is legal in Python. Here it has the effect of popping up the input dialog window and waiting for the user to respond before the program terminates. Programmers often use the trick of doing some extra input at the end of a script, just to keep the window open.\r\n",
    "\r\n",
    "Also notice the use of the msg variable, initially an empty string, on lines 6, 12 and 14. Each time through the loop we extend the message being displayed: this allows us to display the program’s feedback right at the same place as we’re asking for the next guess."
   ]
  },
  {
   "cell_type": "markdown",
   "metadata": {},
   "source": [
    "## 18 - The continue statement\r\n",
    "\r\n",
    "This is a control flow statement that causes the program to immediately skip the processing of the rest of the body of the loop, for the current iteration. But the loop still carries on running for its remaining iterations:"
   ]
  },
  {
   "cell_type": "code",
   "execution_count": null,
   "metadata": {},
   "outputs": [],
   "source": [
    "for i in [12, 16, 17, 24, 29, 30]:\r\n",
    "    if i % 2 == 1:      # If the number is odd\r\n",
    "       continue         # Don't process it\r\n",
    "    print(i)\r\n",
    "print(\"done\")"
   ]
  },
  {
   "cell_type": "markdown",
   "metadata": {},
   "source": [
    "## 19 - More generalization\r\n",
    "\r\n",
    "As another example of generalization, imagine you wanted a program that would print a multiplication table of any size, not just the six-by-six table. You could add a parameter to <font color=red>print_mult_table</font>:"
   ]
  },
  {
   "cell_type": "code",
   "execution_count": 3,
   "metadata": {},
   "outputs": [],
   "source": [
    "def print_mult_table(high):\r\n",
    "    for i in range(1, high+1):\r\n",
    "        print_multiples(i)"
   ]
  },
  {
   "cell_type": "markdown",
   "metadata": {},
   "source": [
    "This is fine, except that we probably want the table to be square — with the same number of rows and columns. To do that, we add another parameter to <font color=red>print_multiples</font> to specify how many columns the table should have.\r\n",
    "\r\n",
    "Just to be annoying, we call this parameter high, demonstrating that different functions can have parameters with the same name (just like local variables). Here’s the whole program:"
   ]
  },
  {
   "cell_type": "code",
   "execution_count": 7,
   "metadata": {},
   "outputs": [],
   "source": [
    "def print_multiples(n, high):\r\n",
    "    for i in range(1, high+1):\r\n",
    "        print(n * i, end=\"   \")\r\n",
    "    print()\r\n",
    "\r\n",
    "def print_mult_table(high):\r\n",
    "    for i in range(1, high+1):\r\n",
    "        print_multiples(i, high)"
   ]
  },
  {
   "cell_type": "markdown",
   "metadata": {},
   "source": [
    "Notice that when we added a new parameter, we had to change the first line of the function (the function heading), and we also had to change the place where the function is called in <font color=red>print_mult_table</font>."
   ]
  },
  {
   "cell_type": "markdown",
   "metadata": {},
   "source": [
    "## 20 - Functions\r\n",
    "\r\n",
    "A few times now, we have mentioned all the things functions are good for. By now, you might be wondering what exactly those things are. Here are some of them:\r\n",
    "\r\n",
    "1. Capturing your mental chunking. Breaking your complex tasks into sub-tasks, and giving the sub-tasks a meaningful name is a powerful mental technique. Look back at the example that illustrated the post-test loop: we assumed that we had a function called play_the_game_once. This chunking allowed us to put aside the details of the particular game — is it a card game, or noughts and crosses, or a role playing game — and simply focus on one isolated part of our program logic — letting the player choose whether they want to play again.\r\n",
    "2. Dividing a long program into functions allows you to separate parts of the program, debug them in isolation, and then compose them into a whole.\r\n",
    "3. Functions facilitate the use of iteration.\r\n",
    "4. Well-designed functions are often useful for many programs. Once you write and debug one, you can reuse it."
   ]
  },
  {
   "cell_type": "markdown",
   "metadata": {},
   "source": [
    "## 21 - Paired Data\r\n",
    "\r\n",
    "We’ve already seen lists of names and lists of numbers in Python. We’re going to peek ahead in the textbook a little, and show a more advanced way of representing our data. Making a pair of things in Python is as simple as putting them into parentheses, like this:"
   ]
  },
  {
   "cell_type": "code",
   "execution_count": 10,
   "metadata": {},
   "outputs": [],
   "source": [
    "year_born = (\"Paris Hilton\", 1981)"
   ]
  },
  {
   "cell_type": "markdown",
   "metadata": {},
   "source": [
    "We can put many pairs into a list of pairs:"
   ]
  },
  {
   "cell_type": "code",
   "execution_count": 13,
   "metadata": {},
   "outputs": [],
   "source": [
    "celebs = [(\"Brad Pitt\", 1963), (\"Jack Nicholson\", 1937),\r\n",
    "                                (\"Justin Bieber\", 1994)]"
   ]
  },
  {
   "cell_type": "markdown",
   "metadata": {},
   "source": [
    "Here is a quick sample of things we can do with structured data like this. First, print all the celebs:"
   ]
  },
  {
   "cell_type": "code",
   "execution_count": 14,
   "metadata": {},
   "outputs": [
    {
     "name": "stdout",
     "output_type": "stream",
     "text": [
      "[('Brad Pitt', 1963), ('Jack Nicholson', 1937), ('Justin Bieber', 1994)]\n",
      "3\n"
     ]
    },
    {
     "data": {
      "text/plain": [
       "3"
      ]
     },
     "execution_count": 14,
     "metadata": {},
     "output_type": "execute_result"
    }
   ],
   "source": [
    "print(celebs)\r\n",
    "print(len(celebs))\r\n",
    "[(\"Brad Pitt\", 1963), (\"Jack Nicholson\", 1937), (\"Justin Bieber\", 1994)]\r\n",
    "3"
   ]
  },
  {
   "cell_type": "markdown",
   "metadata": {},
   "source": [
    "Notice that the celebs list has just 3 elements, each of them pairs.\r\n",
    "\r\n",
    "Now we print the names of those celebrities born before 1980:"
   ]
  },
  {
   "cell_type": "code",
   "execution_count": 15,
   "metadata": {},
   "outputs": [
    {
     "name": "stdout",
     "output_type": "stream",
     "text": [
      "Brad Pitt\n",
      "Jack Nicholson\n"
     ]
    }
   ],
   "source": [
    "for (nm, yr) in celebs:\r\n",
    "   if yr < 1980:\r\n",
    "        print(nm)"
   ]
  },
  {
   "cell_type": "markdown",
   "metadata": {},
   "source": [
    "This demonstrates something we have not seen yet in the <font color=red>for</font> loop: instead of using a single loop control variable, we’ve used a pair of variable names, <font color=red>(nm, yr))</font>, instead. The loop is executed three times — once for each pair in the list, and on each iteration both the variables are assigned values from the pair of data that is being handled."
   ]
  },
  {
   "cell_type": "markdown",
   "metadata": {},
   "source": [
    "## 22 - Nested Loops fon Nested Data\r\n",
    "\r\n",
    "Now we’ll come up with an even more adventurous list of structured data. In this case, we have a list of students. Each student has a name which is paired up with another list of subjects that they are enrolled for:"
   ]
  },
  {
   "cell_type": "code",
   "execution_count": 16,
   "metadata": {},
   "outputs": [],
   "source": [
    "students = [\r\n",
    "    (\"John\", [\"CompSci\", \"Physics\"]),\r\n",
    "    (\"Vusi\", [\"Maths\", \"CompSci\", \"Stats\"]),\r\n",
    "    (\"Jess\", [\"CompSci\", \"Accounting\", \"Economics\", \"Management\"]),\r\n",
    "    (\"Sarah\", [\"InfSys\", \"Accounting\", \"Economics\", \"CommLaw\"]),\r\n",
    "    (\"Zuki\", [\"Sociology\", \"Economics\", \"Law\", \"Stats\", \"Music\"])]"
   ]
  },
  {
   "cell_type": "markdown",
   "metadata": {},
   "source": [
    "Here we’ve assigned a list of five elements to the variable <font color=red>students</font>. Let’s print out each student name, and the number of subjects they are enrolled for:"
   ]
  },
  {
   "cell_type": "code",
   "execution_count": 17,
   "metadata": {},
   "outputs": [
    {
     "name": "stdout",
     "output_type": "stream",
     "text": [
      "John takes 2 courses\n",
      "Vusi takes 3 courses\n",
      "Jess takes 4 courses\n",
      "Sarah takes 4 courses\n",
      "Zuki takes 5 courses\n"
     ]
    }
   ],
   "source": [
    "# Print all students with a count of their courses.\r\n",
    "for (name, subjects) in students:\r\n",
    "    print(name, \"takes\", len(subjects), \"courses\")"
   ]
  },
  {
   "cell_type": "markdown",
   "metadata": {},
   "source": [
    "Now we’d like to ask how many students are taking CompSci. This needs a counter, and for each student we need a second loop that tests each of the subjects in turn:"
   ]
  },
  {
   "cell_type": "code",
   "execution_count": 18,
   "metadata": {},
   "outputs": [
    {
     "name": "stdout",
     "output_type": "stream",
     "text": [
      "The number of students taking CompSci is 3\n"
     ]
    }
   ],
   "source": [
    "# Count how many students are taking CompSci\r\n",
    "counter = 0\r\n",
    "for (name, subjects) in students:\r\n",
    "    for s in subjects:                 # A nested loop!\r\n",
    "        if s == \"CompSci\":\r\n",
    "           counter += 1\r\n",
    "\r\n",
    "print(\"The number of students taking CompSci is\", counter)"
   ]
  },
  {
   "cell_type": "markdown",
   "metadata": {},
   "source": [
    "## 23 - Algorithms\r\n",
    "\r\n",
    "An algorithm is a mechanical process for solving a category of problems (in this case, computing square roots).\r\n",
    "\r\n",
    "ome kinds of knowledge are not algorithmic. For example, learning dates from history or your multiplication tables involves memorization of specific solutions.\r\n",
    "\r\n",
    "But the techniques you learned for addition with carrying, subtraction with borrowing, and long division are all algorithms. Or if you are an avid Sudoku puzzle solver, you might have some specific set of steps that you always follow.\r\n",
    "\r\n",
    "One of the characteristics of algorithms is that they do not require any intelligence to carry out. They are mechanical processes in which each step follows from the last according to a simple set of rules. And they’re designed to solve a general class or category of problems, not just a single problem.\r\n",
    "\r\n",
    "Understanding that hard problems can be solved by step-by-step algorithmic processes (and having technology to execute these algorithms for us) is one of the major breakthroughs that has had enormous benefits. So while the execution of the algorithm may be boring and may require no intelligence, algorithmic or computational thinking — i.e. using algorithms and automation as the basis for approaching problems — is rapidly transforming our society. Some claim that this shift towards algorithmic thinking and processes is going to have even more impact on our society than the invention of the printing press. And the process of designing algorithms is interesting, intellectually challenging, and a central part of what we call programming.\r\n",
    "\r\n",
    "Some of the things that people do naturally, without difficulty or conscious thought, are the hardest to express algorithmically. Understanding natural language is a good example. We all do it, but so far no one has been able to explain how we do it, at least not in the form of a step-by-step mechanical algorithm."
   ]
  },
  {
   "cell_type": "markdown",
   "metadata": {},
   "source": [
    "## 25 - Glossary\r\n",
    "\r\n",
    "**algorithm**\r\n",
    "\r\n",
    "A step-by-step process for solving a category of problems.\r\n",
    "\r\n",
    "**body**\r\n",
    "\r\n",
    "The statements inside a loop.\r\n",
    "\r\n",
    "**breakpoint**\r\n",
    "\r\n",
    "A place in your program code where program execution will pause (or break), allowing you to inspect the state of the program’s variables, or single-step through individual statements, executing them one at a time.\r\n",
    "\r\n",
    "**bump**\r\n",
    "\r\n",
    "Programmer slang. Synonym for increment.\r\n",
    "\r\n",
    "**continue statement**\r\n",
    "\r\n",
    "A statement that causes the remainder of the current iteration of a loop to be skipped. The flow of execution goes back to the top of the loop, evaluates the condition, and if this is true the next iteration of the loop will begin.\r\n",
    "\r\n",
    "**counter**\r\n",
    "\r\n",
    "A variable used to count something, usually initialized to zero and incremented in the body of a loop.\r\n",
    "\r\n",
    "**cursor**\r\n",
    "\r\n",
    "An invisible marker that keeps track of where the next character will be printed.\r\n",
    "\r\n",
    "**decrement**\r\n",
    "\r\n",
    "Decrease by 1.\r\n",
    "\r\n",
    "**definite iteration**\r\n",
    "\r\n",
    "A loop where we have an upper bound on the number of times the body will be executed. Definite iteration is usually best coded as a for loop.\r\n",
    "\r\n",
    "**development plan**\r\n",
    "\r\n",
    "A process for developing a program. In this chapter, we demonstrated a style of development based on developing code to do simple, specific things and then encapsulating and generalizing.\r\n",
    "\r\n",
    "**encapsulate**\r\n",
    "\r\n",
    "To divide a large complex program into components (like functions) and isolate the components from each other (by using local variables, for example).\r\n",
    "\r\n",
    "**escape sequence**\r\n",
    "\r\n",
    "An escape character,\\, followed by one or more printable characters used to designate a non printable character.\r\n",
    "\r\n",
    "**generalize**\r\n",
    "\r\n",
    "To replace something unnecessarily specific (like a constant value) with something appropriately general (like a variable or parameter). Generalization makes code more versatile, more likely to be reused, and sometimes even easier to write.\r\n",
    "\r\n",
    "**increment**\r\n",
    "\r\n",
    "Both as a noun and as a verb, increment means to increase by 1.\r\n",
    "\r\n",
    "**infinite loop**\r\n",
    "\r\n",
    "A loop in which the terminating condition is never satisfied.\r\n",
    "\r\n",
    "**indefinite iteration**\r\n",
    "\r\n",
    "A loop where we just need to keep going until some condition is met. A while statement is used for this case.\r\n",
    "\r\n",
    "**initialization (of a variable)**\r\n",
    "\r\n",
    "To initialize a variable is to give it an initial value. Since in Python, variables don’t exist until they are assigned values, they are initialized when they are created. In other programming languages this is not the case, and variables can be created without being initialized, in which case they have either default or garbage values.\r\n",
    "\r\n",
    "**iteration\r\n",
    "\r\n",
    "Repeated execution of a set of programming statements.\r\n",
    "\r\n",
    "**loop**\r\n",
    "\r\n",
    "The construct that allows allows us to repeatedly execute a statement or a group of statements until a terminating condition is satisfied.\r\n",
    "\r\n",
    "**loop variable**\r\n",
    "\r\n",
    "A variable used as part of the terminating condition of a loop.\r\n",
    "\r\n",
    "**meta-notation**\r\n",
    "\r\n",
    "Extra symbols or notation that helps describe other notation. Here we introduced square brackets, ellipses, italics, and bold as meta-notation to help describe optional, repeatable, substitutable and fixed parts of the Python syntax.\r\n",
    "\r\n",
    "**middle-test loop**\r\n",
    "\r\n",
    "A loop that executes some of the body, then tests for the exit condition, and then may execute some more of the body. We don’t have a special Python construct for this case, but can use while and break together.\r\n",
    "\r\n",
    "**nested loop**\r\n",
    "\r\n",
    "A loop inside the body of another loop.\r\n",
    "\r\n",
    "newline\r\n",
    "\r\n",
    "A special character that causes the cursor to move to the beginning of the next line.\r\n",
    "\r\n",
    "**post-test loop**\r\n",
    "\r\n",
    "A loop that executes the body, then tests for the exit condition. We don’t have a special Python construct for this, but can use while and break together.\r\n",
    "\r\n",
    "pre-test loop\r\n",
    "\r\n",
    "A loop that tests before deciding whether the execute its body. for and while are both pre-test loops.\r\n",
    "\r\n",
    "**single-step**\r\n",
    "\r\n",
    "A mode of interpreter execution where you are able to execute your program one step at a time, and inspect the consequences of that step. Useful for debugging and building your internal mental model of what is going on.\r\n",
    "\r\n",
    "**tab**\r\n",
    "\r\n",
    "A special character that causes the cursor to move to the next tab stop on the current line.\r\n",
    "\r\n",
    "**trichotomy**\r\n",
    "\r\n",
    "Given any real numbers a and b, exactly one of the following relations holds: a < b, a > b, or a == b. Thus when you can establish that two of the relations are false, you can assume the remaining one is true.\r\n",
    "\r\n",
    "**trace**\r\n",
    "\r\n",
    "To follow the flow of execution of a program by hand, recording the change of state of the variables and any output produced."
   ]
  },
  {
   "cell_type": "markdown",
   "metadata": {},
   "source": [
    "All sources taken from https://learnpythontherightway.com/chapter/chapter-7.html"
   ]
  }
 ],
 "metadata": {
  "interpreter": {
   "hash": "f68e61caeab01811d454eb4754408d1806be5e67dd02727cb2161863c5c2164d"
  },
  "kernelspec": {
   "display_name": "Python 3.8.5 64-bit ('base': conda)",
   "name": "python3"
  },
  "language_info": {
   "name": "python",
   "version": ""
  },
  "orig_nbformat": 4
 },
 "nbformat": 4,
 "nbformat_minor": 2
}